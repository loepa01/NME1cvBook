{
 "cells": [
  {
   "cell_type": "markdown",
   "metadata": {},
   "source": [
    "(ukol1)=\n",
    "# Zápočtový úkol 1"
   ]
  },
  {
   "cell_type": "markdown",
   "metadata": {},
   "source": [
    "<div style=\"margin-top: 25px; margin-bottom: 25px; padding-top: 0px; padding-bottom: 0px; padding-left: 0px; padding-right: 0px; border-radius: 4px; border-color: #E0B32C; border-right-width: 1px; border-top-width: 1px; border-bottom-width: 1px; border-left-width: 3px; border-style: solid\">\n",
    "<div style=\"background: #FFF3CD; color: #000000; padding-left: 20px; padding-top: 10px; padding-bottom: 10px; border-radius: 1px 3px 0px 0px; font-weight: 600\">Úkol - zápočet 1</div>\n",
    "<div style=\"padding-left: 20px; padding-right: 20px; padding-top: 0px; padding-bottom: 0px; border-radius: 0px 0px 3px 3px\">\n",
    "<p>\n",
    "\n",
    "Implementujte funkci o jednom parametru $n \\in \\mathbb{N}_0$, která vrací prvních $n$ členů [Maclaurinovy řady](https://cs.wikipedia.org/wiki/Taylorova_%C5%99ada#Maclaurinova_%C5%99ada) (Taylorova řada pro $a = 0$) funkce:\n",
    "\n",
    "$$\n",
    "\\sin{(x)} = \\sum_{k = 0}^{n} \\frac{(-1)^k}{(2 k + 1)!} x^{2k + 1}\n",
    "$$\n",
    "\n",
    "ve formátu [`numpy.poly1d`](https://numpy.org/doc/stable/reference/generated/numpy.poly1d.html).\n",
    "\n",
    "Dále napište funkci, která spočítá relativní chybu aproximace této funkce pro libovolné $x \\in \\mathbb{R}$ a $n \\in \\mathbb{N}_0$.\n",
    "Vypiště hodnotu relativní chyby pro $ x = \\pi \\, / \\, 2 $ a $ n = 2$ na 16 platných míst.\n",
    "\n",
    "Najděte $ n $ takové, pro které je relativní chyba v $ x = \\pi \\, / \\, 2 $ menší než $ 200 \\, \\varepsilon $, kde $ \\varepsilon $ je strojová přesnost pro  64-bitovou floating-point reprezentaci desetinných čísel (`np.float64`). Vypište nalezenou hodnotu $n$.\n",
    "</p>\n",
    "</div>\n",
    "</div>"
   ]
  },
  {
   "cell_type": "code",
   "execution_count": null,
   "metadata": {},
   "outputs": [],
   "source": []
  }
 ],
 "metadata": {
  "language_info": {
   "name": "python"
  }
 },
 "nbformat": 4,
 "nbformat_minor": 2
}
