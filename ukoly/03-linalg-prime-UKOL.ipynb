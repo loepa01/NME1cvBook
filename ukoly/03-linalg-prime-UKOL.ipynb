{
 "cells": [
  {
   "cell_type": "markdown",
   "metadata": {},
   "source": [
    "(ukol2)=\n",
    "# Zápočtový úkol 2\n",
    "\n",
    "[LU dekompozice](lu_decomp) a její využití."
   ]
  },
  {
   "cell_type": "markdown",
   "metadata": {},
   "source": [
    "\n",
    "<div style=\"margin-top: 25px; margin-bottom: 25px; padding-top: 0px; padding-bottom: 0px; padding-left: 0px; padding-right: 0px; border-radius: 4px; border-color: #E0B32C; border-right-width: 1px; border-top-width: 1px; border-bottom-width: 1px; border-left-width: 3px; border-style: solid\">\n",
    "<div style=\"background: #FFF3CD; color: #000000; padding-left: 20px; padding-top: 10px; padding-bottom: 10px; border-radius: 1px 3px 0px 0px; font-weight: 600\">Úkol</div>\n",
    "<div style=\"padding-left: 20px; padding-right: 20px; padding-top: 0px; padding-bottom: 0px; border-radius: 0px 0px 3px 3px\">\n",
    "<p>\n",
    "\n",
    "Implementujte LU dekompozici a aplikujte ji na řešení soustavy linearních rovnic. Můžete využít *zpětné substituce* výše. *Dopřednou substituci* ($\\mathbb{L} y = b$) je třeba doimplementovat zvlášť. Správnost ověřte pomocí knihovní funkce [`scipy.linalg.solve()`](https://docs.scipy.org/doc/scipy/reference/generated/scipy.linalg.solve.html) aplikovanou na náhodnou matici $\\mathbb{A}$ a náhodné vektory $\\vec{b}_1$, $\\vec{b}_2$ a $\\vec{b}_3$.\n",
    "\n",
    "Pomocí LU dekompozice spočítejte determinant matice $\\mathbb{A}$. Využite vlastnosti determinantu součinu matic a tvaru matic $\\mathbb{L}$ a $\\mathbb{U}$ pro odvození zjednodušeného vzorce. Výsledek opět zkontrolujte pomocí knihovní funkce `numpy.linalg.det()`. Jaká je složitost (v rámci [big-O notace](big_O)) výpočtu determinantu pomocí *LU dekompozice* oproti přímému použití vzorečku z [definice determinantu](https://cs.wikipedia.org/wiki/Determinant)?\n",
    "</p>\n",
    "</div>\n",
    "</div>"
   ]
  },
  {
   "cell_type": "code",
   "execution_count": 2,
   "metadata": {},
   "outputs": [],
   "source": [
    "import numpy as np\n",
    "import matplotlib.pyplot as plt"
   ]
  },
  {
   "cell_type": "code",
   "execution_count": 3,
   "metadata": {},
   "outputs": [],
   "source": [
    "A = np.random.rand(4,4)\n",
    "b1 = np.random.rand(4)\n",
    "b2 = np.random.rand(4)\n",
    "b3 = np.random.rand(4)\n",
    "\n",
    "## DOPLŇTE ##"
   ]
  }
 ],
 "metadata": {
  "kernelspec": {
   "display_name": "Python 3",
   "language": "python",
   "name": "python3"
  },
  "language_info": {
   "codemirror_mode": {
    "name": "ipython",
    "version": 3
   },
   "file_extension": ".py",
   "mimetype": "text/x-python",
   "name": "python",
   "nbconvert_exporter": "python",
   "pygments_lexer": "ipython3",
   "version": "3.10.7"
  }
 },
 "nbformat": 4,
 "nbformat_minor": 2
}
