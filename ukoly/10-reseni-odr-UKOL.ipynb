{
 "cells": [
  {
   "cell_type": "markdown",
   "metadata": {},
   "source": [
    "(ukol4)=\n",
    "# Zápočtový úkol 4\n",
    "\n",
    "<div style=\"margin-top: 25px; margin-bottom: 25px; padding-top: 0px; padding-bottom: 0px; padding-left: 0px; padding-right: 0px; border-radius: 4px; border-color: #E0B32C; border-right-width: 1px; border-top-width: 1px; border-bottom-width: 1px; border-left-width: 3px; border-style: solid\">\n",
    "<div style=\"background: #FFF3CD; color: #000000; padding-left: 20px; padding-top: 10px; padding-bottom: 10px; border-radius: 1px 3px 0px 0px; font-weight: 600\">Úkol - zápočet 4</div>\n",
    "<div style=\"padding-left: 20px; padding-right: 20px; padding-top: 0px; padding-bottom: 0px; border-radius: 0px 0px 3px 3px\">\n",
    "<p>\n",
    "\n",
    "Pomocí Runge-Kuttovy metody 4. řádu řešte následující ODR druhého řádu pro [Van der Polův oscilátor](https://en.wikipedia.org/wiki/Van_der_Pol_oscillator):\n",
    "\n",
    "$$\n",
    "y^{\\prime \\prime} + \\varepsilon \\left(y^2 - 1\\right) y^{\\prime} + y = 0,\n",
    "$$\n",
    "\n",
    "s počáteční podmínkou:\n",
    "\n",
    "$$\n",
    "y^{\\prime}(0) = 1, \\hspace{5pt} y(0) = 1.\n",
    "$$\n",
    "\n",
    "Diferenciální rovnici je třeba převést na soustavu dvou ODR 1. řádu a pak aplikovat metodu RK4.\n",
    "Jak se liší chování dynamického systému pro $\\varepsilon = 0.2$ a $\\varepsilon = 4$? Vykreslete řešení pro obě možnosti a okomentujte výslednou křivku. Zvolte časový interval dostatečně dlouhý tak, aby se chování oscilátoru ustálilo. \n",
    "</p>\n",
    "</div>\n",
    "</div>"
   ]
  },
  {
   "cell_type": "code",
   "execution_count": null,
   "metadata": {},
   "outputs": [],
   "source": [
    "## DOPLŇTE ##"
   ]
  }
 ],
 "metadata": {
  "kernelspec": {
   "display_name": "Python 3",
   "language": "python",
   "name": "python3"
  },
  "language_info": {
   "codemirror_mode": {
    "name": "ipython",
    "version": 3
   },
   "file_extension": ".py",
   "mimetype": "text/x-python",
   "name": "python",
   "nbconvert_exporter": "python",
   "pygments_lexer": "ipython3",
   "version": "3.10.7"
  }
 },
 "nbformat": 4,
 "nbformat_minor": 2
}
