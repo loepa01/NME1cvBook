{
 "cells": [
  {
   "cell_type": "markdown",
   "metadata": {},
   "source": [
    "# Metody lineární algebry"
   ]
  },
  {
   "cell_type": "code",
   "execution_count": 211,
   "metadata": {},
   "outputs": [],
   "source": [
    "import numpy as np\n",
    "import scipy.linalg as la\n",
    "import matplotlib.pyplot as plt"
   ]
  },
  {
   "cell_type": "markdown",
   "metadata": {},
   "source": [
    "## Základní operace s maticemi"
   ]
  },
  {
   "cell_type": "markdown",
   "metadata": {},
   "source": [
    "### Scalar product\n",
    "\n",
    "[Skalární součin](https://en.wikipedia.org/wiki/Dot_product) dvou vektorů $ \\vec{x} \\in \\mathbb{R}^{n} $ a $ \\vec{y} \\in \\mathbb{R}^{n} $ je definován následovně: \n",
    "\n",
    "$$\n",
    "\\vec{x} \\cdot \\vec{y} = \\sum_{i=0}^{n-1} x_i y_i.\n",
    "$$\n",
    "\n",
    "<div style=\"margin-top: 25px; margin-bottom: 25px; padding-top: 0px; padding-bottom: 0px; padding-left: 0px; padding-right: 0px; border-radius: 4px; border-color: #E0B32C; border-right-width: 1px; border-top-width: 1px; border-bottom-width: 1px; border-left-width: 3px; border-style: solid\">\n",
    "<div style=\"background: #FFF3CD; color: #000000; padding-left: 20px; padding-top: 10px; padding-bottom: 10px; border-radius: 1px 3px 0px 0px; font-weight: 600\">Úkol</div>\n",
    "<div style=\"padding-left: 20px; padding-right: 20px; padding-top: 0px; padding-bottom: 0px; border-radius: 0px 0px 3px 3px\">\n",
    "<p>\n",
    "\n",
    "Napište funkci, která počítá skalární součin dvou vektorů. Nepoužijte žádné knihovní funkce (`np.dot()` nebo operátoru `@`). Zkontrolujte správnost pomocí vhodné knihovní funkce.\n",
    "\n",
    "<div style=\"margin-top: 25px; margin-bottom: 25px; padding-top: 0px; padding-bottom: 0px; padding-left: 0px; padding-right: 0px; border-radius: 4px; border-color: #00843F; border-right-width: 1px; border-top-width: 1px; border-bottom-width: 1px; border-left-width: 3px; border-style: solid\">\n",
    "<div style=\"background: #D6ECE1; color: #000000; padding-left: 20px; padding-top: 10px; padding-bottom: 10px; border-radius: 1px 3px 0px 0px; font-weight: 600\">Tip</div>\n",
    "<div style=\"padding-left: 20px; padding-right: 20px; padding-top: 0px; padding-bottom: 0px; border-radius: 0px 0px 3px 3px\">\n",
    "<p>\n",
    "\n",
    "Pro získání rozměrů matice nebo vektoru můžete použít `x.shape`, `A.shape[i]` (velikost v i-tém směru) nebo `np.shape(A)[i]`.\n",
    "</p>\n",
    "</div>\n",
    "</div>\n",
    "</p>\n",
    "</div>\n",
    "</div>"
   ]
  },
  {
   "cell_type": "code",
   "execution_count": 212,
   "metadata": {},
   "outputs": [
    {
     "name": "stdout",
     "output_type": "stream",
     "text": [
      "[0.83139346 0.13063298 0.57990023] [0.59881827 0.20268352 0.02221312]\n",
      "0.5372121429785394 0.5372121429785394\n"
     ]
    }
   ],
   "source": [
    "x = np.random.rand(3)\n",
    "y = np.random.rand(3)\n",
    "print(x,y)\n",
    "\n",
    "def skalarni_soucin(x, y):\n",
    "    ## DOPLŇTE ##\n",
    "    s = 0\n",
    "    for i in range(len(x)):\n",
    "        s += x[i]*y[i]\n",
    "    return s\n",
    "\n",
    "print(skalarni_soucin(x,y), np.dot(x,y))"
   ]
  },
  {
   "cell_type": "markdown",
   "metadata": {},
   "source": [
    "### Součin matice s vektorem\n",
    "\n",
    "Součin matice $ \\mathbb{A} \\in \\mathbb{R}^{m \\ \\times \\ n} $ a vektoru $ \\vec{x} \\in \\mathbb{R}^{n} $ je definován následovně:\n",
    "\n",
    "$$\n",
    "y_i = (\\mathbb{A} \\cdot \\vec{x})_i = \\sum_{j = 0}^{n-1} a_{ij} x_j, \\quad i = 0, 1, \\dots, m-1.\n",
    "$$\n",
    "\n",
    "<div style=\"margin-top: 25px; margin-bottom: 25px; padding-top: 0px; padding-bottom: 0px; padding-left: 0px; padding-right: 0px; border-radius: 4px; border-color: #E0B32C; border-right-width: 1px; border-top-width: 1px; border-bottom-width: 1px; border-left-width: 3px; border-style: solid\">\n",
    "<div style=\"background: #FFF3CD; color: #000000; padding-left: 20px; padding-top: 10px; padding-bottom: 10px; border-radius: 1px 3px 0px 0px; font-weight: 600\">Úkol</div>\n",
    "<div style=\"padding-left: 20px; padding-right: 20px; padding-top: 0px; padding-bottom: 0px; border-radius: 0px 0px 3px 3px\">\n",
    "<p>\n",
    "\n",
    "Napište funkci, která počítá součin matice s vektorem. Nepoužijte žádné knihovní funkce (`np.dot()` nebo operátoru `@`). Zkontrolujte správnost pomocí vhodné knihovní funkce.\n",
    "</p>\n",
    "</div>\n",
    "</div>"
   ]
  },
  {
   "cell_type": "code",
   "execution_count": 213,
   "metadata": {},
   "outputs": [
    {
     "name": "stdout",
     "output_type": "stream",
     "text": [
      "[[0.772886   0.22015307 0.76517971 0.06616971]\n",
      " [0.83894046 0.2041534  0.86375422 0.5972472 ]\n",
      " [0.34786499 0.6228571  0.35128022 0.68299252]] [0.23429355 0.56975239 0.07411743 0.6347202 ]\n",
      "[0.40522735 0.75597933 0.89592198] [0.40522735 0.75597933 0.89592198]\n"
     ]
    }
   ],
   "source": [
    "A = np.random.rand(3,4)\n",
    "x = np.random.rand(4)\n",
    "print(A,x)\n",
    "\n",
    "def soucin_matice_vektor(A, x):\n",
    "    ## DOPLŇTE ##\n",
    "    y = np.zeros(shape=A.shape[0])\n",
    "    for i in range(A.shape[0]):\n",
    "        for j in range(A.shape[1]):\n",
    "            y[i] += A[i,j]*x[j]\n",
    "    return y\n",
    "\n",
    "print(soucin_matice_vektor(A,x), np.dot(A,x))"
   ]
  },
  {
   "cell_type": "markdown",
   "metadata": {},
   "source": [
    "### Součin matice s maticí\n",
    "\n",
    "[Součin dvou matic](https://en.wikipedia.org/wiki/Matrix_multiplication) $ \\mathbb{A} \\in \\mathbb{R}^{m \\ \\times \\ n}  $ a $ \\mathbb{B} \\in \\mathbb{R}^{n \\ \\times \\ p}  $ je definován následovně:\n",
    "\n",
    "$$\n",
    "(\\mathbb{A} \\cdot \\mathbb{B})_{ij} = \\sum_{k = 0}^{n-1} a_{ik} b_{kj}, \\qquad i = 0, 1, \\dots, m-1, \\quad j = 0, 1, \\dots, p-1.\n",
    "$$\n",
    "\n",
    "<div style=\"margin-top: 25px; margin-bottom: 25px; padding-top: 0px; padding-bottom: 0px; padding-left: 0px; padding-right: 0px; border-radius: 4px; border-color: #E0B32C; border-right-width: 1px; border-top-width: 1px; border-bottom-width: 1px; border-left-width: 3px; border-style: solid\">\n",
    "<div style=\"background: #FFF3CD; color: #000000; padding-left: 20px; padding-top: 10px; padding-bottom: 10px; border-radius: 1px 3px 0px 0px; font-weight: 600\">Úkol</div>\n",
    "<div style=\"padding-left: 20px; padding-right: 20px; padding-top: 0px; padding-bottom: 0px; border-radius: 0px 0px 3px 3px\">\n",
    "<p>\n",
    "\n",
    "Napište funkci, která počítá součin dvou matic. Nepoužijte žádné knihovní funkce (`np.dot()` nebo operátoru `@`). Zkontrolujte správnost pomocí vhodné knihovní funkce.\n",
    "</p>\n",
    "</div>\n",
    "</div>"
   ]
  },
  {
   "cell_type": "code",
   "execution_count": 214,
   "metadata": {},
   "outputs": [
    {
     "name": "stdout",
     "output_type": "stream",
     "text": [
      "[[0.93900362 0.93254905 0.8398923  0.59719839]\n",
      " [0.21166823 0.47156266 0.00412861 0.90073539]\n",
      " [0.76013947 0.96621237 0.7792041  0.62534165]]\n",
      "[[0.57859143 0.18468811 0.87793734]\n",
      " [0.59642606 0.62035412 0.31216708]\n",
      " [0.50617326 0.34315774 0.90202306]\n",
      " [0.53664633 0.29167536 0.64022396]]\n",
      "[[1.84511135 1.21433705 2.25544038]\n",
      " [0.88918782 0.59576753 0.91343427]\n",
      " [1.746084   1.18956922 2.07219329]]\n",
      "[[1.84511135 1.21433705 2.25544038]\n",
      " [0.88918782 0.59576753 0.91343427]\n",
      " [1.746084   1.18956922 2.07219329]]\n"
     ]
    }
   ],
   "source": [
    "A = np.random.rand(3,4)\n",
    "B = np.random.rand(4,3)\n",
    "print(A)\n",
    "print(B)\n",
    "\n",
    "def soucin_matic(A, B):\n",
    "    ## DOPLŇTE ##\n",
    "    C = np.zeros(shape=[A.shape[0], B.shape[1]])\n",
    "    for i in range(A.shape[0]):\n",
    "        for j in range(B.shape[1]):\n",
    "            for k in range(A.shape[1]):\n",
    "                C[i,j] += A[i,k]*B[k,j]\n",
    "    return C\n",
    "\n",
    "print(soucin_matic(A,B))\n",
    "print(np.dot(A,B))        "
   ]
  },
  {
   "cell_type": "markdown",
   "metadata": {},
   "source": [
    "K snadnějšímu otestování správnosti lze použít následující funkci, která porovná výsledeky na zvolený počet míst:"
   ]
  },
  {
   "cell_type": "code",
   "execution_count": 215,
   "metadata": {},
   "outputs": [
    {
     "name": "stdout",
     "output_type": "stream",
     "text": [
      "The implementation is correct.\n"
     ]
    }
   ],
   "source": [
    "try:\n",
    "    np.testing.assert_array_almost_equal(soucin_matic(A, B), np.dot(A, B), decimal=7)\n",
    "except AssertionError as E:\n",
    "    print(E)\n",
    "else:\n",
    "    print(\"The implementation is correct.\")"
   ]
  },
  {
   "cell_type": "markdown",
   "metadata": {},
   "source": [
    "## Řešení soustavy lineárních rovnic\n",
    "\n",
    "Hlavní úlohou lineární algebry je řešení soustavy rovnic. Tuto úlohu dokáže počítat řešit stejně jako člověk, jelikož známe algoritmy s konečným počtem kroků. Stačí tedy provést konečný počet aritmetických operací s konečným počtem čísel.\n",
    "\n",
    "Jelikož tento typ lze snadno řešit na počítači, často se jiné úlohy převádí právě na soustavu lineárních rovnic, kterou dokážeme řešit. Příkladem tohoto postupu je řešení *obyčejných diferenciálních rovnic* (ODR) nebo *parciálních diferenciálních rovnic* (PDR), se kterými se setkáme v [poslední kapitole](metoda_siti).\n",
    "\n",
    "Matematicky můžeme problém zapsat následovně:\n",
    "\n",
    "$$\n",
    "\\mathbb{A}\\vec{x} = \\vec{b}.\n",
    "$$\n",
    "\n",
    "Metody řešící soustavu lineárních rovnic můžeme rozdělit do tří skupin:\n",
    "* **Metody přímé** - přímý běh s daným počtem kroků podle velikosti matice\n",
    "* **Metody iterační** - postupné zpřesňování výsledku\n",
    "* **Metody optimalizační** - minimalizace funkce $|\\mathbb{A}\\vec{x} - \\vec{b}|$ gradientími metodami (viz [kapitola 8](extremy))"
   ]
  },
  {
   "cell_type": "markdown",
   "metadata": {},
   "source": [
    "## Přímé metody pro řešení soustavy lineárních rovnic"
   ]
  },
  {
   "cell_type": "markdown",
   "metadata": {},
   "source": [
    "### Gaussova eliminace\n",
    "\n",
    "[Gaussova eleminace](https://en.wikipedia.org/wiki/Gaussian_elimination) je algoritmus, který transformuje libovolnou matici na horní (nebo dolní) trojúhelníkovou. To výrazně zjednodušší celou soustavu. Řešení pak lze spočítat pomocí tzv. *zpětného běhu*. Jednotlivé kroky celého algoritmu si zde ukážeme.\n",
    "\n",
    "![Gaussova eliminace postup](../images/gauss_elim.png)"
   ]
  },
  {
   "cell_type": "markdown",
   "metadata": {},
   "source": [
    "**Dopředný běh**\n",
    "\n",
    "Matici $ \\mathbb{A} \\in \\mathbb{R}^{n \\ \\times \\ n} $ je možné transformovat na horní trojúhelníkovou pomocí vzorce:\n",
    "\n",
    "$$\n",
    "\\begin{align}\n",
    "a_{jk} &:= a_{jk} - \\frac{a_{ji}}{a_{ii}} a_{ik}, \\qquad i = 0, 1, \\dots, n-1, \\quad j = i + 1, i + 2, \\dots, n-1, \\quad k = 0, 1, \\dots, n-1, \\\\\n",
    "b_{j} &:= b_{j}- \\frac{a_{ji}}{a_{ii}} b_{i}, \\qquad i = 0, 1, \\dots, n-1, \\quad j = i + 1, i + 2, \\dots, n-1.\n",
    "\\end{align}\n",
    "$$\n",
    "\n",
    "<div style=\"margin-top: 25px; margin-bottom: 25px; padding-top: 0px; padding-bottom: 0px; padding-left: 0px; padding-right: 0px; border-radius: 4px; border-color: #E0B32C; border-right-width: 1px; border-top-width: 1px; border-bottom-width: 1px; border-left-width: 3px; border-style: solid\">\n",
    "<div style=\"background: #FFF3CD; color: #000000; padding-left: 20px; padding-top: 10px; padding-bottom: 10px; border-radius: 1px 3px 0px 0px; font-weight: 600\">Úkol</div>\n",
    "<div style=\"padding-left: 20px; padding-right: 20px; padding-top: 0px; padding-bottom: 0px; border-radius: 0px 0px 3px 3px\">\n",
    "<p>\n",
    "\n",
    "Implementujte Gaussovu eliminaci, tedy převedení libovolné matice na horní trojúhelníkovou, pomocí uvedeného vzorce. Jaká je složitost celého algoritmu?\n",
    "\n",
    "<div style=\"margin-top: 25px; margin-bottom: 25px; padding-top: 0px; padding-bottom: 0px; padding-left: 0px; padding-right: 0px; border-radius: 4px; border-color: #00843F; border-right-width: 1px; border-top-width: 1px; border-bottom-width: 1px; border-left-width: 3px; border-style: solid\">\n",
    "<div style=\"background: #D6ECE1; color: #000000; padding-left: 20px; padding-top: 10px; padding-bottom: 10px; border-radius: 1px 3px 0px 0px; font-weight: 600\">Tip</div>\n",
    "<div style=\"padding-left: 20px; padding-right: 20px; padding-top: 0px; padding-bottom: 0px; border-radius: 0px 0px 3px 3px\">\n",
    "<p>\n",
    "\n",
    "Dejte si pozor na nechtěné přepsání hodnoty $a_{ji}$, která je potřeba k aktualizaci celého řádku!\n",
    "</p>\n",
    "</div>\n",
    "</div>\n",
    "</p>\n",
    "</div>\n",
    "</div>"
   ]
  },
  {
   "cell_type": "code",
   "execution_count": 216,
   "metadata": {},
   "outputs": [
    {
     "name": "stdout",
     "output_type": "stream",
     "text": [
      "[[0.9914132  0.9120253  0.93381036 0.48088198]\n",
      " [0.17055387 0.71826111 0.06099502 0.55454411]\n",
      " [0.53817095 0.35579706 0.89299434 0.10290006]\n",
      " [0.51595647 0.43741892 0.57752847 0.79708226]] [0.32254751 0.97139026 0.59510652 0.31278152]\n",
      "[[ 0.9914132   0.9120253   0.93381036  0.48088198]\n",
      " [ 0.          0.56136442 -0.09964938  0.47181747]\n",
      " [ 0.          0.          0.36136816 -0.04107597]\n",
      " [ 0.          0.          0.          0.58775892]]\n"
     ]
    }
   ],
   "source": [
    "A = np.random.rand(4,4)\n",
    "b = np.random.rand(4)\n",
    "print(A, b)\n",
    "\n",
    "def gauss_elim_dopredna(A, b):\n",
    "    A = A.copy()\n",
    "    b = b.copy()\n",
    "    ## DOPLŇTE ##\n",
    "    for i in range(A.shape[0]):\n",
    "        for j in range(i+1,A.shape[0]):\n",
    "            a = A[j,i]\n",
    "            for k in range(0,A.shape[1]):\n",
    "                A[j,k] -= a / A[i,i] * A[i,k]\n",
    "            b[j] -= a / A[i,i] * b[i]\n",
    "    return A,b\n",
    "\n",
    "B,_ = gauss_elim_dopredna(A,b)     \n",
    "print(B)"
   ]
  },
  {
   "cell_type": "markdown",
   "metadata": {},
   "source": [
    "**Zpětný běh**\n",
    "\n",
    "Soustava lineárních rovnic $ \\mathbb{A} x = b $ s horní trojúhelníkovou maticí $ \\mathbb{A} \\in \\mathbb{R}^{n \\ \\times \\ n} $ je možné vyřešit pomocí [zpětné substituce](https://en.wikipedia.org/wiki/Triangular_matrix#Forward_and_back_substitution) neboli *zpětného běhu Gaussovy eliminace*:\n",
    "\n",
    "$$\n",
    "x_i := \\frac{1}{a_{ii}} \\left( b_i - \\sum_{j = i + 1}^{n-1} a_{ij} x_j \\right), \\qquad i = n-1, n-2, \\dots, 0.\n",
    "$$\n",
    "\n",
    "<div style=\"margin-top: 25px; margin-bottom: 25px; padding-top: 0px; padding-bottom: 0px; padding-left: 0px; padding-right: 0px; border-radius: 4px; border-color: #E0B32C; border-right-width: 1px; border-top-width: 1px; border-bottom-width: 1px; border-left-width: 3px; border-style: solid\">\n",
    "<div style=\"background: #FFF3CD; color: #000000; padding-left: 20px; padding-top: 10px; padding-bottom: 10px; border-radius: 1px 3px 0px 0px; font-weight: 600\">Úkol</div>\n",
    "<div style=\"padding-left: 20px; padding-right: 20px; padding-top: 0px; padding-bottom: 0px; border-radius: 0px 0px 3px 3px\">\n",
    "<p>\n",
    "\n",
    "Implementujte zpětný běh Gaussovy eliminace, tedy řešení soustavy linerních rovnic s trojúhelníkovou maticí, pomocí uvedeného vzorce. Správnost ověřte pomocí knihovní funkce [`scipy.linalg.solve()`](https://docs.scipy.org/doc/scipy/reference/generated/scipy.linalg.solve.html).\n",
    "</p>\n",
    "</div>\n",
    "</div>"
   ]
  },
  {
   "cell_type": "code",
   "execution_count": 217,
   "metadata": {},
   "outputs": [
    {
     "name": "stdout",
     "output_type": "stream",
     "text": [
      "[[0.99238736 0.91444374 0.74467695 0.67980813]\n",
      " [0.         0.43783844 0.97596445 0.33957138]\n",
      " [0.         0.         0.45236023 0.43979398]\n",
      " [0.         0.         0.         0.91868856]] [0.84833208 0.96539183 0.43887978 0.87205561]\n",
      "[-1.08706757  1.3632094   0.04732931  0.94923966]\n",
      "[-1.08706757  1.3632094   0.04732931  0.94923966]\n"
     ]
    }
   ],
   "source": [
    "A = np.triu(np.random.rand(4, 4)) # vynuluje v matici cisla pod diagonalou\n",
    "b = np.random.rand(4)\n",
    "print(A, b)\n",
    "\n",
    "def gauss_elim_zpetny(A,b):\n",
    "    ## DOPLŇTE ##\n",
    "    x = np.zeros(A.shape[0])\n",
    "    for i in range(A.shape[0]-1, -1, -1):\n",
    "        x[i] = b[i] / A[i,i]\n",
    "        for j in range(i+1,A.shape[1]):\n",
    "            x[i] -= A[i,j]*x[j] / A[i,i]\n",
    "    return x\n",
    "\n",
    "print(gauss_elim_zpetny(A, b))\n",
    "print(la.solve(A, b)) # kontrola"
   ]
  },
  {
   "cell_type": "markdown",
   "metadata": {},
   "source": [
    "Teď již stačí jen použít obě metody na řešení libovolné soustavy linearních rovnic:"
   ]
  },
  {
   "cell_type": "code",
   "execution_count": 218,
   "metadata": {},
   "outputs": [
    {
     "name": "stdout",
     "output_type": "stream",
     "text": [
      "[[0.66262611 0.29301267 0.59422536 0.07276833]\n",
      " [0.14685898 0.71236235 0.5528195  0.17417942]\n",
      " [0.68757098 0.47889717 0.18110509 0.628472  ]\n",
      " [0.51145855 0.64432575 0.37681061 0.46435004]] [0.9254799  0.68494708 0.65224819 0.30197395]\n",
      "The implementation is correct.\n"
     ]
    }
   ],
   "source": [
    "A = np.random.rand(4,4)\n",
    "b = np.random.rand(4)\n",
    "print(A, b)\n",
    "\n",
    "def gauss_elimimace(A,b):\n",
    "    A,b = gauss_elim_dopredna(A, b)\n",
    "    return gauss_elim_zpetny(A, b)\n",
    "\n",
    "try:\n",
    "    np.testing.assert_array_almost_equal(gauss_elimimace(A, b), np.linalg.solve(A, b), decimal=7)\n",
    "except AssertionError as E:\n",
    "    print(E)\n",
    "else:\n",
    "    print(\"The implementation is correct.\")"
   ]
  },
  {
   "cell_type": "markdown",
   "metadata": {},
   "source": [
    "**Pivoting**\n",
    "\n",
    "V této podkapitole si ukážeme několik numerických komplikací, které u Gaussovy eliminace můžou nastat.\n",
    "\n",
    "Prvním zřejmým problémem je situace, kdy je přední prvek matice (*pivot*) rovný nule. Ten nemůžeme použít, protože bychom dělili při eliminaci spodních řádků nulou!\n",
    "\n",
    "<div style=\"margin-top: 25px; margin-bottom: 25px; padding-top: 0px; padding-bottom: 0px; padding-left: 0px; padding-right: 0px; border-radius: 4px; border-color: #E0B32C; border-right-width: 1px; border-top-width: 1px; border-bottom-width: 1px; border-left-width: 3px; border-style: solid\">\n",
    "<div style=\"background: #FFF3CD; color: #000000; padding-left: 20px; padding-top: 10px; padding-bottom: 10px; border-radius: 1px 3px 0px 0px; font-weight: 600\">Úkol</div>\n",
    "<div style=\"padding-left: 20px; padding-right: 20px; padding-top: 0px; padding-bottom: 0px; border-radius: 0px 0px 3px 3px\">\n",
    "<p>\n",
    "\n",
    "Použijte Gaussovu eliminaci `gauss_elimimace()` na řešení soustavy s maticí:\n",
    "$$\n",
    "\\mathbb{A} = \\begin{pmatrix}\n",
    "0 & 1 \\\\\n",
    "1 & 1\n",
    "\\end{pmatrix}.\n",
    "$$\n",
    "</p>\n",
    "</div>\n",
    "</div>"
   ]
  },
  {
   "cell_type": "code",
   "execution_count": 219,
   "metadata": {},
   "outputs": [
    {
     "name": "stderr",
     "output_type": "stream",
     "text": [
      "C:\\Users\\jiral\\AppData\\Local\\Temp\\ipykernel_20156\\339819762.py:13: RuntimeWarning: divide by zero encountered in long_scalars\n",
      "  A[j,k] -= a / A[i,i] * A[i,k]\n",
      "C:\\Users\\jiral\\AppData\\Local\\Temp\\ipykernel_20156\\339819762.py:13: RuntimeWarning: invalid value encountered in double_scalars\n",
      "  A[j,k] -= a / A[i,i] * A[i,k]\n"
     ]
    },
    {
     "ename": "ValueError",
     "evalue": "cannot convert float NaN to integer",
     "output_type": "error",
     "traceback": [
      "\u001b[1;31m---------------------------------------------------------------------------\u001b[0m",
      "\u001b[1;31mValueError\u001b[0m                                Traceback (most recent call last)",
      "Cell \u001b[1;32mIn [219], line 6\u001b[0m\n\u001b[0;32m      3\u001b[0m A \u001b[38;5;241m=\u001b[39m np\u001b[38;5;241m.\u001b[39marray([[\u001b[38;5;241m0\u001b[39m, \u001b[38;5;241m1\u001b[39m], [\u001b[38;5;241m1\u001b[39m, \u001b[38;5;241m1\u001b[39m]])\n\u001b[0;32m      4\u001b[0m b \u001b[38;5;241m=\u001b[39m np\u001b[38;5;241m.\u001b[39mrandom\u001b[38;5;241m.\u001b[39mrand(\u001b[38;5;241m2\u001b[39m)\n\u001b[1;32m----> 6\u001b[0m \u001b[38;5;28mprint\u001b[39m(gauss_elimimace(A, b))\n",
      "Cell \u001b[1;32mIn [218], line 6\u001b[0m, in \u001b[0;36mgauss_elimimace\u001b[1;34m(A, b)\u001b[0m\n\u001b[0;32m      5\u001b[0m \u001b[38;5;28;01mdef\u001b[39;00m \u001b[38;5;21mgauss_elimimace\u001b[39m(A,b):\n\u001b[1;32m----> 6\u001b[0m     A,b \u001b[38;5;241m=\u001b[39m \u001b[43mgauss_elim_dopredna\u001b[49m\u001b[43m(\u001b[49m\u001b[43mA\u001b[49m\u001b[43m,\u001b[49m\u001b[43m \u001b[49m\u001b[43mb\u001b[49m\u001b[43m)\u001b[49m\n\u001b[0;32m      7\u001b[0m     \u001b[38;5;28;01mreturn\u001b[39;00m gauss_elim_zpetny(A, b)\n",
      "Cell \u001b[1;32mIn [216], line 13\u001b[0m, in \u001b[0;36mgauss_elim_dopredna\u001b[1;34m(A, b)\u001b[0m\n\u001b[0;32m     11\u001b[0m         a \u001b[38;5;241m=\u001b[39m A[j,i]\n\u001b[0;32m     12\u001b[0m         \u001b[38;5;28;01mfor\u001b[39;00m k \u001b[38;5;129;01min\u001b[39;00m \u001b[38;5;28mrange\u001b[39m(\u001b[38;5;241m0\u001b[39m,A\u001b[38;5;241m.\u001b[39mshape[\u001b[38;5;241m1\u001b[39m]):\n\u001b[1;32m---> 13\u001b[0m             \u001b[43mA\u001b[49m\u001b[43m[\u001b[49m\u001b[43mj\u001b[49m\u001b[43m,\u001b[49m\u001b[43mk\u001b[49m\u001b[43m]\u001b[49m \u001b[38;5;241m-\u001b[39m\u001b[38;5;241m=\u001b[39m a \u001b[38;5;241m/\u001b[39m A[i,i] \u001b[38;5;241m*\u001b[39m A[i,k]\n\u001b[0;32m     14\u001b[0m         b[j] \u001b[38;5;241m-\u001b[39m\u001b[38;5;241m=\u001b[39m a \u001b[38;5;241m/\u001b[39m A[i,i] \u001b[38;5;241m*\u001b[39m b[i]\n\u001b[0;32m     15\u001b[0m \u001b[38;5;28;01mreturn\u001b[39;00m A,b\n",
      "\u001b[1;31mValueError\u001b[0m: cannot convert float NaN to integer"
     ]
    }
   ],
   "source": [
    "## DOPLŇTE ##\n",
    "\n",
    "A = np.array([[0, 1], [1, 1]])\n",
    "b = np.random.rand(2)\n",
    "\n",
    "print(gauss_elimimace(A, b))"
   ]
  },
  {
   "cell_type": "markdown",
   "metadata": {},
   "source": [
    "<div style=\"margin-top: 25px; margin-bottom: 25px; padding-top: 0px; padding-bottom: 0px; padding-left: 0px; padding-right: 0px; border-radius: 4px; border-color: #F4330C; border-right-width: 1px; border-top-width: 1px; border-bottom-width: 1px; border-left-width: 3px; border-style: solid\">\n",
    "<div style=\"background: #F7C8C0; color: #000000; padding-left: 20px; padding-top: 10px; padding-bottom: 10px; border-radius: 1px 3px 0px 0px; font-weight: 600\">Pozor</div>\n",
    "<div style=\"padding-left: 20px; padding-right: 20px; padding-top: 0px; padding-bottom: 0px; border-radius: 0px 0px 3px 3px\">\n",
    "<p>\n",
    "\n",
    "Gaussova eliminace nedokáže matici s nulovými prvky na diagonále převést na horní trojúhelníkovou.\n",
    "</p>\n",
    "</div>\n",
    "</div>"
   ]
  },
  {
   "cell_type": "markdown",
   "metadata": {},
   "source": [
    "Druhý problém nastává, pokud je pivot velmi malý. Tedy na diagonále matice se nachází velmi nízké hodnoty.\n",
    "\n",
    "<div style=\"margin-top: 25px; margin-bottom: 25px; padding-top: 0px; padding-bottom: 0px; padding-left: 0px; padding-right: 0px; border-radius: 4px; border-color: #E0B32C; border-right-width: 1px; border-top-width: 1px; border-bottom-width: 1px; border-left-width: 3px; border-style: solid\">\n",
    "<div style=\"background: #FFF3CD; color: #000000; padding-left: 20px; padding-top: 10px; padding-bottom: 10px; border-radius: 1px 3px 0px 0px; font-weight: 600\">Úkol</div>\n",
    "<div style=\"padding-left: 20px; padding-right: 20px; padding-top: 0px; padding-bottom: 0px; border-radius: 0px 0px 3px 3px\">\n",
    "<p>\n",
    "\n",
    "Použijte Gaussovu eliminaci `gauss_elimimace()` na řešení soustavy s maticí a pravou stranou:\n",
    "$$\n",
    "\\mathbb{A} = \\begin{pmatrix}\n",
    "10^{-10} & 2 & 3 \\\\\n",
    "4 & 5 & 6 \\\\\n",
    "7 & 8 & 9\n",
    "\\end{pmatrix}, \\quad \\vec{b} = \\begin{pmatrix}\n",
    "1 \\\\\n",
    "0.1  \\\\\n",
    "0.01\n",
    "\\end{pmatrix}.\n",
    "$$\n",
    "\n",
    "Výsledek porovnejte s řešením získaným pomocí knihovní funkce [`scipy.linalg.solve()`](https://docs.scipy.org/doc/scipy/reference/generated/scipy.linalg.solve.html).\n",
    "</p>\n",
    "</div>\n",
    "</div>"
   ]
  },
  {
   "cell_type": "code",
   "execution_count": null,
   "metadata": {},
   "outputs": [
    {
     "name": "stdout",
     "output_type": "stream",
     "text": [
      "[-0.8010025   1.30401611 -0.53601074]\n",
      "[-0.801  1.304 -0.536]\n"
     ]
    }
   ],
   "source": [
    "## DOPLŇTE ##\n",
    "\n",
    "A = np.array([[1e-10, 2, 3], [4, 5, 6], [7, 8, 9]])\n",
    "b = np.array([1, 0.1, 0.001])\n",
    "\n",
    "print(gauss_elimimace(A, b))\n",
    "print(la.solve(A, b))"
   ]
  },
  {
   "cell_type": "markdown",
   "metadata": {},
   "source": [
    "Vidíme, že dostáváme výsledek s nezanedbatelnou chybou! Podobný příklad můžete vidět [zde](http://kfe.fjfi.cvut.cz/~vachal/edu/nme/cviceni/02_linalg/DOCS/priklad_pivoting.pdf).\n",
    "\n",
    "Chyba vzniká zaokrouhlováním při odčítání velmi odlišných čísel. Při použití malého pivota odčítáme od hodnot v matici vysoké číslo, čímž vzníká velká chyba (výrazně větší než strojová přesnost $\\varepsilon$).\n",
    "\n",
    "Dalším problémem je, že malé hodnoty v matici mohou vznikat odečtením blízkých hodnot v předchozích krocích. Nasledné použití této hodnoty jako pivota vede k silnému hromadění chyb!\n",
    "\n",
    "Předchozím problémům se lze vyhnout vhodným výběrem pivota (tzv. *pivotingem*). Vhodný pivot je největší dostupné číslo. Máme několik strategií, jak pivota vybrat:\n",
    "\n",
    "1. *úplný pivoting* - výběr z celé dosud neupravené části matice $\\max{|a_{jk}|}$ (nev7hoda: znatelně zpomaluje výpočet)\n",
    "2. *částečný pivoting* - výběr v daném sloupci (*sloupcový*) a řádku (*řádkový*)\n",
    "3. *implicitní pivoting* - rychlejší verze sloupcového pivotingu, při výběru je porovnána velikost prvků v daném sloupci normovaném na maximum z prvků v jednotlivých řádcích původní matice\n",
    "\n",
    "Při výběru pivota z jiného řádku je třeba prohodit odpovídající řádky a pravou stranu. V případě volby pivota v jiném sloupci je třeba prohodit navíc složky hledaného řešení.\n",
    "\n",
    "V praxi většinou stačí *částečný* nebo i *sloupcový pivoting*.\n",
    "\n",
    "<div style=\"margin-top: 25px; margin-bottom: 25px; padding-top: 0px; padding-bottom: 0px; padding-left: 0px; padding-right: 0px; border-radius: 4px; border-color: #E0B32C; border-right-width: 1px; border-top-width: 1px; border-bottom-width: 1px; border-left-width: 3px; border-style: solid\">\n",
    "<div style=\"background: #FFF3CD; color: #000000; padding-left: 20px; padding-top: 10px; padding-bottom: 10px; border-radius: 1px 3px 0px 0px; font-weight: 600\">Úkol</div>\n",
    "<div style=\"padding-left: 20px; padding-right: 20px; padding-top: 0px; padding-bottom: 0px; border-radius: 0px 0px 3px 3px\">\n",
    "<p>\n",
    "\n",
    "Modifikujte Gaussovu eliminační metodu pomocí tak, že použijete *sloupcový pivoting*. Ověřte zlepšení přesnosti na řešení předcházející soustavy rovnic. Stačí upravit zpětný chod `gauss_elim_dopredna()`.\n",
    "\n",
    "<div style=\"margin-top: 25px; margin-bottom: 25px; padding-top: 0px; padding-bottom: 0px; padding-left: 0px; padding-right: 0px; border-radius: 4px; border-color: #00843F; border-right-width: 1px; border-top-width: 1px; border-bottom-width: 1px; border-left-width: 3px; border-style: solid\">\n",
    "<div style=\"background: #D6ECE1; color: #000000; padding-left: 20px; padding-top: 10px; padding-bottom: 10px; border-radius: 1px 3px 0px 0px; font-weight: 600\">Tip</div>\n",
    "<div style=\"padding-left: 20px; padding-right: 20px; padding-top: 0px; padding-bottom: 0px; border-radius: 0px 0px 3px 3px\">\n",
    "<p>\n",
    "\n",
    "Pro nalezení největšího prvku se může hodit funkce `np.argmax()`.\n",
    "</p>\n",
    "</div>\n",
    "</div>\n",
    "</p>\n",
    "</div>\n",
    "</div>"
   ]
  },
  {
   "cell_type": "code",
   "execution_count": null,
   "metadata": {},
   "outputs": [
    {
     "name": "stdout",
     "output_type": "stream",
     "text": [
      "2\n",
      "[[7.e+00 8.e+00 9.e+00]\n",
      " [4.e+00 5.e+00 6.e+00]\n",
      " [1.e-10 2.e+00 3.e+00]] [0.001 0.1   1.   ]\n",
      "[[7.         8.         9.        ]\n",
      " [0.         0.42857143 0.85714286]\n",
      " [0.         2.         3.        ]] [0.001      0.09942857 1.        ]\n",
      "2\n",
      "[[7.         8.         9.        ]\n",
      " [0.         2.         3.        ]\n",
      " [0.         0.42857143 0.85714286]] [0.001      1.         0.09942857]\n",
      "[[7.         8.         9.        ]\n",
      " [0.         2.         3.        ]\n",
      " [0.         0.         0.21428571]] [ 0.001       1.         -0.11485714]\n",
      "2\n",
      "[[7.         8.         9.        ]\n",
      " [0.         2.         3.        ]\n",
      " [0.         0.         0.21428571]] [ 0.001       1.         -0.11485714]\n",
      "[[7.         8.         9.        ]\n",
      " [0.         2.         3.        ]\n",
      " [0.         0.         0.21428571]] [ 0.001       1.         -0.11485714]\n",
      "[-0.801  1.304 -0.536]\n",
      "[-0.801  1.304 -0.536]\n"
     ]
    }
   ],
   "source": [
    "A = np.array([[1e-10, 2, 3], [4, 5, 6], [7, 8, 9]])\n",
    "b = np.array([1, 0.1, 0.001])\n",
    "\n",
    "def gauss_elim_dopredna_pivoting(A, b):\n",
    "    A = A.copy()\n",
    "    b = b.copy()\n",
    "    ## DOPLŇTE ##\n",
    "    for i in range(A.shape[0]):\n",
    "        # vyber pivota\n",
    "        p = np.argmax(A[i:,i]) + i\n",
    "        print(p)\n",
    "        # swap - prohozeni radku\n",
    "        arr = A[p, :].copy()\n",
    "        A[p,:] = A[i, :]\n",
    "        A[i,:] = arr\n",
    "        arr = b[p].copy()\n",
    "        b[p] = b[i]\n",
    "        b[i] = arr\n",
    "        print(A,b)\n",
    "        # eliminace\n",
    "        for j in range(i+1,A.shape[0]):\n",
    "            a = A[j,i]\n",
    "            for k in range(0,A.shape[1]):\n",
    "                A[j,k] -= a / A[i,i] * A[i,k]\n",
    "            b[j] -= a / A[i,i] * b[i]\n",
    "        print(A,b)\n",
    "    return A,b\n",
    "\n",
    "def gauss_elimimace_pivoting(A,b):\n",
    "    A,b = gauss_elim_dopredna_pivoting(A, b)\n",
    "    return gauss_elim_zpetny(A, b)\n",
    "\n",
    "print(gauss_elimimace_pivoting(A, b))\n",
    "print(la.solve(A, b))"
   ]
  },
  {
   "cell_type": "markdown",
   "metadata": {},
   "source": [
    "### Gauss-Jordanova eliminace"
   ]
  },
  {
   "cell_type": "markdown",
   "metadata": {},
   "source": [
    "* Matici $\\mathbb{A}$ převedeme na tvar, kdy jsou na hlavní diagonále samé jedničky\n",
    "* Touto metodou lze získat i inverzní matici $\\mathbb{A}^{-1}$\n",
    "* [Ukázka](http://kfe.fjfi.cvut.cz/~vachal/edu/nme/cviceni/02_linalg/DOCS/priklad_GaussJordan.pdf)"
   ]
  },
  {
   "cell_type": "markdown",
   "metadata": {},
   "source": [
    "### Thomasův algoritmus\n",
    "\n",
    "Pro speciální typy matic existují efektivnější algoritmy, které najdou řešení ve výrazně kratším čase. Příkladem je soustava s tridiagonální maticí. Pro takovou matici nemusíme provádět celou Gaussovu eliminaci, ale jen výrazně redukovaný počet kroků (stačí eliminovat pouze vedlejší diagonály).\n",
    "\n",
    "Systém $ \\mathbb{A} \\vec{x} = \\vec{b} $ s tridiagonální maticí $ \\mathbb{A} $ lze efektivně řešit pomocí [Thomasova algoritmu](https://en.wikipedia.org/wiki/Tridiagonal_matrix_algorithm). Tridiagonální matici $ \\mathbb{A} $ můžeme reprezentovat pomocí tří vektorů $ \\vec{p} $, $ \\vec{q} $, and $ \\vec{r} $ následovně:\n",
    "\n",
    "$$\n",
    "\\mathbb{A} = \\begin{pmatrix}\n",
    "q_0 & p_0 & 0 & 0 & \\cdots & 0 & 0 & 0 \\\\\n",
    "r_1 & q_1 & p_1 & 0 & \\cdots & 0 & 0 & 0 \\\\\n",
    "0 & r_2 & q_2 & p_2 & \\cdots & 0 & 0 & 0 \\\\\n",
    "\\vdots  & \\vdots  & \\ddots & \\ddots & \\ddots & \\vdots & \\vdots & \\vdots \\\\\n",
    "\\vdots  & \\vdots  & \\vdots & \\ddots & \\ddots & \\ddots & \\vdots & \\vdots \\\\\n",
    "\\vdots  & \\vdots  & \\vdots & \\vdots & \\ddots & \\ddots & \\ddots & \\vdots \\\\\n",
    "0 & 0 & 0 & 0 & \\cdots & r_{n-2} & q_{n-2} & p_{n-2} \\\\\n",
    "0 & 0 & 0 & 0 & \\cdots & 0 & r_{n-1} & q_{n-1}\n",
    "\\end{pmatrix},\n",
    "$$\n",
    "\n",
    "kde $ p_{n-1} = 0 $ and $ r_0 = 0 $. Řešení $ \\mathbb{A} x = b $ získáme *zpětným během* eliminace:\n",
    "\n",
    "$$\n",
    "x_i = \\mu_i x_{i+1} + \\rho_i, \\qquad i = n-1, n-2, \\dots, 0,\n",
    "$$\n",
    "\n",
    "kde koeficienty $ \\mu_i $ a $ \\rho_i $ jsou získány při *dopředném běhu*:\n",
    "\n",
    "$$\n",
    "\\mu_i = -\\frac{p_i}{r_i \\mu_{i-1} + q_i}, \\qquad \\rho_i = \\frac{b_i - r_i \\rho_{i-1}}{r_i \\mu_{i-1} + q_i}, \\qquad i = 1, 2, \\dots, n-1\n",
    "$$\n",
    "\n",
    "kde $ \\mu_0 = -p_0 \\, / \\, q_0 $, $ \\rho_0 = b_0 \\, / \\, q_0 $ a $\\mu_{n-1}=0$.\n",
    "\n",
    "<div style=\"margin-top: 25px; margin-bottom: 25px; padding-top: 0px; padding-bottom: 0px; padding-left: 0px; padding-right: 0px; border-radius: 4px; border-color: #E0B32C; border-right-width: 1px; border-top-width: 1px; border-bottom-width: 1px; border-left-width: 3px; border-style: solid\">\n",
    "<div style=\"background: #FFF3CD; color: #000000; padding-left: 20px; padding-top: 10px; padding-bottom: 10px; border-radius: 1px 3px 0px 0px; font-weight: 600\">Úkol</div>\n",
    "<div style=\"padding-left: 20px; padding-right: 20px; padding-top: 0px; padding-bottom: 0px; border-radius: 0px 0px 3px 3px\">\n",
    "<p>\n",
    "\n",
    "Implementujte Thomasův algoritmus pomocí uvedených vzorců. Nejprve je třeba provést *dopředný běh* (výpočet $\\mu$ a $\\rho$) a následně *zpětný běh*. Správnost ověřte pomocí knihovní funkce [`scipy.linalg.solve()`](https://docs.scipy.org/doc/scipy/reference/generated/scipy.linalg.solve.html).\n",
    "</p>\n",
    "</div>"
   ]
  },
  {
   "cell_type": "code",
   "execution_count": null,
   "metadata": {},
   "outputs": [
    {
     "name": "stdout",
     "output_type": "stream",
     "text": [
      "[[0.36653253 0.01789338 0.         0.         0.        ]\n",
      " [0.76320804 0.75026937 0.52011663 0.         0.        ]\n",
      " [0.         0.5319773  0.6195286  0.7682034  0.        ]\n",
      " [0.         0.         0.229951   0.02978361 0.92169446]\n",
      " [0.         0.         0.         0.2992984  0.80208829]] [0.10680473 0.68029879 0.03262974 0.06259222 0.90601487]\n",
      "[ 0.1388284   3.12515556 -3.40378397  0.62334982  0.89696768]\n",
      "[ 0.1388284   3.12515556 -3.40378397  0.62334982  0.89696768]\n"
     ]
    }
   ],
   "source": [
    "A = np.triu(np.tril(np.random.rand(5, 5), 1), -1)\n",
    "b = np.random.rand(5)\n",
    "print(A,b)\n",
    "\n",
    "def thomas_alg(A,b):\n",
    "    ## DOPLŇTE ##\n",
    "    \n",
    "    mu = np.zeros(A.shape[0])\n",
    "    rho = np.zeros(A.shape[0])\n",
    "    x = np.zeros(A.shape[0])\n",
    "    # dopřený běh\n",
    "    mu[0] = -A[0,1]/A[0,0]\n",
    "    rho[0] = b[0]/A[0,0]\n",
    "    for i in range(1,A.shape[0]):\n",
    "        if i < A.shape[0]-1:\n",
    "            mu[i] = -A[i,i+1] / (A[i,i-1]*mu[i-1] + A[i,i])\n",
    "        rho[i] = (b[i] - A[i,i-1]*rho[i-1]) / (A[i,i-1]*mu[i-1] + A[i,i])\n",
    "    mu[-1] = 0\n",
    "    \n",
    "    # zpětný běh\n",
    "    x[-1] = rho[-1]\n",
    "    for i in range(A.shape[0]-2,-1,-1):\n",
    "        x[i] = mu[i]*x[i+1] + rho[i]\n",
    "    \n",
    "    return x\n",
    "    \n",
    "print(thomas_alg(A, b))\n",
    "print(la.solve(A,b))"
   ]
  },
  {
   "cell_type": "markdown",
   "metadata": {},
   "source": [
    "### LU dekompozice"
   ]
  },
  {
   "cell_type": "markdown",
   "metadata": {},
   "source": [
    "[LU dekompozice](https://en.wikipedia.org/wiki/LU_decomposition) rozděluje matici na součin spodní a hodní trojúhelníkové matice. Lze ji spočítat pomocí [Croutova algoritmu](https://en.wikipedia.org/wiki/Crout_matrix_decomposition):\n",
    "\n",
    "$$\n",
    "u_{ij} = a_{ij} - \\sum_{k = 1}^{i - 1} l_{ik} u_{kj}, \n",
    "$$\n",
    "\n",
    "$$\n",
    "l_{ji} = \\frac{1}{u_{ii}} \\left( a_{ji} - \\sum_{k = 1}^{i - 1} l_{jk} u_{ki} \\right), \n",
    "$$\n",
    "\n",
    "$$\n",
    "i = 1, 2, \\dots, n, \\quad j = i, i + 1, \\dots, n.\n",
    "$$\n",
    "\n",
    "Tento algoritmus má podobnou složitost jako Gaussova eliminace. Je výhodný v případě, kdy řešíme stejnou soustavu rovnic pro mnoho různých pravých stran. V takovém případě by se nevyplatilo provádět Gaussovu eliminaci pořád znova. Naopak, pokud matici rozložíme pomocí LU dekompozice, stačí provést dvakrát zpětný běh Gaussovy eliminace, který je pouze $O(n^2)$ oproti Gaussově eliminaci $O(n^3)$! Matematicky stačí vyřešit:\n",
    "\n",
    "$$\n",
    "\\mathbb{A} x = (\\mathbb{L} \\mathbb{U}) x = \\mathbb{L} ( \\mathbb{U} x) = b, \n",
    "$$\n",
    "\n",
    "$$\n",
    "\\mathbb{L} y = b, \n",
    "$$\n",
    "$$\n",
    "\\mathbb{U} x = y.\n",
    "$$\n",
    "\n",
    "<div style=\"margin-top: 25px; margin-bottom: 25px; padding-top: 0px; padding-bottom: 0px; padding-left: 0px; padding-right: 0px; border-radius: 4px; border-color: #E0B32C; border-right-width: 1px; border-top-width: 1px; border-bottom-width: 1px; border-left-width: 3px; border-style: solid\">\n",
    "<div style=\"background: #FFF3CD; color: #000000; padding-left: 20px; padding-top: 10px; padding-bottom: 10px; border-radius: 1px 3px 0px 0px; font-weight: 600\">Úkol</div>\n",
    "<div style=\"padding-left: 20px; padding-right: 20px; padding-top: 0px; padding-bottom: 0px; border-radius: 0px 0px 3px 3px\">\n",
    "<p>\n",
    "\n",
    "Implementujte LU dekompozici a aplikujte ji na řešení soustavy linearních rovnic. Můžete využít *zpětné substituce* výše. *Dopřednou substituci* ($\\mathbb{L} y = b$) je třeba doimplementovat zvlášť.\n",
    "</p>\n",
    "</div>"
   ]
  },
  {
   "cell_type": "code",
   "execution_count": null,
   "metadata": {},
   "outputs": [],
   "source": [
    "## DOPLŇTE ##"
   ]
  },
  {
   "cell_type": "markdown",
   "metadata": {},
   "source": [
    "## Zápočtová úloha"
   ]
  },
  {
   "cell_type": "markdown",
   "metadata": {},
   "source": [
    "<div style=\"margin-top: 25px; margin-bottom: 25px; padding-top: 0px; padding-bottom: 0px; padding-left: 0px; padding-right: 0px; border-radius: 4px; border-color: #E0B32C; border-right-width: 1px; border-top-width: 1px; border-bottom-width: 1px; border-left-width: 3px; border-style: solid\">\n",
    "<div style=\"background: #FFF3CD; color: #000000; padding-left: 20px; padding-top: 10px; padding-bottom: 10px; border-radius: 1px 3px 0px 0px; font-weight: 600\">Úkol - zápočet 2</div>\n",
    "<div style=\"padding-left: 20px; padding-right: 20px; padding-top: 0px; padding-bottom: 0px; border-radius: 0px 0px 3px 3px\">\n",
    "<p>\n",
    "\n",
    "[ZDE](ukol2)\n",
    "</p>\n",
    "</div>\n",
    "</div>"
   ]
  }
 ],
 "metadata": {
  "kernelspec": {
   "display_name": "Python 3",
   "language": "python",
   "name": "python3"
  },
  "language_info": {
   "codemirror_mode": {
    "name": "ipython",
    "version": 3
   },
   "file_extension": ".py",
   "mimetype": "text/x-python",
   "name": "python",
   "nbconvert_exporter": "python",
   "pygments_lexer": "ipython3",
   "version": "3.10.7"
  }
 },
 "nbformat": 4,
 "nbformat_minor": 2
}
