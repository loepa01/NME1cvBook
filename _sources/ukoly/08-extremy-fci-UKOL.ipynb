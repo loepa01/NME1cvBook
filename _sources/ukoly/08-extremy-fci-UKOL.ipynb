{
 "cells": [
  {
   "cell_type": "markdown",
   "metadata": {},
   "source": [
    "(ukol2)=\n",
    "# Zápočtový úkol 2\n",
    "\n",
    "Metoda konjugovaných gradientů na funkci dvou proměnných (\"banánová funkce\").\n",
    "\n",
    "Postup metody (viz přednáška):\n",
    "\n",
    "![Metoda konjugovaných gradientů postup](../images/konjGrad.png)\n",
    "\n",
    "Pro zopakování této metody se můžete podívat na video [zde](https://youtu.be/af93jh9Ryog?si=zltIQcPT9KXkhCp_) (algoritmus v Matlabu je ke konci videa..)."
   ]
  },
  {
   "cell_type": "markdown",
   "metadata": {},
   "source": [
    "<div style=\"margin-top: 25px; margin-bottom: 25px; padding-top: 0px; padding-bottom: 0px; padding-left: 0px; padding-right: 0px; border-radius: 4px; border-color: #E0B32C; border-right-width: 1px; border-top-width: 1px; border-bottom-width: 1px; border-left-width: 3px; border-style: solid\">\n",
    "<div style=\"background: #FFF3CD; color: #000000; padding-left: 20px; padding-top: 10px; padding-bottom: 10px; border-radius: 1px 3px 0px 0px; font-weight: 600\">Úkol - zápočet 2</div>\n",
    "<div style=\"padding-left: 20px; padding-right: 20px; padding-top: 0px; padding-bottom: 0px; border-radius: 0px 0px 3px 3px\">\n",
    "<p>\n",
    "\n",
    "Pomocí Metody konjugovaných nalezněte minimum \"banánové funkce\" ([Rosenbrock function](https://en.wikipedia.org/wiki/Rosenbrock_function)):\n",
    "\n",
    "$$\n",
    "f(x, y) = (1 - x)^2 + 100 (y - x^2)^2\n",
    "$$\n",
    "\n",
    "Srovnejte metodu *konjugovaných gradientů* a metodu *největšího spádu* (probrána na cvičení - stačí sem zkopírovat) na této úloze. Vykreslete závislost chyby na počtu iterací pro obě metody (zvolte logaritmickou škálu pro osu $y$). Okomentujte rychlost konvergence obou metod. \n",
    "\n",
    "Vyzkoušejte obě metody s několika různými počátečnými odhady řešení ($\\vec{P}_0$). Co za chování pozorujete u obou metod? Jak je potřeba změnit koeficient $\\alpha$ u metody největšího spádu, aby metoda konvergovala?\n",
    "\n",
    "Zvolte dostatečně malý krok ($h = 10^{-8}$) při numerickém výpočtu gradientu a dostatečný počet kroků tak, aby jste dostali řešení s přesností $10^{-8}$ u metody konjugovaných gradientů.\n",
    "</p>\n",
    "</div>\n",
    "</div>"
   ]
  },
  {
   "cell_type": "code",
   "execution_count": 28,
   "metadata": {},
   "outputs": [],
   "source": [
    "import numpy as np\n",
    "import matplotlib.pyplot as plt\n",
    "from scipy.optimize import fsolve"
   ]
  },
  {
   "cell_type": "markdown",
   "metadata": {},
   "source": [
    "**Definice funkce a jejích derivací**"
   ]
  },
  {
   "cell_type": "code",
   "execution_count": 29,
   "metadata": {},
   "outputs": [],
   "source": [
    "## DOPLŇTE ##"
   ]
  },
  {
   "cell_type": "markdown",
   "metadata": {},
   "source": [
    "**Implementace metody největšího spádu**\n",
    "\n",
    "Zkopírujte ze cvičení.."
   ]
  },
  {
   "cell_type": "code",
   "execution_count": null,
   "metadata": {},
   "outputs": [],
   "source": [
    "## DOPLŇTE ##"
   ]
  },
  {
   "cell_type": "markdown",
   "metadata": {},
   "source": [
    "**Implementace metody konjugovaných gradientů**\n",
    "\n",
    "<div style=\"margin-top: 25px; margin-bottom: 25px; padding-top: 0px; padding-bottom: 0px; padding-left: 0px; padding-right: 0px; border-radius: 4px; border-color: #00843F; border-right-width: 1px; border-top-width: 1px; border-bottom-width: 1px; border-left-width: 3px; border-style: solid\">\n",
    "<div style=\"background: #D6ECE1; color: #000000; padding-left: 20px; padding-top: 10px; padding-bottom: 10px; border-radius: 1px 3px 0px 0px; font-weight: 600\">Tip</div>\n",
    "<div style=\"padding-left: 20px; padding-right: 20px; padding-top: 0px; padding-bottom: 0px; border-radius: 0px 0px 3px 3px\">\n",
    "<p>\n",
    "\n",
    "*Krok 3* metody konjugovaných gradientů spočívá v nalezení minima funkce $f$ v 1D podprostoru určeném směrem $\\vec{h}_{k}$.\n",
    "Pro 1D minimalizaci ve směru $\\vec{h}_k$ a nalezení bodu $\\vec{P}_{k+1}$ můžete použít knihovní funkci `optimize.minimize_scalar()` (zvolte dostatečně malou toleranci) nebo libovolnou z metod představených na cvičení. Pro použití knihovní funkce je vhodné zadefinovat novou funkci ($g(t; \\vec{x}, \\vec{h}) = f(x + h_x t, y + h_y t)$) s jistým parametrem (např. $t$), vůči kterému se provádí optimalizace.\n",
    "</p>\n",
    "</div>\n",
    "</div>"
   ]
  },
  {
   "cell_type": "code",
   "execution_count": 2,
   "metadata": {},
   "outputs": [],
   "source": [
    "## DOPLŇTE ##"
   ]
  },
  {
   "cell_type": "markdown",
   "metadata": {},
   "source": [
    "**Analýza konvergence**\n",
    "\n",
    "Vykreslete vývoj chyb pro obě metody a **okomentujte** jak se vývoj liší a proč. Chybu odhadněte pomocí velikosti vektoru $\\vec{g}_{k+1}$."
   ]
  },
  {
   "cell_type": "code",
   "execution_count": 3,
   "metadata": {},
   "outputs": [],
   "source": [
    "# ověření konvergence\n",
    "## DOPLŇTE ##"
   ]
  },
  {
   "cell_type": "markdown",
   "metadata": {},
   "source": [
    "**Vizualizace řešení**\n",
    "\n",
    "Vykreslete jednotlivé iterace řešení do 2D grafu Rosenbrockovy funkce (pro vykreslení funkce využijte `contourf()`) a také výsledné řešení odlišnou barvou."
   ]
  },
  {
   "cell_type": "code",
   "execution_count": 4,
   "metadata": {},
   "outputs": [],
   "source": [
    "## DOPLŇTE ##"
   ]
  }
 ],
 "metadata": {
  "kernelspec": {
   "display_name": "Python 3",
   "language": "python",
   "name": "python3"
  },
  "language_info": {
   "codemirror_mode": {
    "name": "ipython",
    "version": 3
   },
   "file_extension": ".py",
   "mimetype": "text/x-python",
   "name": "python",
   "nbconvert_exporter": "python",
   "pygments_lexer": "ipython3",
   "version": "3.10.7"
  }
 },
 "nbformat": 4,
 "nbformat_minor": 2
}
