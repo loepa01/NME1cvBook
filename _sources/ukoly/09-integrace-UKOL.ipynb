{
 "cells": [
  {
   "cell_type": "markdown",
   "metadata": {},
   "source": [
    "(ukol3)=\n",
    "# Zápočtový úkol 3\n",
    "\n",
    "<div style=\"margin-top: 25px; margin-bottom: 25px; padding-top: 0px; padding-bottom: 0px; padding-left: 0px; padding-right: 0px; border-radius: 4px; border-color: #E0B32C; border-right-width: 1px; border-top-width: 1px; border-bottom-width: 1px; border-left-width: 3px; border-style: solid\">\n",
    "<div style=\"background: #FFF3CD; color: #000000; padding-left: 20px; padding-top: 10px; padding-bottom: 10px; border-radius: 1px 3px 0px 0px; font-weight: 600\">Úkol - zápočet 3</div>\n",
    "<div style=\"padding-left: 20px; padding-right: 20px; padding-top: 0px; padding-bottom: 0px; border-radius: 0px 0px 3px 3px\">\n",
    "<p>\n",
    "\n",
    "\n",
    "Implementujte metodu Monte Carlo (druhou verzi ukázanou na cvičení) a jednu z metod založených na Newton-Cortesových vzorcích (například Simpsonovo pravidlo) pro integraci následující funkce tří proměnných:\n",
    "\n",
    "$$\n",
    "f(x, y, z) = \\exp(y - x^2) \\sin(\\pi z),\n",
    "$$\n",
    "\n",
    "na intervalu $x \\in (0, 1), y \\in (0, 1), z \\in (0, 1)$.\n",
    "\n",
    "Pro obě metody odhadněte chybu způsobem ukázaným na cvičení. Porovnejte s přesným výsledkem, který lze určit analyticky nebo s využitím knihovní funkce (`nquad()`).\n",
    "\n",
    "Srovnejte rychlosti konvergence obou integračních metod (stačí spočítat hodnoty integrálu pro několik řádově různých $M$ - `np.logspace()`). Použijte stejný počet kroků (výpočtů funkční hodnoty) v obou metodách, aby srovnání mělo smysl! U metody Monte Carlo je $M$ pokusů (vyhodnocení funce $f$) ekvivalentní výpočtu funkčních hodnot na 3D mřížce o velikosti $M^{1/3} \\times M^{1/3} \\times M^{1/3}$ pro metodu Newton-Cortesova vzorce.\n",
    "\n",
    "Vykreslete vývoj chyby do log-log grafu (`plt.loglog()` nebo `plt.xscale('log')`). Okomentujte velikost chyb obou metod a jak rychle klesají s rostoucím $M$.\n",
    "</p>\n",
    "</div>\n",
    "</div>\n",
    "\n",
    "<div style=\"margin-top: 25px; margin-bottom: 25px; padding-top: 0px; padding-bottom: 0px; padding-left: 0px; padding-right: 0px; border-radius: 4px; border-color: #00843F; border-right-width: 1px; border-top-width: 1px; border-bottom-width: 1px; border-left-width: 3px; border-style: solid\">\n",
    "<div style=\"background: #D6ECE1; color: #000000; padding-left: 20px; padding-top: 10px; padding-bottom: 10px; border-radius: 1px 3px 0px 0px; font-weight: 600\">Tip</div>\n",
    "<div style=\"padding-left: 20px; padding-right: 20px; padding-top: 0px; padding-bottom: 0px; border-radius: 0px 0px 3px 3px\">\n",
    "<p>\n",
    "\n",
    "**Nápověda**:\n",
    "\n",
    "Rozšíření metod založených na Newton-Cortesových vzorcích do více dimenzí je následující:\n",
    "* stejně jako v 1D vyčíslujeme funkci na diskrétní mřížce, tentokrát na 3D mřížce\n",
    "* celkový integrál je dán součtem funkčních hodnot vynásobených určitou váhou\n",
    "* u Simpsona jsme viděli, že v 1D se střídají váhy $\\frac{1}{3}, \\frac{4}{3}, \\frac{2}{3}, \\frac{4}{3}, \\frac{2}{3}, \\dots, \\frac{1}{3}$, tedy krajní body mají váhu $\\frac{1}{3}$, sudé $\\frac{4}{3}$ a liché $\\frac{2}{3}$\n",
    "* ve více dimenzích máme koeficient pro každou dimenzi podle stejného pravidla a výsledný koeficient je jejich součinem! (nezapomeňte také na faktor $h^3$)\n",
    "* cesta nízkého odporu je volba *obdélníkové metody* (koeficienty jsou rovny $1$)!\n",
    "</p>\n",
    "</div>\n",
    "</div>"
   ]
  },
  {
   "cell_type": "code",
   "execution_count": null,
   "metadata": {},
   "outputs": [],
   "source": [
    "## DOPLŇTE ##"
   ]
  }
 ],
 "metadata": {
  "kernelspec": {
   "display_name": "Python 3",
   "language": "python",
   "name": "python3"
  },
  "language_info": {
   "codemirror_mode": {
    "name": "ipython",
    "version": 3
   },
   "file_extension": ".py",
   "mimetype": "text/x-python",
   "name": "python",
   "nbconvert_exporter": "python",
   "pygments_lexer": "ipython3",
   "version": "3.10.7"
  }
 },
 "nbformat": 4,
 "nbformat_minor": 2
}
