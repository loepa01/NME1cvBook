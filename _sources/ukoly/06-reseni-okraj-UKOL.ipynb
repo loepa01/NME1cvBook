{
 "cells": [
  {
   "cell_type": "markdown",
   "metadata": {},
   "source": [
    "(ukol5)=\n",
    "# Zápočtový úkol 5\n",
    "\n",
    "Při splnění všech podúloh tohoto započtového úkolu bude počítáno jako **splnění 2 započtových úloh**! Pro splnění tohoto zápočtového úkolu (počítán jako 1 splněný úkol) stačí správně vyřešit *jednu* z podúloh.\n",
    "\n",
    "<div style=\"margin-top: 25px; margin-bottom: 25px; padding-top: 0px; padding-bottom: 0px; padding-left: 0px; padding-right: 0px; border-radius: 4px; border-color: #E0B32C; border-right-width: 1px; border-top-width: 1px; border-bottom-width: 1px; border-left-width: 3px; border-style: solid\">\n",
    "<div style=\"background: #FFF3CD; color: #000000; padding-left: 20px; padding-top: 10px; padding-bottom: 10px; border-radius: 1px 3px 0px 0px; font-weight: 600\">Úkol - zápočet 5</div>\n",
    "<div style=\"padding-left: 20px; padding-right: 20px; padding-top: 0px; padding-bottom: 0px; border-radius: 0px 0px 3px 3px\">\n",
    "<p>\n",
    "\n",
    "Pomocí **metody střelby** řešte *okrajovou* úlohu střelby na cíl v homogenním gravitačním poli Země. Uvažujte tření dělové koule ve vzduchu a působení gravitace země ve tvaru:\n",
    "\n",
    "$$\n",
    "m \\ddot{\\vec{r}} = - m\\vec{g} - \\frac{1}{2} C \\rho S \\vec{v}^2,\n",
    "$$\n",
    "\n",
    "kde $\\vec{v} = \\dot{\\vec{r}}$. Pro jednoduchost zvolte $C = \\rho = S = g = m = 1$.\n",
    "\n",
    "Okrajové podmínky jsou následující:\n",
    "\n",
    "$$\n",
    "\\vec{r}(0) = [x_0, y_0] = [a, 0], \\quad \\vec{r}(T) = [x_T, y_T] = [b, 0],\n",
    "$$\n",
    "\n",
    "tedy v čase $t=0$ se dělová koule nachází v poloze $[a, 0]$, v čase $T$ dopadne po výstřelu zpět na zem v místě $[b, 0]$.\n",
    "\n",
    "<div style=\"margin-top: 25px; margin-bottom: 25px; padding-top: 0px; padding-bottom: 0px; padding-left: 0px; padding-right: 0px; border-radius: 4px; border-color: #00843F; border-right-width: 1px; border-top-width: 1px; border-bottom-width: 1px; border-left-width: 3px; border-style: solid\">\n",
    "<div style=\"background: #D6ECE1; color: #000000; padding-left: 20px; padding-top: 10px; padding-bottom: 10px; border-radius: 1px 3px 0px 0px; font-weight: 600\">Tip</div>\n",
    "<div style=\"padding-left: 20px; padding-right: 20px; padding-top: 0px; padding-bottom: 0px; border-radius: 0px 0px 3px 3px\">\n",
    "<p>\n",
    "\n",
    "Předchozí úlohu je výhodné řešit v následujícím tvaru soustavy **čtyř ODR** (kde místo dvou složek rychlostí máme velikost rychlosti a úhel $\\theta$ aktuálního směru pohybu vůči ose $x$):\n",
    "\n",
    "$$\n",
    "\\begin{align}\n",
    "\\dot{x} &= v \\cos{\\theta}, \\quad \\dot{v} = -\\frac{1}{2} v^2 - g \\sin{\\theta}, \\\\\n",
    "\\dot{y} &= v \\sin{\\theta}, \\quad \\dot{\\theta} = -\\frac{g}{v} \\cos{\\theta},\n",
    "\\end{align}\n",
    "$$\n",
    "\n",
    "s okrajovými podmínkami:\n",
    "\n",
    "$$\n",
    "x(0) = a, \\quad y(0) = 0, \\quad x(T) = b, \\quad y(T) = 0.\n",
    "$$\n",
    "</p>\n",
    "</div>\n",
    "</div>\n",
    "\n",
    "Implementujte metodu střelby pro předchozí úlohu (můžete se inspirovat cvičením) a využíjte ji v následujících **podúlohách**:\n",
    "1. Vyřešte úlohu pro následující parametry: $a = 0, b = 2, T = 1$.\n",
    "    - To odpovídá otázce: \"Jaký má být úhel náklonu děla a síla výstřelu tak, aby koule zasáhla cíl za dobu $T=1$?\"\n",
    "    - V této podúloze bude funkce $F(\\beta)$ vektorem dvou funkcí! Hledáme kořeny soustavy dvou rovnic! (můžete využít například funkce [`scipy.optimize.newton()`](https://docs.scipy.org/doc/scipy/reference/generated/scipy.optimize.newton.html))\n",
    "2. Řešte stejnou úlohu, ale tentokrát doba zasažení cíle může být libovolná a navíc máte podmínku $v(0) = 2$.\n",
    "    - Pokud nás nezajímá, kdy zasáhneme cíl, podmínka $\\vec{r}(T) = [x_T, y_T] = [b, 0]$ ve skutečnosti odpovídá jen jedné podmínce $y(T) = 0$, kde čas $T$ je daný vztahem $x(T>0) = b$ (koule doletěla do vzdálenosti cíle). Tedy pro jednoznačnost potřebujeme další podmínku (počáteční rychlost).\n",
    "    - Zde tedy nemáme přesně daný integrační interval $[0, T]$, musíme tedy v každém kroku kontrolovat zda $x(t) \\geq b$.\n",
    "    - Odpovídá otázce: \"Jaký má být úhel náklonu děla, abych při síle výstřelu $v(0) = 2$ koule zasáhla cíl?\"\n",
    "3. Najděte hodnotu $\\theta(0) = \\theta_0$ tak, aby počáteční rychlost koule $v(0) = v_0$ byla co nejmenší a cíl byl stále zasažen (v libovolném čase).\n",
    "    - hledejte náklon děla v intervalu $\\theta(0) \\in [0.01, \\frac{\\pi}{2}]$\n",
    "    - Uvědomte si, že řešením podúlohy 3 získáváte pomyslný vztah (funkci): $v_0 \\rightarrow \\theta_0$ ($G(v_0) = \\theta_0$). Tedy pro určitou počáteční rychlost dostaneme náklon děla $\\theta_0$ takový, že je zasažen cíl za určitý čas $T=T(v_0)$ (ten závisí na volbě počáteční rychlosti).\n",
    "    - Stačí formulovat funkci $G^{-1}(\\theta_0) = v_0$ analogicky dle podúlohy 3 a nalézt minimum (využijte vhodné knihovní funkce z modulu `scipy.optimize`).\n",
    "\n",
    "Vždy vykreslete výsledné řešení na intervalu $[a, b]$ pro každou podúlohu.\n",
    "</p>\n",
    "</div>\n",
    "</div>"
   ]
  },
  {
   "cell_type": "code",
   "execution_count": null,
   "metadata": {},
   "outputs": [],
   "source": [
    "## DOPLŇTE ##"
   ]
  }
 ],
 "metadata": {
  "kernelspec": {
   "display_name": "Python 3",
   "language": "python",
   "name": "python3"
  },
  "language_info": {
   "codemirror_mode": {
    "name": "ipython",
    "version": 3
   },
   "file_extension": ".py",
   "mimetype": "text/x-python",
   "name": "python",
   "nbconvert_exporter": "python",
   "pygments_lexer": "ipython3",
   "version": "3.10.7"
  }
 },
 "nbformat": 4,
 "nbformat_minor": 2
}
