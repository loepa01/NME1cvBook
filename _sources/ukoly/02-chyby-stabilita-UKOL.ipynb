{
 "cells": [
  {
   "cell_type": "markdown",
   "metadata": {},
   "source": [
    "(ukol1)=\n",
    "# Zápočtový úkol 1"
   ]
  },
  {
   "cell_type": "markdown",
   "metadata": {},
   "source": [
    "<div style=\"margin-top: 25px; margin-bottom: 25px; padding-top: 0px; padding-bottom: 0px; padding-left: 0px; padding-right: 0px; border-radius: 4px; border-color: #E0B32C; border-right-width: 1px; border-top-width: 1px; border-bottom-width: 1px; border-left-width: 3px; border-style: solid\">\n",
    "<div style=\"background: #FFF3CD; color: #000000; padding-left: 20px; padding-top: 10px; padding-bottom: 10px; border-radius: 1px 3px 0px 0px; font-weight: 600\">Úkol - zápočet 1</div>\n",
    "<div style=\"padding-left: 20px; padding-right: 20px; padding-top: 0px; padding-bottom: 0px; border-radius: 0px 0px 3px 3px\">\n",
    "<p>\n",
    "\n",
    "1. Implementujte funkci o jednom parametru $n \\in \\mathbb{N}_0$, která vrací prvních $n + 1$ členů [Maclaurinovy řady](https://cs.wikipedia.org/wiki/Taylorova_%C5%99ada#Maclaurinova_%C5%99ada) (Taylorova řada pro $a = 0$) funkce:\n",
    "\n",
    "$$\n",
    "\\sin(x) = \\sum_{k = 0}^{n} \\frac{(-1)^k}{(2 k + 1)!} x^{2k + 1}\n",
    "$$\n",
    "\n",
    "ve formátu [`numpy.poly1d`](https://numpy.org/doc/stable/reference/generated/numpy.poly1d.html) (pole koeficientů polynomu obalené do speciální Numpy struktury). Vypište polynom pro $n=3$. Vykreslete aproximaci a funkci $\\sin(x)$ na intervalu $[-\\pi,\\pi]$ pro $n = 3$.\n",
    "\n",
    "<div style=\"margin-top: 25px; margin-bottom: 25px; padding-top: 0px; padding-bottom: 0px; padding-left: 0px; padding-right: 0px; border-radius: 4px; border-color: #00843F; border-right-width: 1px; border-top-width: 1px; border-bottom-width: 1px; border-left-width: 3px; border-style: solid\">\n",
    "<div style=\"background: #D6ECE1; color: #000000; padding-left: 20px; padding-top: 10px; padding-bottom: 10px; border-radius: 1px 3px 0px 0px; font-weight: 600\">Tip</div>\n",
    "<div style=\"padding-left: 20px; padding-right: 20px; padding-top: 0px; padding-bottom: 0px; border-radius: 0px 0px 3px 3px\">\n",
    "<p>\n",
    "\n",
    "Pro vyhodnocení polynomu `polynom` v daném bodě $x$ lze použít funkci `np.polyval(polynom, x)` nebo přímo `polynom(x)`.\n",
    "</p>\n",
    "</div>\n",
    "</div>\n",
    "\n",
    "2. Dále napište funkci, která spočítá relativní chybu aproximace této funkce pro libovolné $x \\in \\mathbb{R}$ a $n \\in \\mathbb{N}_0$.\n",
    "Vypiště hodnotu relativní chyby pro $ x = \\frac{\\pi}{2} $ a $ n = 2$ na 16 platných míst.\n",
    "\n",
    "Najděte $ n $ takové, pro které je relativní chyba v $ x = \\frac{\\pi}{2} $ menší než $ 200 \\, \\varepsilon $, kde $ \\varepsilon $ je strojová přesnost pro  64-bitovou floating-point reprezentaci desetinných čísel (`np.float64`). Vypište nalezenou hodnotu $n$.\n",
    "\n",
    "3. Implementujte metodu, která počítá funkci $\\sin(x)$ na celé množině reálných čísel $\\mathbb{R}$ s rozumnou chybou (která příliš neroste pro vysoké hodnoty $x$). Princip řešení tohoto problému je podobný jako v přednášce [zde](lepsi_aprox_ex), kde jsme počítali hodnotu funkce $e^x$.\n",
    "Navrhněte způsob, jak redukovat hodnotu $x$, kterou využíváme v Taylorově řadě funkce $\\sin(x)$. Využijte k tomu 2 známé základní vlastnosti funkce sinus.\n",
    "\n",
    "Vykreslete na intervalu $[-5.1\\pi,5.1\\pi]$ aproximaci funkce sinus a relativní chybu do druhého grafu. Kde dochází k největší *absolutní* a kde *relativní* chybě? Proč?\n",
    "\n",
    "*Bonus:* \n",
    "\n",
    "4. Vylepšete aproximaci dále použitím celkem 3 vlastností tak, že použijete také vlastnost:\n",
    "\n",
    "$$\n",
    "\\sin(x) = \\sin(\\pi - x).\n",
    "$$\n",
    "\n",
    "Tento vztah dále omezí interval, na kterém musíme použít Taylora. (Dejte pozor na zápornou část intervalu.) *Relativní chyba* by měla být menší než $10^{-3}$ na celém $\\mathbb{R}$ již pro $n=3$ (pro čtyři členy Taylorova rozvoje)! To je díky tomu, že je použit rozvoj pouze na intervalu $[0,\\frac{\\pi}{2}]$. Pro jaké $n$ narazí chyba na strojovou přesnost počítače $\\varepsilon$? Pro určité hodnoty $x$ je relativní chyba výrazně vyšší a roste s rozlišením (s menším krokem, se kterým vyhodnocujeme $\\sin(x)$). Proč k tomu dochází a co by s tím šlo udělat?\n",
    "</p>\n",
    "</div>\n",
    "</div>"
   ]
  },
  {
   "cell_type": "code",
   "execution_count": 1,
   "metadata": {},
   "outputs": [],
   "source": [
    "import numpy as np\n",
    "import matplotlib.pyplot as plt"
   ]
  },
  {
   "cell_type": "code",
   "execution_count": 2,
   "metadata": {},
   "outputs": [],
   "source": [
    "## DOPLŇTE ##"
   ]
  }
 ],
 "metadata": {
  "kernelspec": {
   "display_name": "Python 3",
   "language": "python",
   "name": "python3"
  },
  "language_info": {
   "codemirror_mode": {
    "name": "ipython",
    "version": 3
   },
   "file_extension": ".py",
   "mimetype": "text/x-python",
   "name": "python",
   "nbconvert_exporter": "python",
   "pygments_lexer": "ipython3",
   "version": "3.10.7"
  }
 },
 "nbformat": 4,
 "nbformat_minor": 2
}
