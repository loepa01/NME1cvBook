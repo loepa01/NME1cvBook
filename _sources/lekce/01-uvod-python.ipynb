{
 "cells": [
  {
   "cell_type": "markdown",
   "metadata": {},
   "source": [
    "# Úvod do jazyka Python"
   ]
  },
  {
   "cell_type": "markdown",
   "metadata": {},
   "source": [
    "Tato přednáška přestavuje stručný úvod do programovacího jazyka Python. Probrány jsou jak základní tak pokročilejší nástroje, které budou používány po zbytek kurzu. Pro zájemce o hlubší porozumění Pythonu doporučuji kurz [Vědecké programování v Pythonu](https://fjfi.pythonic.eu/) (12PYTH), ze kterého tato přednáška čerpá.\n",
    "\n",
    "Další užitečný kurz v češtině je například od [Pyladies](https://naucse.python.cz/course/pyladies/)."
   ]
  },
  {
   "cell_type": "markdown",
   "metadata": {},
   "source": [
    "(install-all)=\n",
    "## Instalace Pythonu a prostředí Jupyter notebook"
   ]
  },
  {
   "cell_type": "markdown",
   "metadata": {},
   "source": [
    "V druhé části kurzu Numerických metod budeme používat moderní prostědí [Jupyter notebook](https://jupyter.org/) (soubory s koncovkou `.ipynb`), které jsou velmi vhodné jak na výuku tak na rychlé otestování a prototipování kódu.\n",
    "\n",
    "Máte volbu mezi dvěmi možnostmi, jak sledovat přednášku a mít možnost spouštět kód:\n",
    "1. Pracovat v *online* interaktivním prostředí - *Binder*, ***JupiterHub FJFI***, *Google Colab*\n",
    "2. Pracovat *lokálně* na svém počítači"
   ]
  },
  {
   "cell_type": "markdown",
   "metadata": {},
   "source": [
    "### Postup instalace\n",
    "\n",
    "**Online interaktivní prostředí** (doporučuji)\n",
    "\n",
    "Pro spuštení interaktivní verze této stránky klikněte ve vrchním menu na <i class=\"fas fa-rocket\" aria-hidden=\"true\"></i> a zvolte:\n",
    "* *Binder* - ve kterém lze <i>Jupyter notebook</i> (JP) upravovat a následně uložit na disk\n",
    "* *JupyterHub* - místní prostědí běžící u nás na FJFI, umožňuje **uložit** ve vlastním účtu\n",
    "* *Google Colab* - na vlastní nebezpečí\n",
    "\n",
    "<div style=\"margin-top: 25px; margin-bottom: 25px; padding-top: 0px; padding-bottom: 0px; padding-left: 0px; padding-right: 0px; border-radius: 4px; border-color: #F4330C; border-right-width: 1px; border-top-width: 1px; border-bottom-width: 1px; border-left-width: 3px; border-style: solid\">\n",
    "<div style=\"background: #F7C8C0; color: #000000; padding-left: 20px; padding-top: 10px; padding-bottom: 10px; border-radius: 1px 3px 0px 0px; font-weight: 600\">Pozor</div>\n",
    "<div style=\"padding-left: 20px; padding-right: 20px; padding-top: 0px; padding-bottom: 0px; border-radius: 0px 0px 3px 3px\">\n",
    "<p>\n",
    "\n",
    "Spuštění prostředí *Binder* může trvat několik desítek sekund. Jupyter notebook je v tomto prostředí uložen pod dočasným URL. Při zavření okna se postup ztratí! Je nutné tedy upravený soubor před zavřením okna stáhnout. \n",
    "</p>\n",
    "</div>\n",
    "</div>"
   ]
  },
  {
   "cell_type": "markdown",
   "metadata": {},
   "source": [
    "**Lokální prostření**\n",
    "\n",
    "Pro programování na svém počítači je třeba:\n",
    "1. Nainstalovat [Python](https://www.python.org/downloads/) (často již nainstalován s OS)\n",
    "2. Nainstalovat [Jupyter notebook](https://jupyter.org/install)\n",
    "4. Stáhnout repozitář z GitHubu (ve vrchním menu tlačítko <i class=\"fab fa-github\" aria-hidden=\"true\"></i>)\n",
    "5. Pak příkazem `> jupyter notebook` se spustí prostědí v prohlížeči.\n",
    "\n",
    "Jako alternativu doporučuji použít IDE (Integrated Development Environment) [Visual Studio Code](https://code.visualstudio.com/), ve kterém je možné přidat rozšíření pro [Python](https://marketplace.visualstudio.com/items?itemName=ms-python.python) a [Jupyter notebook](https://marketplace.visualstudio.com/items?itemName=ms-toolsai.jupyter).\n",
    "Také je možné přímo stáhnout GitHub repozitáře přes [odpovídající rozšíření](https://marketplace.visualstudio.com/items?itemName=GitHub.vscode-pull-request-github).\n",
    "\n",
    "\n",
    "\n",
    "<div style=\"margin-top: 25px; margin-bottom: 25px; padding-top: 0px; padding-bottom: 0px; padding-left: 0px; padding-right: 0px; border-radius: 4px; border-color: #00843F; border-right-width: 1px; border-top-width: 1px; border-bottom-width: 1px; border-left-width: 3px; border-style: solid\">\n",
    "<div style=\"background: #D6ECE1; color: #000000; padding-left: 20px; padding-top: 10px; padding-bottom: 10px; border-radius: 1px 3px 0px 0px; font-weight: 600\">Tip</div>\n",
    "<div style=\"padding-left: 20px; padding-right: 20px; padding-top: 0px; padding-bottom: 0px; border-radius: 0px 0px 3px 3px\">\n",
    "<p>\n",
    "\n",
    "Další možnosti instalace nástrojů jsou popsány [zde](https://fjfi.pythonic.eu/posts/nastroje.html#Doporu%C4%8Den%C3%A1-sada-n%C3%A1stroj%C5%AF).\n",
    "\n",
    "Pro pokročilé možnosti *virtuálních prostředí* postupujte podle postupu [zde](https://fjfi.pythonic.eu/posts/prvni-krucky.html#Virtu%C3%A1ln%C3%AD-prost%C5%99ed%C3%AD) nebo [zde](https://valenpe7.github.io/numerical_methods/README.html#run-the-notebooks-offline).\n",
    "</p>\n",
    "</div>\n",
    "</div>"
   ]
  },
  {
   "cell_type": "markdown",
   "metadata": {},
   "source": [
    "## Jupyter notebook\n",
    "```\n",
    "* definice, použití, výhody a nevýhody\n",
    "```\n",
    "\n",
    "Jupyter notebook je interaktivní dokument obsahující buňky se spustitelným kódem, textem, obrázky, vzorci a apod. Je to velmi vhodný nástroj pro výuku a proto všechen materiál k tomuto cvičení je ve formě těchto notebooků.\n",
    "\n",
    "V této kapitolce se krátce seznámíme, jak se s Jupyter notebooky pracuje. Podrobný popis všech vychytávek si můžete přečíst [zde](https://realpython.com/jupyter-notebook-introduction/)."
   ]
  },
  {
   "cell_type": "markdown",
   "metadata": {},
   "source": [
    "### Hello world!"
   ]
  },
  {
   "cell_type": "markdown",
   "metadata": {},
   "source": [
    "<div style=\"margin-top: 25px; margin-bottom: 25px; padding-top: 0px; padding-bottom: 0px; padding-left: 0px; padding-right: 0px; border-radius: 4px; border-color: #E0B32C; border-right-width: 1px; border-top-width: 1px; border-bottom-width: 1px; border-left-width: 3px; border-style: solid\">\n",
    "<div style=\"background: #FFF3CD; color: #000000; padding-left: 20px; padding-top: 10px; padding-bottom: 10px; border-radius: 1px 3px 0px 0px; font-weight: 600\">Úkol</div>\n",
    "<div style=\"padding-left: 20px; padding-right: 20px; padding-top: 0px; padding-bottom: 0px; border-radius: 0px 0px 3px 3px\">\n",
    "<p>\n",
    "\n",
    "Napište `print(\"Hello world!\")` a stiskněte `Shift` `+` `Enter` (nebo `Ctrl` `+` `Enter`)\n",
    "</p>\n",
    "</div>\n",
    "</div>"
   ]
  },
  {
   "cell_type": "code",
   "execution_count": 1,
   "metadata": {},
   "outputs": [],
   "source": [
    "## DOPLŇTE ##"
   ]
  },
  {
   "cell_type": "markdown",
   "metadata": {},
   "source": [
    "Pomocí klávesy `b` vložíte další řádek do JP.\n",
    "* Stiskněte `b`."
   ]
  },
  {
   "cell_type": "markdown",
   "metadata": {},
   "source": [
    "Odstranění řádku: vyberte řádek v JP a stiskněte `d` `+` `d`\n",
    "\n",
    "Klávesou `a` vložíte nový řádek nad právě vybraný.\n",
    "\n",
    "Přidání buňky s textem:\n",
    "1. Stiskněte `a`. \n",
    "2. Vyberte tento nový řádek a stiskněte `m`. Nyní lze do řádku místo kódu zapisovat text.\n",
    "\n",
    "Pokud chcete řádek převést na kód, stiskněte `y`.\n",
    "\n",
    "\n",
    "\n",
    "<div style=\"margin-top: 25px; margin-bottom: 25px; padding-top: 0px; padding-bottom: 0px; padding-left: 0px; padding-right: 0px; border-radius: 4px; border-color: #00843F; border-right-width: 1px; border-top-width: 1px; border-bottom-width: 1px; border-left-width: 3px; border-style: solid\">\n",
    "<div style=\"background: #D6ECE1; color: #000000; padding-left: 20px; padding-top: 10px; padding-bottom: 10px; border-radius: 1px 3px 0px 0px; font-weight: 600\">Tip</div>\n",
    "<div style=\"padding-left: 20px; padding-right: 20px; padding-top: 0px; padding-bottom: 0px; border-radius: 0px 0px 3px 3px\">\n",
    "<p>\n",
    "\n",
    "Pro nápovědu stiskněte `h`.\n",
    "</p>\n",
    "</div>\n",
    "</div>"
   ]
  },
  {
   "cell_type": "markdown",
   "metadata": {},
   "source": [
    "## Jazyk Python\n",
    "Python je univerzální programovací jazyk, hojně používaný vědeckou komunitou. Existuje spousta knihoven řešící celou řadou úloh za vás. Některé nejpoužívanější knihovny si v tomto kurzu ukážeme.\n",
    "\n",
    "Základní vlastnosti Pythonu (vs C++):\n",
    "* *Dynamicky typovaný* jazyk - typ proměnné se určuje až při běhu programu\n",
    "* *Silně typovaný* (strongly typed) jazyk - vše má jasně definovaný typed\n",
    "* *Interpretovaný* jazyk - kód v Pythonu není kompilován, až při běhu dochází k jeho interpretaci\n",
    "* Obsahuje rozsáhlou *vestavěnou knihovnu modulů* a funkcí\n",
    "* Přehledná, jednoduchá a čitelná *syntaxe*\n",
    "* Objekově orientovaný + funkcionální programování"
   ]
  },
  {
   "cell_type": "markdown",
   "metadata": {},
   "source": [
    "### Komentáře"
   ]
  },
  {
   "cell_type": "markdown",
   "metadata": {},
   "source": [
    "Jednořádkový komentář se zadává za znak `#`, více řádků lze zakomentovat obklopením `\"\"\"`:"
   ]
  },
  {
   "cell_type": "code",
   "execution_count": 2,
   "metadata": {},
   "outputs": [
    {
     "name": "stdout",
     "output_type": "stream",
     "text": [
      "Hello world!\n"
     ]
    }
   ],
   "source": [
    "# toto je komentar\n",
    "\"\"\"\n",
    "Komentar\n",
    "na vice\n",
    "radku...\n",
    "\"\"\"\n",
    "print(\"Hello world!\") \n",
    "#print(\"Hello world not printed!\") "
   ]
  },
  {
   "cell_type": "markdown",
   "metadata": {},
   "source": [
    "### Základní aritmetické operace"
   ]
  },
  {
   "cell_type": "markdown",
   "metadata": {},
   "source": [
    "Inicializace proměnných `a`, `b`, základní aritmetické operace a výpis výsledku pomocí funkce `print()`:"
   ]
  },
  {
   "cell_type": "code",
   "execution_count": 3,
   "metadata": {},
   "outputs": [
    {
     "name": "stdout",
     "output_type": "stream",
     "text": [
      "Součet  48.0\n",
      "Rozdíl  38.0\n",
      "Součin  215.0\n",
      "Podíl  8.6\n",
      "Podíl beze zbytku  8.0\n",
      "Mocnina  147008443.0\n",
      "Zbytek po dělení  3.0\n"
     ]
    }
   ],
   "source": [
    "a = 43\n",
    "b = 5.0\n",
    "\n",
    "soucet = a + b\n",
    "rozdil = a - b\n",
    "soucin = a * b\n",
    "podil = a / b\n",
    "podil_beze_zbytku = a // b\n",
    "\n",
    "mocnina = a**b    # v C++ pow()\n",
    "zbytek_po_deleni = a % b\n",
    "\n",
    "# vypis\n",
    "print('Součet ', soucet)\n",
    "print('Rozdíl ', rozdil)\n",
    "print('Součin ', soucin)\n",
    "print('Podíl ', podil)\n",
    "print('Podíl beze zbytku ', podil_beze_zbytku)\n",
    "\n",
    "print('Mocnina ', mocnina)\n",
    "print('Zbytek po dělení ', zbytek_po_deleni)"
   ]
  },
  {
   "cell_type": "markdown",
   "metadata": {},
   "source": [
    "### Podmínky - if, else a elif"
   ]
  },
  {
   "cell_type": "markdown",
   "metadata": {},
   "source": [
    "Za klíčovými slovy `if` a `else` musíme psát `:`."
   ]
  },
  {
   "cell_type": "code",
   "execution_count": 4,
   "metadata": {},
   "outputs": [
    {
     "name": "stdout",
     "output_type": "stream",
     "text": [
      "musi to byt nula\n",
      "Tento text se vypise vzdy.\n"
     ]
    }
   ],
   "source": [
    "cislo = 0\n",
    "\n",
    "if cislo > 0:\n",
    "    print(cislo, \"je kladne.\")\n",
    "elif (cislo < 0):    # logický výraz může být uzavřen závorky\n",
    "    print(cislo, \"je zaporne\")\n",
    "else:\n",
    "    print(\"musi to byt nula\")\n",
    "\n",
    "print(\"Tento text se vypise vzdy.\")"
   ]
  },
  {
   "cell_type": "markdown",
   "metadata": {},
   "source": [
    "<div style=\"margin-top: 25px; margin-bottom: 25px; padding-top: 0px; padding-bottom: 0px; padding-left: 0px; padding-right: 0px; border-radius: 4px; border-color: #F4330C; border-right-width: 1px; border-top-width: 1px; border-bottom-width: 1px; border-left-width: 3px; border-style: solid\">\n",
    "<div style=\"background: #F7C8C0; color: #000000; padding-left: 20px; padding-top: 10px; padding-bottom: 10px; border-radius: 1px 3px 0px 0px; font-weight: 600\">Pozor</div>\n",
    "<div style=\"padding-left: 20px; padding-right: 20px; padding-top: 0px; padding-bottom: 0px; border-radius: 0px 0px 3px 3px\">\n",
    "<p>\n",
    "\n",
    "Vnitřní bloky kódu se v Pythonu **odsazují** o `tab` nebo **čtyři mezery**! (V C++ je block uzavřen závorky `{` a `}`, a odsazení může být libovolné.)\n",
    "</p>\n",
    "</div>\n",
    "</div>"
   ]
  },
  {
   "cell_type": "markdown",
   "metadata": {},
   "source": [
    "Logické hodnoty jsou `True` a `False`, operátory pro složitější logické výrazy jsou `or`, `and` a `not`."
   ]
  },
  {
   "cell_type": "code",
   "execution_count": 5,
   "metadata": {},
   "outputs": [
    {
     "name": "stdout",
     "output_type": "stream",
     "text": [
      "False True\n",
      "True\n"
     ]
    }
   ],
   "source": [
    "x = 4\n",
    "print(x > 1 and x < 3, x == 3 or x == 4)\n",
    "\n",
    "print(True == (not False))"
   ]
  },
  {
   "cell_type": "markdown",
   "metadata": {},
   "source": [
    "### Základní datové struktury"
   ]
  },
  {
   "cell_type": "markdown",
   "metadata": {},
   "source": [
    "**String** (řetězec)"
   ]
  },
  {
   "cell_type": "code",
   "execution_count": 6,
   "metadata": {},
   "outputs": [
    {
     "name": "stdout",
     "output_type": "stream",
     "text": [
      "Abc3Abc3Abc3!\n"
     ]
    }
   ],
   "source": [
    "a = 3 * (\"Abc%i\" % 3) + \"!\"    # string lze vytvořit například takto\n",
    "print(a)"
   ]
  },
  {
   "cell_type": "code",
   "execution_count": 7,
   "metadata": {},
   "outputs": [
    {
     "name": "stdout",
     "output_type": "stream",
     "text": [
      "cislo = 37\n",
      "cislo = 37\n",
      "cislo = 37, cislo^2 = 1369\n",
      "cislo = 37, cislo^2 = 1369\n"
     ]
    }
   ],
   "source": [
    "# různé způsoby tisku čísla a textu\n",
    "cislo = 37\n",
    "\n",
    "print(\"cislo = \" + str(cislo))\n",
    "print(\"cislo = %i\" % cislo)\n",
    "print(f\"cislo = {cislo}, cislo^2 = {cislo**2}\")\n",
    "print(\"cislo = {0}, cislo^2 = {1}\".format(cislo, cislo**2))"
   ]
  },
  {
   "cell_type": "markdown",
   "metadata": {},
   "source": [
    "**Konverze typů**\n",
    "\n",
    "Každá proměnná má v Pythonu jasně definovaný typ."
   ]
  },
  {
   "cell_type": "code",
   "execution_count": 8,
   "metadata": {},
   "outputs": [
    {
     "name": "stdout",
     "output_type": "stream",
     "text": [
      "4 <class 'int'>\n",
      "text <class 'str'>\n"
     ]
    }
   ],
   "source": [
    "x = 4\n",
    "print(x, type(x))\n",
    "\n",
    "s = \"text\"\n",
    "print(s, type(s)) "
   ]
  },
  {
   "cell_type": "markdown",
   "metadata": {},
   "source": [
    "Mezi datovými typy je možné přecházet pomocí speciálních funkcí:"
   ]
  },
  {
   "cell_type": "code",
   "execution_count": 9,
   "metadata": {},
   "outputs": [
    {
     "data": {
      "text/plain": [
       "'3.14'"
      ]
     },
     "execution_count": 9,
     "metadata": {},
     "output_type": "execute_result"
    }
   ],
   "source": [
    "int(\"3\")        # string -> int\n",
    "float(\"3.14\")   # string -> float\n",
    "str(3.14)       # float -> string"
   ]
  },
  {
   "cell_type": "markdown",
   "metadata": {},
   "source": [
    "### Kontejnery\n",
    "\n",
    "Kontejnery jsou datové struktury obsahující větší počet prvků.\n",
    "Mezi základní patří:\n",
    "* `tuple` - *neměnitelný* seznam (pole)\n",
    "* `list` - *měnitelný* seznam (pole)\n",
    "* `dics` - *asociativní* pole\n",
    "* `set` - množina prvků\n",
    "\n",
    "Dále uvidíme, že:\n",
    "* Prvky nemusejí být stejného typu!\n",
    "* Pro indexování (přístup k jednotlivým prvkům) se používají závorky `[]` a indexuje se od **0**."
   ]
  },
  {
   "cell_type": "markdown",
   "metadata": {},
   "source": [
    "**Tuple**\n",
    "\n",
    "Tuple je n-tice prvků, které po vytvoření nelze měnit!"
   ]
  },
  {
   "cell_type": "code",
   "execution_count": 10,
   "metadata": {},
   "outputs": [
    {
     "name": "stdout",
     "output_type": "stream",
     "text": [
      "tuple1=(1, 'a', 5)\n",
      "tuple2=(1, 'a')\n",
      "tuple3=('a', 'b')\n",
      "tuple4=(0, 1, 2, 3, 4, 5, 6, 7, 8, 9)\n",
      "tuple5=()\n",
      "tuple6=('single',)\n",
      "tuple7=(0, '1', (0, 1, 2))\n"
     ]
    }
   ],
   "source": [
    "tuple1 = (1, 'a', 5)           # Základní syntax vytváření tuple (kulaté závorky)\n",
    "tuple2 = 1, 'a'                # Závorky nejsou povinné, ale... !\n",
    "tuple3 = tuple([\"a\", \"b\"])     # Pokročilé: Vytvoření tuple z jiného kontejneru\n",
    "tuple4 = tuple(range(0, 10))   # Pokročilé: Vytvoření tuple z iterátoru / generátoru\n",
    "tuple5 = ()                    # Prázdný tuple\n",
    "tuple6 = (\"single\", )          # Tuple s jedním prvkem\n",
    "tuple7 = 0, \"1\", (0, 1, 2)     # Tuple může pochopitelně obsahovat další tuple\n",
    "\n",
    "print(f\"tuple1={tuple1}\")\n",
    "print(f\"tuple2={tuple2}\")\n",
    "print(f\"tuple3={tuple3}\")\n",
    "print(f\"tuple4={tuple4}\")\n",
    "print(f\"tuple5={tuple5}\")\n",
    "print(f\"tuple6={tuple6}\")\n",
    "print(f\"tuple7={tuple7}\")"
   ]
  },
  {
   "cell_type": "code",
   "execution_count": 11,
   "metadata": {},
   "outputs": [
    {
     "name": "stdout",
     "output_type": "stream",
     "text": [
      "0\n",
      "9\n",
      "8\n"
     ]
    }
   ],
   "source": [
    "print(tuple4[0])         # První prvek\n",
    "print(tuple4[-1])        # Poslední prvek\n",
    "print(tuple4[-2])        # Předposlední prvek"
   ]
  },
  {
   "cell_type": "markdown",
   "metadata": {},
   "source": [
    "Vyzkoušejte, že skutečně není možné přepsat prvky `tuple`:"
   ]
  },
  {
   "cell_type": "code",
   "execution_count": 12,
   "metadata": {},
   "outputs": [],
   "source": [
    "#tuple1[0] = 58"
   ]
  },
  {
   "cell_type": "markdown",
   "metadata": {},
   "source": [
    "V praxi se s tímto typem setkáte při volání funkcí, které vrací více hodnot. Odpovídající proměnné je pak možné *rozbalit* následujícím způsobem: "
   ]
  },
  {
   "cell_type": "code",
   "execution_count": 13,
   "metadata": {},
   "outputs": [
    {
     "name": "stdout",
     "output_type": "stream",
     "text": [
      "37 58\n"
     ]
    }
   ],
   "source": [
    "def dvecisla():\n",
    "    return 37, 58\n",
    "\n",
    "a, b = dvecisla()   # rozbalení tuplu\n",
    "print(a, b)"
   ]
  },
  {
   "cell_type": "markdown",
   "metadata": {},
   "source": [
    "**List**\n",
    "\n",
    "List je opět n-tice prvků, ale oproti `tuple` je možné prvky měnit. Odpovídá polím (array) v C++. Navíc ale může obsahovat prvky různých typů!"
   ]
  },
  {
   "cell_type": "code",
   "execution_count": 14,
   "metadata": {},
   "outputs": [
    {
     "name": "stdout",
     "output_type": "stream",
     "text": [
      "['a', 'b', 'c']\n",
      "[0, 0.0, '0.0']\n",
      "[1, 'a', 5]\n"
     ]
    }
   ],
   "source": [
    "list(), []                 # prázdný list\n",
    "list1 = [\"a\", \"b\", \"c\"]    # list vytvoříme pomocí [...]\n",
    "list2 = [0, 0.0, \"0.0\"]    # můžeme tam dát libovolné typy\n",
    "list3 = list(tuple1)       # nebo list vytvořit z tuple\n",
    "\n",
    "print(list1)\n",
    "print(list2)\n",
    "print(list3)"
   ]
  },
  {
   "cell_type": "markdown",
   "metadata": {},
   "source": [
    "Jazyk Python poskytuje tyto základní operace pro práci se seznami (poli):"
   ]
  },
  {
   "cell_type": "code",
   "execution_count": 15,
   "metadata": {},
   "outputs": [
    {
     "data": {
      "text/plain": [
       "'append, clear, copy, count, extend, index, insert, pop, remove, reverse, sort'"
      ]
     },
     "execution_count": 15,
     "metadata": {},
     "output_type": "execute_result"
    }
   ],
   "source": [
    "# všechny dostupné funkce pro operace s polem\n",
    "\", \".join(item for item in dir(list) if not item.startswith(\"_\"))"
   ]
  },
  {
   "cell_type": "code",
   "execution_count": 16,
   "metadata": {},
   "outputs": [
    {
     "name": "stdout",
     "output_type": "stream",
     "text": [
      "['a', 'b', 'c', 'd']\n",
      "['d', 'c', 'b', 'a']\n",
      "a\n",
      "['d', 'c', 'b']\n",
      "['c', 'b']\n"
     ]
    }
   ],
   "source": [
    "list1.append(\"d\")         # přidání prvku\n",
    "print(list1)              # list1 se změnil!\n",
    "list1.sort(reverse=True)\n",
    "print(list1)\n",
    "print(list1.pop())        # vyjme poslední prvek\n",
    "print(list1)\n",
    "\n",
    "list1.remove(\"d\")         # odstranění prvku(ů)\n",
    "print(list1)"
   ]
  },
  {
   "cell_type": "markdown",
   "metadata": {},
   "source": [
    "U kontejnerů typu `tuple` a `list` lze provádět výběr více prvků najednou pomocí **řezů** podle pravidla:\n",
    "```\n",
    "[[dolní_mez] : [horní_mez] : [krok]]\n",
    "```"
   ]
  },
  {
   "cell_type": "code",
   "execution_count": 17,
   "metadata": {},
   "outputs": [
    {
     "name": "stdout",
     "output_type": "stream",
     "text": [
      "[0, 1, 2, 3, 4, 5, 6, 7, 8, 9]\n",
      "[0, 1]\n",
      "[0, 1, 2, 3, 4]\n",
      "[1, 2, 3, 4, 5, 6]\n",
      "[5, 6, 7, 8, 9]\n",
      "[7, 8, 9]\n",
      "[0, 2, 4, 6, 8]\n"
     ]
    }
   ],
   "source": [
    "l = list(range(10))\n",
    "\n",
    "print(l[:])     # vyber všechny prvky\n",
    "print(l[0:2])   # vyber první 2 prvky\n",
    "print(l[:5])    # vyber prvních 5 prvků\n",
    "print(l[1:7])   # vyber prvky 1-6\n",
    "print(l[5:])    # vyber všechny prvky od indexu 5 dál \n",
    "print(l[-3:])   # poslední tři prvky\n",
    "\n",
    "print(l[::2])   # sudé prvky"
   ]
  },
  {
   "cell_type": "markdown",
   "metadata": {},
   "source": [
    "**Dict** a **Set**\n",
    "\n",
    "Tyto kontejnery používat typicky v kurzu nebudeme. Zájemci se o nich můžou vzdělat opět [zde](https://fjfi.pythonic.eu/posts/kontejnery.html)."
   ]
  },
  {
   "cell_type": "markdown",
   "metadata": {},
   "source": [
    "### Opakování - cykly"
   ]
  },
  {
   "cell_type": "markdown",
   "metadata": {},
   "source": [
    "**For**\n",
    "\n",
    "Zde využijeme funkci `range(min,max,krok)`, která vytvoří sekvenci celých čísel od `min` po `max` ***(prvek max není v sekvenci obsažen)*** s uvedeným krokem. Výchozí hodnoty jsou `min = 0` a `krok = 1`.\n",
    "Tuto funkci lze použít několika různými způsoby:"
   ]
  },
  {
   "cell_type": "code",
   "execution_count": 18,
   "metadata": {},
   "outputs": [
    {
     "name": "stdout",
     "output_type": "stream",
     "text": [
      "[0, 1, 2, 3, 4, 5, 6, 7, 8, 9]\n",
      "[0, 1, 2, 3, 4, 5, 6, 7, 8, 9]\n",
      "[0, 1, 2, 3, 4, 5, 6, 7, 8, 9]\n"
     ]
    }
   ],
   "source": [
    "print(list(range(10)))\n",
    "print(list(range(0, 10)))\n",
    "print(list(range(0, 10, 1)))"
   ]
  },
  {
   "cell_type": "code",
   "execution_count": 19,
   "metadata": {},
   "outputs": [
    {
     "name": "stdout",
     "output_type": "stream",
     "text": [
      "0\n",
      "1\n",
      "2\n",
      "3\n",
      "4\n",
      "5\n",
      "6\n",
      "7\n",
      "8\n",
      "9\n"
     ]
    }
   ],
   "source": [
    "for i in range(10):\n",
    "    print(i)"
   ]
  },
  {
   "cell_type": "code",
   "execution_count": 20,
   "metadata": {},
   "outputs": [
    {
     "name": "stdout",
     "output_type": "stream",
     "text": [
      "1\n",
      "2\n",
      "4\n",
      "8\n",
      "16\n"
     ]
    }
   ],
   "source": [
    "pole = [1,2,4,8,16]    # procházení pole verze 1\n",
    "for i in range(len(pole)):\n",
    "    print(pole[i])"
   ]
  },
  {
   "cell_type": "markdown",
   "metadata": {},
   "source": [
    "**Foreach**\n",
    "\n",
    "Další způsob procházení pole je pomocí *foreach* konstrukce, která v Pythonu má stejný zápis:"
   ]
  },
  {
   "cell_type": "code",
   "execution_count": 21,
   "metadata": {},
   "outputs": [
    {
     "name": "stdout",
     "output_type": "stream",
     "text": [
      "1\n",
      "2\n",
      "4\n",
      "8\n",
      "16\n"
     ]
    }
   ],
   "source": [
    "pole = [1,2,4,8,16]    # procházení pole verze 2\n",
    "for x in pole:\n",
    "    print(x)"
   ]
  },
  {
   "cell_type": "markdown",
   "metadata": {},
   "source": [
    "**While**\n",
    "\n",
    "Dalším typem cyklu je `while` cyklus, který běží dokud je splněna určitá podmínka."
   ]
  },
  {
   "cell_type": "code",
   "execution_count": 22,
   "metadata": {},
   "outputs": [
    {
     "name": "stdout",
     "output_type": "stream",
     "text": [
      "0\n",
      "1\n",
      "2\n",
      "3\n",
      "4\n",
      "5\n",
      "6\n",
      "7\n",
      "8\n",
      "9\n"
     ]
    }
   ],
   "source": [
    "x = 0\n",
    "while x < 10:\n",
    "  print(x)\n",
    "  x = x + 1"
   ]
  },
  {
   "cell_type": "markdown",
   "metadata": {},
   "source": [
    "<div style=\"margin-top: 25px; margin-bottom: 25px; padding-top: 0px; padding-bottom: 0px; padding-left: 0px; padding-right: 0px; border-radius: 4px; border-color: #00843F; border-right-width: 1px; border-top-width: 1px; border-bottom-width: 1px; border-left-width: 3px; border-style: solid\">\n",
    "<div style=\"background: #D6ECE1; color: #000000; padding-left: 20px; padding-top: 10px; padding-bottom: 10px; border-radius: 1px 3px 0px 0px; font-weight: 600\">Tip</div>\n",
    "<div style=\"padding-left: 20px; padding-right: 20px; padding-top: 0px; padding-bottom: 0px; border-radius: 0px 0px 3px 3px\">\n",
    "<p>\n",
    "\n",
    "`x = x + 1` je možné napsat zkratkou pomocí `x += 1` (ovšem C++ operátor `x++` v Pythonu použít nelze!).\n",
    "</p>\n",
    "</div>\n",
    "</div>"
   ]
  },
  {
   "cell_type": "markdown",
   "metadata": {},
   "source": [
    "**Continue**\n",
    "\n",
    "Pomocí příkazu `continue` lze přeskočit zbytek iterace v cyklu a skočit na další:"
   ]
  },
  {
   "cell_type": "code",
   "execution_count": 23,
   "metadata": {},
   "outputs": [
    {
     "name": "stdout",
     "output_type": "stream",
     "text": [
      "a = 1\n",
      "a = 3\n",
      "a = 5\n",
      "Konec, a = 1\n"
     ]
    }
   ],
   "source": [
    "a = 0\n",
    "while a < 5:\n",
    "    a += 1\n",
    "    if a % 2 == 0:    # sudá čísla nebudeme vypisovat\n",
    "        continue\n",
    "    print(\"a = %i\" % a)\n",
    "else:\n",
    "    a = 1\n",
    "print(\"Konec, a = %i\" % a)"
   ]
  },
  {
   "cell_type": "markdown",
   "metadata": {},
   "source": [
    "**Break**\n",
    "\n",
    "Pomocí příkazu `break` lze předčasně ukončit cyklus:"
   ]
  },
  {
   "cell_type": "code",
   "execution_count": 24,
   "metadata": {},
   "outputs": [
    {
     "name": "stdout",
     "output_type": "stream",
     "text": [
      "Výsledek je: 988\n"
     ]
    }
   ],
   "source": [
    "# pomocí break najdeme největší trojciferené číslo dělitelné 19ti\n",
    "a = 999\n",
    "while a > 0:\n",
    "    if a % 19 == 0:\n",
    "        print(\"Výsledek je: %i\" % a)\n",
    "        break\n",
    "    a -= 1\n",
    "else:\n",
    "    # break nespustí else část\n",
    "    print(\"Nic jsme nenašli\")"
   ]
  },
  {
   "cell_type": "markdown",
   "metadata": {},
   "source": [
    "<div style=\"margin-top: 25px; margin-bottom: 25px; padding-top: 0px; padding-bottom: 0px; padding-left: 0px; padding-right: 0px; border-radius: 4px; border-color: #276BE9; border-right-width: 1px; border-top-width: 1px; border-bottom-width: 1px; border-left-width: 3px; border-style: solid\">\n",
    "<div style=\"background: #DCE7FC; color: #000000; padding-left: 20px; padding-top: 10px; padding-bottom: 10px; border-radius: 1px 3px 0px 0px; font-weight: 600\">Poznámka</div>\n",
    "<div style=\"padding-left: 20px; padding-right: 20px; padding-top: 0px; padding-bottom: 0px; border-radius: 0px 0px 3px 3px\">\n",
    "<p>\n",
    "\n",
    "V Pythonu je možné psát `else` blok za `while` cyklus, který se spustí ve chvíli, kdy je podmínka `False`.\n",
    "</p>\n",
    "</div>\n",
    "</div>"
   ]
  },
  {
   "cell_type": "markdown",
   "metadata": {},
   "source": [
    "### Definice vlastní funkce\n",
    "\n",
    "Vlastní funkce se definují pomocí hesla `def`. Ukážeme si to na výpočtu faktoriálu pomocí rekurze:"
   ]
  },
  {
   "cell_type": "code",
   "execution_count": 25,
   "metadata": {},
   "outputs": [
    {
     "data": {
      "text/plain": [
       "3628800"
      ]
     },
     "execution_count": 25,
     "metadata": {},
     "output_type": "execute_result"
    }
   ],
   "source": [
    "def factorial(n):\n",
    "    if (n < 2):\n",
    "        return n\n",
    "    return n*factorial(n-1)\n",
    "\n",
    "factorial(10)"
   ]
  },
  {
   "cell_type": "markdown",
   "metadata": {},
   "source": [
    "### Další základní funkce\n",
    "Python obsahuje několik základních funkcí, které se běžně při psaní kódu používají.\n",
    "Celý jejich seznam můžete nalézt [zde](https://docs.python.org/3.12/library/functions.html).\n",
    "Tady je výtah těch nejběžnějších, které se nám budou hodit:\n",
    "* `dir()` - vrací seznam dostupných funkcí\n",
    "* `print()` - výpis na standartní výstup\n",
    "* `len()` - vrací délku řetězce\n",
    "* `range()` - vrací sekvenci/pole po sobě jdoucích čísel\n",
    "* `input()` - čtení standartního vstupu\n",
    "* `str()` - převod proměnné (čísla) na řetězec (string)\n",
    "* `int()` - převod řetezce na celé číslo\n",
    "* `float()` - převod řetezce na desetinné číslo\n",
    "* `type()` - vrací typ proměnné\n",
    "* `open()` - otevření souboru\n",
    "* `close()` - zavření souboru\n",
    "\n",
    "\n",
    "<div style=\"margin-top: 25px; margin-bottom: 25px; padding-top: 0px; padding-bottom: 0px; padding-left: 0px; padding-right: 0px; border-radius: 4px; border-color: #E0B32C; border-right-width: 1px; border-top-width: 1px; border-bottom-width: 1px; border-left-width: 3px; border-style: solid\">\n",
    "<div style=\"background: #FFF3CD; color: #000000; padding-left: 20px; padding-top: 10px; padding-bottom: 10px; border-radius: 1px 3px 0px 0px; font-weight: 600\">Úkol</div>\n",
    "<div style=\"padding-left: 20px; padding-right: 20px; padding-top: 0px; padding-bottom: 0px; border-radius: 0px 0px 3px 3px\">\n",
    "<p>\n",
    "\n",
    "Vyžádejte si od uživatele číslo pomocí funkce `input()` a vytiskněte jeho druhou mocninu.\n",
    "</p>\n",
    "<div style=\"margin-top: 25px; margin-bottom: 25px; padding-top: 0px; padding-bottom: 0px; padding-left: 0px; padding-right: 0px; border-radius: 4px; border-color: #00843F; border-right-width: 1px; border-top-width: 1px; border-bottom-width: 1px; border-left-width: 3px; border-style: solid\">\n",
    "<div style=\"background: #D6ECE1; color: #000000; padding-left: 20px; padding-top: 10px; padding-bottom: 10px; border-radius: 1px 3px 0px 0px; font-weight: 600\">Tip</div>\n",
    "<div style=\"padding-left: 20px; padding-right: 20px; padding-top: 0px; padding-bottom: 0px; border-radius: 0px 0px 3px 3px\">\n",
    "<p>\n",
    "\n",
    "Budete potřebovat také funkci `int()` nebo `float()`.\n",
    "</p>\n",
    "</div>\n",
    "</div>\n",
    "</div>\n",
    "</div>"
   ]
  },
  {
   "cell_type": "code",
   "execution_count": 26,
   "metadata": {},
   "outputs": [],
   "source": [
    "### DOPLŇTE ###"
   ]
  },
  {
   "cell_type": "markdown",
   "metadata": {},
   "source": [
    "### Import knihoven\n",
    "Pro využití určité knihovny v kódu je třeba dannou knihovnu importovat.\n",
    "Například knihovnu pro různé matematické funkce přidáme pomocí `import math` (v C++ ekvivalentní `#include <math.h>`)."
   ]
  },
  {
   "cell_type": "code",
   "execution_count": 27,
   "metadata": {},
   "outputs": [
    {
     "name": "stdout",
     "output_type": "stream",
     "text": [
      "0.7071067811865476\n"
     ]
    }
   ],
   "source": [
    "import math    # chceme načíst vestavěný modul math\n",
    "\n",
    "print(math.sin(math.pi / 4))    # použijeme funkci sin a konstantu pi"
   ]
  },
  {
   "cell_type": "markdown",
   "metadata": {},
   "source": [
    "Využívání knihovny je možné usnadnit specifikováním, které funkce (proměnné) chceme importovat:"
   ]
  },
  {
   "cell_type": "code",
   "execution_count": 28,
   "metadata": {},
   "outputs": [
    {
     "name": "stdout",
     "output_type": "stream",
     "text": [
      "0.7071067811865476\n"
     ]
    }
   ],
   "source": [
    "from math import sin, pi    # import pouze některých položek\n",
    "\n",
    "print(sin(pi / 4))"
   ]
  },
  {
   "cell_type": "markdown",
   "metadata": {},
   "source": [
    "Nebo můžeme místo jména knihovny zadefinovat alias: "
   ]
  },
  {
   "cell_type": "code",
   "execution_count": 29,
   "metadata": {},
   "outputs": [
    {
     "name": "stdout",
     "output_type": "stream",
     "text": [
      "0.7071067811865476\n"
     ]
    }
   ],
   "source": [
    "import math as m\n",
    "\n",
    "print(m.sin(m.pi / 4))"
   ]
  },
  {
   "cell_type": "code",
   "execution_count": 30,
   "metadata": {},
   "outputs": [
    {
     "data": {
      "text/plain": [
       "3628800"
      ]
     },
     "execution_count": 30,
     "metadata": {},
     "output_type": "execute_result"
    }
   ],
   "source": [
    "m.factorial(10)    # volání funkce faktorial z knihovny math"
   ]
  },
  {
   "cell_type": "markdown",
   "metadata": {},
   "source": [
    "## Knihovna numpy\n",
    "* popis knihovny, využití\n",
    "* jednotlivé operace, rozdíl oproti normálnímu poli\n",
    "* typy, přetypování, matice, atd.\n",
    "* ukázka na úlohách z předchozích přednášek.."
   ]
  },
  {
   "cell_type": "code",
   "execution_count": 31,
   "metadata": {},
   "outputs": [],
   "source": [
    "import numpy as np"
   ]
  },
  {
   "cell_type": "code",
   "execution_count": 32,
   "metadata": {},
   "outputs": [
    {
     "data": {
      "text/plain": [
       "array([[1., 0., 0., 0., 0., 0., 0., 0., 0., 0., 0., 0., 0.],\n",
       "       [0., 1., 0., 0., 0., 0., 0., 0., 0., 0., 0., 0., 0.],\n",
       "       [0., 0., 1., 0., 0., 0., 0., 0., 0., 0., 0., 0., 0.],\n",
       "       [0., 0., 0., 1., 0., 0., 0., 0., 0., 0., 0., 0., 0.],\n",
       "       [0., 0., 0., 0., 1., 0., 0., 0., 0., 0., 0., 0., 0.],\n",
       "       [0., 0., 0., 0., 0., 1., 0., 0., 0., 0., 0., 0., 0.],\n",
       "       [0., 0., 0., 0., 0., 0., 1., 0., 0., 0., 0., 0., 0.],\n",
       "       [0., 0., 0., 0., 0., 0., 0., 1., 0., 0., 0., 0., 0.],\n",
       "       [0., 0., 0., 0., 0., 0., 0., 0., 1., 0., 0., 0., 0.],\n",
       "       [0., 0., 0., 0., 0., 0., 0., 0., 0., 1., 0., 0., 0.],\n",
       "       [0., 0., 0., 0., 0., 0., 0., 0., 0., 0., 1., 0., 0.],\n",
       "       [0., 0., 0., 0., 0., 0., 0., 0., 0., 0., 0., 1., 0.],\n",
       "       [0., 0., 0., 0., 0., 0., 0., 0., 0., 0., 0., 0., 1.]])"
      ]
     },
     "execution_count": 32,
     "metadata": {},
     "output_type": "execute_result"
    }
   ],
   "source": [
    "np.eye(13)"
   ]
  },
  {
   "cell_type": "markdown",
   "metadata": {},
   "source": [
    "## Vizualizace dat - matplotlib.pyplot\n",
    "* popis knihovny, k čemu je\n",
    "* představení různých možností vizualizace"
   ]
  },
  {
   "cell_type": "code",
   "execution_count": 5,
   "metadata": {},
   "outputs": [],
   "source": [
    "import matplotlib.pyplot as plt"
   ]
  },
  {
   "cell_type": "markdown",
   "metadata": {},
   "source": [
    "## Knihovna Scipy\n",
    "* popis knihovny, na co se hodí\n",
    "* nejužitěčnější funkce pro algebru, optimalizaci, NN, atd\n",
    "* ukázka na příkladech z předchozích hodin - srovnání"
   ]
  },
  {
   "cell_type": "markdown",
   "metadata": {},
   "source": [
    "## Bonus\n",
    "\n",
    "<div style=\"margin-top: 25px; margin-bottom: 25px; padding-top: 0px; padding-bottom: 0px; padding-left: 0px; padding-right: 0px; border-radius: 4px; border-color: #E0B32C; border-right-width: 1px; border-top-width: 1px; border-bottom-width: 1px; border-left-width: 3px; border-style: solid\">\n",
    "<div style=\"background: #FFF3CD; color: #000000; padding-left: 20px; padding-top: 10px; padding-bottom: 10px; border-radius: 1px 3px 0px 0px; font-weight: 600\">Úkol</div>\n",
    "<div style=\"padding-left: 20px; padding-right: 20px; padding-top: 0px; padding-bottom: 0px; border-radius: 0px 0px 3px 3px\">\n",
    "<p>\n",
    "\n",
    "Doplňte chybějící části označené `???` a opravte chyby, aby fungoval program na hru Oko bere (Black jack):\n",
    "</p>\n",
    "</div>\n",
    "</div>"
   ]
  },
  {
   "cell_type": "markdown",
   "metadata": {},
   "source": [
    "```\n",
    "import random\n",
    "\n",
    "soucet = 0\n",
    "while ???:\n",
    "    print('Máš', soucet, 'bodů')\n",
    "    odpoved = input('Otočit kartu? ')\n",
    "    if odpoved == 'ano':\n",
    "        ??? = random.randrange(2, 11)\n",
    "        print('Otočil/a jsi', karta)\n",
    "        soucet = ???\n",
    "    elif ???:\n",
    "        break\n",
    "    else:\n",
    "        ???\n",
    "\n",
    "if soucet == 21:\n",
    "    print('Gratuluji! Vyhrál/a jsi!')\n",
    "???\n",
    "    print('Smůla!', soucet, 'bodů je moc!')\n",
    "else:\n",
    "    print('Chybělo jen', 21 - soucet, 'bodů!')\n",
    "```    "
   ]
  },
  {
   "cell_type": "markdown",
   "metadata": {},
   "source": [
    "## Další zdroje\n",
    "* kde se naučit více, procvičit\n",
    "* Pandas\n",
    "* Tensorflow - jen zminit..\n",
    "* Bonus úloha ?"
   ]
  },
  {
   "cell_type": "markdown",
   "metadata": {},
   "source": []
  }
 ],
 "metadata": {
  "kernelspec": {
   "display_name": "Python 3",
   "language": "python",
   "name": "python3"
  },
  "language_info": {
   "codemirror_mode": {
    "name": "ipython",
    "version": 3
   },
   "file_extension": ".py",
   "mimetype": "text/x-python",
   "name": "python",
   "nbconvert_exporter": "python",
   "pygments_lexer": "ipython3",
   "version": "3.10.7"
  }
 },
 "nbformat": 4,
 "nbformat_minor": 2
}
