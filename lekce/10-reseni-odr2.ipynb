{
 "cells": [
  {
   "cell_type": "markdown",
   "metadata": {},
   "source": [
    "# Řešení obyčejných diferenciálních rovnic (ODR)\n",
    "\n",
    "V této kapitole se seznámíme s řešením obyčejných diferenciálních rovnic (ODR) na počítači. Obecný tvar ODR *N-tého* řádu je následující:\n",
    "\n",
    "$$\n",
    "p(x, y, y^{\\prime}, y^{\\prime \\prime}, \\dots, y^{(n)}) = f(x, y(x)), \\hspace{5pt} y^{(i)}(0) = y_0^i \\hspace{5pt} \\forall i \\in [0, N-1],\n",
    "$$\n",
    "\n",
    "kde $y^{(i)}(0) = y_0^i$ je sada $n$ počátečních podmínek pro hodnoty jednotlivých derivací funkce $y$ v počátečním bodě $0$. Vidíme, že diferenciální rovnice není sama o sobě kompletní řešitelnou úlohou. Jelikož máme vztah obsahující derivace neznámé funkce, potřebujeme vždy znát nějaké okrajové nebo počáteční podmínky. Zde jsme představili případ, kdy známe počáteční hodnotu všech derivací funkce $y$ do stupně $n-1$ v **jednom bodě**. Taková úloha se nazývá *počáteční problém*. Druhým typem úlohy (*okrajový problém*), kdy podmínky nemusí být zadané pouze v jednom bodě, se budeme zabývat v posledním cvičení. \n",
    "\n",
    "Předchozí diferenciální rovnici lze vždy převést na soustavu $n$ obyčejných diferenciálních rovnic prvního řádu (viz přednáška):\n",
    "\n",
    "$$\n",
    "\\frac{dy_i}{dx} = f(x, y_0, y_1, \\dots, y_{n-1}), \\hspace{5pt} y_i(0) = y_0^i \\hspace{5pt} \\forall i \\in [0, N-1],\n",
    "$$\n",
    "\n",
    "nebo vektorově:\n",
    "\n",
    "$$\n",
    "\\frac{d \\vec{y}}{dx} = f(x, \\vec{y}), \\hspace{5pt} \\vec{y}(0) = \\vec{y}_0.\n",
    "$$\n",
    "\n",
    "Obyčejné diferenciální rovnice typicky popisují vývoj určitého dynamického systému (kde $x \\equiv t$ je chápáno jako čas). Příkladem může být:\n",
    "* exponenciální růst (populace): \n",
    "\n",
    "$$\n",
    "\\frac{dN}{dt} = r N\n",
    "$$\n",
    "\n",
    "* logistický růst (populace): \n",
    "\n",
    "$$\n",
    "\\frac{dN}{dt} = r_{max}\\frac{K - N}{K} N\n",
    "$$\n",
    "\n",
    "![Růst populace](../images/growth.png)\n",
    "\n",
    "* harmonický oscilátor: \n",
    "\n",
    "$$\n",
    "m \\ddot{x} = -k x\n",
    "$$\n",
    "\n",
    "* Keplerova úloha: \n",
    "\n",
    "$$\n",
    "\\ddot{\\vec{r}} = -\\frac{G M}{r^3} \\vec{r}\n",
    "$$\n",
    "\n",
    "V předchozím cvičení jsme viděli, že integrování je speciálním případem řešení ODR s $f = f(x)$ a nulovou počáteční podmínkou. Skutečně řešení ODR můžeme chápat jako postupné přičítání příspěvků změny (derivace, která je daná funcí $f(x, y)$) hodnoty funkce $y(x)$. Výhoda metod řešících ODR spočívá v možnosti volby **adaptivního kroku** (tak jak je vyžadováno) v průběhu výpočtu, jak uvidíme zanedlouho.\n",
    "\n",
    "Základní myšledka, jak ODR řešit na počítači, spočívá v nahražení diferenciálů $dy$ a $dx$ pomocí velmi malých, ale konečných příspěvků $\\Delta y$ a $\\Delta x$. Tím získáme *soustavu algebraických rovnic*, které již na počítači dokázeme efektivně řešit. Také uvidíme, že určení **chyby** výpočtu je analogické jako v případě integrace. Využije řešení získané stejnou metodou při odlišném kroku.\n",
    "\n",
    "Existují tři hlavní typy metod pro řešení ODR:\n",
    "* Runge-Kuttovy metody\n",
    "* Bulirsch-Stoerova metoda\n",
    "* Metody prediktor-korektor\n",
    "\n",
    "Zde se zaměříme zejména na první dvě skupiny, jelikož jednodušší verze metod typu prediktor-korektor jsou exaktně stejné jako Runge-Kuttovy metody. Přesto, jako vždy, okomentujeme výhody a nevýhody různých metod. Jako vždy v numerice neexistuje jedna nejlepší metoda na všechny možné úlohy!"
   ]
  },
  {
   "cell_type": "code",
   "execution_count": 1,
   "metadata": {},
   "outputs": [],
   "source": [
    "import numpy as np\n",
    "import matplotlib.pyplot as plt"
   ]
  },
  {
   "cell_type": "markdown",
   "metadata": {},
   "source": [
    "Pro testování různých metod použijeme následující úlohu (obdoba *vývoje populace*):\n",
    "\n",
    "$$\n",
    "\\frac{dy(t)}{dt} = (1 + 2\\cos{(t)}) y(t)\n",
    "$$\n",
    "\n",
    "U této diferenciální rovnice lze určit řešení analyticky: $\\tilde{y}(t) = \\exp(t + 2\\sin{(t)}) \\tilde{y}(0)$."
   ]
  },
  {
   "cell_type": "code",
   "execution_count": 21,
   "metadata": {},
   "outputs": [],
   "source": [
    "def f(t, y):\n",
    "    return (1 + 2*np.cos(t)) * y\n",
    "\n",
    "def y_sol(t):\n",
    "    return np.exp(t + 2*np.sin(t)) \n",
    "\n",
    "# počáteční podmínka\n",
    "y_0 = 1\n",
    "\n",
    "# časový interval\n",
    "T0 = 0\n",
    "T = 5"
   ]
  },
  {
   "cell_type": "markdown",
   "metadata": {},
   "source": [
    "## Runge-Kuttovy metody\n",
    "\n",
    "Hlavní myšlenkou těchto metod je vývoj řešení (funkce $y$) pomocí lineární kombinace vnořených kroků jednoduché Eulerovy metody (následující sekce). Tato lineární kombinace je srovnána s *Taylorovým rozvojem* určitého řádu.\n",
    "\n",
    "Obecný vzorec pro *explicitní metody* pro ODR N-tého řádu:\n",
    "\n",
    "$$\n",
    "y_{i+1} = y_i + h \\sum_{j = 1}^{r} b_j k_j(h), \\hspace{5pt} \\forall i \\in [0, N-1],\n",
    "$$\n",
    "\n",
    "kde \n",
    "\n",
    "$$\n",
    "k_j = f(x_i + c_j h, y_i + h \\sum_{l = 1}^{j-1} a_{jl} k_l)\n",
    "$$\n",
    "\n",
    "Koeficienty jsou získány srovnáním s Taylorovým rozvojem požadovaného řádu. Existuje mnoho kombinací hodnot koeficientů. Runge-Kuttovy metody se pak efektivně popisují *Butcherovou tabulkou*, ve které se vyskytují hodnoty všech koeficientů dané metody:\n",
    "\n",
    "$$\n",
    "\\begin{array}\n",
    "{c|cccc}\n",
    "c_1 & a_{11} & 0 & \\cdots & 0 \\\\\n",
    "c_2 & a_{21} & a_{22} & \\cdots & 0 \\\\\n",
    "\\vdots & \\vdots & \\vdots  & \\ddots & \\vdots \\\\\n",
    "c_r & a_{r1} & a_{r2} & \\cdots & a_{rr}\\\\\n",
    "\\hline\n",
    "& b_1 & b_2 & \\cdots & b_{r}\n",
    "\\end{array}\n",
    "$$\n",
    "\n",
    "Následující dvě metody odpovídají jednoduchému nahrazení derivace pomocí buď *dopředné* (Euler) nebo *centrální* diference (leap-frog). Přesto tyto metody spadají do obecné definice RK metod, a proto si je předstabujeme zde.\n",
    "\n",
    "Dále se budeme věnovat pouze metodám pro řešení **ODR 1. řádu**. Vzorec pro RK metody je stejný, akorát $y$ je skalár.\n",
    "\n",
    "Vlastnosti:\n",
    "* velmi robustní pro nehladké funkce $f$, adaptivní krok $h$\n",
    "* více výpočtů pravé strany $f$ -> nevýhodné pokud výpočetně náročné\n",
    "* většinou nejrychlejší, bežně používané RK4 (RK45 - vnořená metoda)"
   ]
  },
  {
   "cell_type": "markdown",
   "metadata": {},
   "source": [
    "### Eulerova metoda\n",
    "\n",
    "Nejjednoduší možností, jak se vypořádat s derivací je nahrazení diferenciálů pomocí konečných rozdílů vzdálených konečným krokem $\\Delta \\equiv h$:\n",
    "\n",
    "$$\n",
    "\\frac{dy}{dx} \\approx \\frac{y_{i+1} - y_{i}}{x_{i+1} - x_{i}} = f(x_i, y_i),\n",
    "$$\n",
    "\n",
    "kde $y_i = y(x_i)$. Tedy po úpravě dostáváme jednoduchý explicitní vzorec pro vývoj $y$:\n",
    "\n",
    "$$\n",
    "y_{n+1} = y_{n} + h f(x_n, y_n),\n",
    "$$\n",
    "\n",
    "s počáteční podmínkou $y(x_0) = y_0$.\n",
    "\n",
    "![Eulerova metoda](../images/eulerRK.png)"
   ]
  },
  {
   "cell_type": "markdown",
   "metadata": {},
   "source": [
    "Zvolíme počet kroků:"
   ]
  },
  {
   "cell_type": "code",
   "execution_count": 29,
   "metadata": {},
   "outputs": [],
   "source": [
    "# pocet kroku\n",
    "M = 100\n",
    "\n",
    "# delka kroku\n",
    "h = (T - T0) / M"
   ]
  },
  {
   "cell_type": "markdown",
   "metadata": {},
   "source": [
    "<div style=\"margin-top: 25px; margin-bottom: 25px; padding-top: 0px; padding-bottom: 0px; padding-left: 0px; padding-right: 0px; border-radius: 4px; border-color: #E0B32C; border-right-width: 1px; border-top-width: 1px; border-bottom-width: 1px; border-left-width: 3px; border-style: solid\">\n",
    "<div style=\"background: #FFF3CD; color: #000000; padding-left: 20px; padding-top: 10px; padding-bottom: 10px; border-radius: 1px 3px 0px 0px; font-weight: 600\">Úkol</div>\n",
    "<div style=\"padding-left: 20px; padding-right: 20px; padding-top: 0px; padding-bottom: 0px; border-radius: 0px 0px 3px 3px\">\n",
    "<p>\n",
    "\n",
    "Implementujte *Eulerovu metodu* pro řešení zkušební ODR.\n",
    "</p>\n",
    "</div>\n",
    "</div>"
   ]
  },
  {
   "cell_type": "code",
   "execution_count": 43,
   "metadata": {},
   "outputs": [
    {
     "name": "stdout",
     "output_type": "stream",
     "text": [
      "y_euler: 17.567021635626023 3.544938762665188\n",
      "y_sol:   21.805264918818242\n"
     ]
    }
   ],
   "source": [
    "def euler(f, y_0, h, steps):\n",
    "    y = np.zeros(steps+1)  # reseni\n",
    "    y[0] = y_0\n",
    "    \n",
    "    err = 0\n",
    "    t = T0\n",
    "    for i in range(steps):\n",
    "        ## DOPLŇTE ##\n",
    "        y[i+1] = y[i] + h*f(t, y[i])\n",
    "        t = t + h\n",
    "        \n",
    "        y2h = y[i] + 2*h*f(t, y[i])\n",
    "        yh = y[i] + h*f(t, y[i]) + h*f(t+h, y[i+1])\n",
    "        err += np.abs(yh - y2h) / 2\n",
    "        \n",
    "    \n",
    "    return y, err\n",
    "\n",
    "y_euler, err = euler(f, y_0, h, steps=M)\n",
    "\n",
    "print('y_euler:', y_euler[-1], err)\n",
    "print('y_sol:  ', y_sol(T))"
   ]
  },
  {
   "cell_type": "code",
   "execution_count": 31,
   "metadata": {},
   "outputs": [
    {
     "data": {
      "text/plain": [
       "Text(0.5, 0, '$t$')"
      ]
     },
     "execution_count": 31,
     "metadata": {},
     "output_type": "execute_result"
    },
    {
     "data": {
      "image/png": "[encoded data removed]",
      "text/plain": [
       "<Figure size 640x480 with 1 Axes>"
      ]
     },
     "metadata": {},
     "output_type": "display_data"
    }
   ],
   "source": [
    "# casove kroky\n",
    "ts = np.linspace(T0, T, M+1)\n",
    "\n",
    "plt.plot(ts, y_euler, marker=\"+\", color='r')\n",
    "plt.plot(ts, y_sol(ts))\n",
    "\n",
    "plt.ylabel(r'$y$')\n",
    "plt.xlabel(r'$t$')"
   ]
  },
  {
   "cell_type": "markdown",
   "metadata": {},
   "source": [
    "**Odhad chyby metody**\n",
    "\n",
    "Jak odhadnout chybu numeriké metody řešící ODR? Jako v předchozí kapitole využijeme znalosti řádu metody a druhého výpočtu s jiným krokem.\n",
    "\n",
    "Při jednom kroku Eulerovy metody se dopouštíme chyby druhého řádu v $h$:\n",
    "\n",
    "$$\n",
    "\\tilde{y}_{n+1} = y_{n} + h f(x_n, f_n) + \\mathcal{O}(h^2) = y_{n+1} + a h^2 + \\mathcal{O}(h^3) \\equiv  y_{n+1} + \\varepsilon(y_{n+1}).\n",
    "$$\n",
    "\n",
    "Chybu v jednom kroce lze odhadnout aplikováním Eulerovy metody s krokem $2h$ a $h$:\n",
    "$$\n",
    "\\tilde{y}^{2h}_{n+2} = y^{2h}_{n+2} + a (2h)^2 + \\mathcal{O}(h^3),\n",
    "$$\n",
    "\n",
    "a \n",
    "\n",
    "$$\n",
    "\\tilde{y}^{h}_{n+2} = y^{h}_{n+2} + 2a (h)^2 + \\mathcal{O}(h^3),\n",
    "$$\n",
    "\n",
    "kde byly provedeny dva kroky o délce $h$ a $\\tilde{y}$ je přesné řešení. Odečtením obou rovnic dostáváme (přesné řešení se rovnají):\n",
    "\n",
    "$$\n",
    "y^{h}_{n+2} - y^{2h}_{n+2} = 2ah^2 + \\mathcal{O}(h^3),\n",
    "$$\n",
    "\n",
    "a tedy chybu odhadneme pomocí:\n",
    "\n",
    "$$\n",
    "\\varepsilon(y_{n+1}) \\approx \\frac{y^{h}_{n+2} - y^{2h}_{n+2}}{2} = a h^2 + \\mathcal{O}(h^3).\n",
    "$$\n",
    "\n",
    "Vidíme, že skutečně provádíme pouze **odhad**. Přesnou chybu nedokážeme určit, přesto nám tento odhad stačí. Víme totiž, že odchylka od reálné chyby je až vyššího řádu v $h$ (zde konkrétně $\\sim h^3$).\n",
    "\n",
    "Celkovou chybu určíme jako součet chyb v každém kroce."
   ]
  },
  {
   "cell_type": "code",
   "execution_count": 46,
   "metadata": {},
   "outputs": [
    {
     "name": "stdout",
     "output_type": "stream",
     "text": [
      "Odhad chyby:  2.6304401290871313\n",
      "Realná chyba: 4.238243283192219\n"
     ]
    }
   ],
   "source": [
    "y_euler_h = euler(f, y_0, h, M)\n",
    "y_euler_2h = euler(f, y_0, 2*h, M//2)\n",
    "\n",
    "chyba_euler = np.abs(y_euler_h[-1] - y_euler_2h[-1])\n",
    "\n",
    "print('Odhad chyby: ', chyba_euler)\n",
    "print('Realná chyba:', np.abs(y_euler[-1] - y_sol(T)))"
   ]
  },
  {
   "cell_type": "markdown",
   "metadata": {},
   "source": [
    "### Metoda středního bodu (midpoint/leap-frog)\n"
   ]
  },
  {
   "cell_type": "code",
   "execution_count": null,
   "metadata": {},
   "outputs": [],
   "source": []
  },
  {
   "cell_type": "markdown",
   "metadata": {},
   "source": [
    "### Heunova metoda\n"
   ]
  },
  {
   "cell_type": "code",
   "execution_count": null,
   "metadata": {},
   "outputs": [],
   "source": []
  },
  {
   "cell_type": "markdown",
   "metadata": {},
   "source": [
    "### Runge-Kuttova metoda 4. řádu\n"
   ]
  },
  {
   "cell_type": "code",
   "execution_count": null,
   "metadata": {},
   "outputs": [],
   "source": []
  },
  {
   "cell_type": "markdown",
   "metadata": {},
   "source": [
    "### Implicitní Eulerova metoda"
   ]
  },
  {
   "cell_type": "code",
   "execution_count": null,
   "metadata": {},
   "outputs": [],
   "source": []
  },
  {
   "cell_type": "markdown",
   "metadata": {},
   "source": [
    "## Bulirsch-Stoerova metody\n"
   ]
  },
  {
   "cell_type": "code",
   "execution_count": null,
   "metadata": {},
   "outputs": [],
   "source": []
  },
  {
   "cell_type": "markdown",
   "metadata": {},
   "source": [
    "## Metody prediktor-korektor (vícekrokové metody)\n",
    "\n"
   ]
  },
  {
   "cell_type": "code",
   "execution_count": null,
   "metadata": {},
   "outputs": [],
   "source": []
  },
  {
   "cell_type": "markdown",
   "metadata": {},
   "source": [
    "## Runge-Kuttovy metody pro soustavu ODR (nD)\n",
    "\n"
   ]
  },
  {
   "cell_type": "code",
   "execution_count": null,
   "metadata": {},
   "outputs": [],
   "source": []
  }
 ],
 "metadata": {
  "kernelspec": {
   "display_name": "Python 3",
   "language": "python",
   "name": "python3"
  },
  "language_info": {
   "codemirror_mode": {
    "name": "ipython",
    "version": 3
   },
   "file_extension": ".py",
   "mimetype": "text/x-python",
   "name": "python",
   "nbconvert_exporter": "python",
   "pygments_lexer": "ipython3",
   "version": "3.10.7"
  }
 },
 "nbformat": 4,
 "nbformat_minor": 2
}
