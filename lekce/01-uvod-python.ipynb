{
 "cells": [
  {
   "cell_type": "markdown",
   "metadata": {},
   "source": [
    "# Úvod do jazyka Python"
   ]
  },
  {
   "cell_type": "markdown",
   "metadata": {},
   "source": [
    "```{note}\n",
    "Tohle je poznámka\n",
    "```\n",
    "\n",
    "```{tip}\n",
    "Tohle je tip\n",
    "```\n",
    "\n",
    "```{warning}\n",
    "Tohle je warning\n",
    "```\n",
    "\n",
    "```{seealso}\n",
    "Tohle je see also\n",
    "```\n",
    "\n",
    "```{important}\n",
    "Tohle je important\n",
    "```\n",
    "\n",
    "```{attention}\n",
    "Tohle je attention\n",
    "```\n",
    "\n",
    "```{admonition} Cvičení\n",
    ":class: alert\n",
    "Tohle je cvičení\n",
    "```\n",
    "\n",
    "```{admonition} Cvičení\n",
    ":class: attention\n",
    "Tohle je cvičení\n",
    "```\n"
   ]
  },
  {
   "cell_type": "markdown",
   "metadata": {},
   "source": [
    "<div style=\"background: #856404; padding-top: 1px; padding-bottom: 1px; padding-left: 2.5px; padding-right: 1px; border-radius: 4px;\">\n",
    "<div style=\"background: #FFF3CD; color: #000000; padding: 10px; border-radius: 3px 3px 0px 0px; font-weight: 600\">Cvičení</div>\n",
    "<div style=\"background: #FFFFFF; color: #000000; padding: 10px; border-radius: 0px 0px 3px 3px\">\n",
    "This is the *content*\n",
    "</div>\n",
    "</div>"
   ]
  },
  {
   "cell_type": "markdown",
   "metadata": {},
   "source": [
    "Tato přednáška přestavuje stručný úvod do programovacího jazyka Python. Probrány jsou jak základní tak pokročilejší nástroje, které budou používány po zbytek kurzu. Pro zájemce o hlubší porozumění Pythonu doporučuji kurz [Vědecké programování v Pythonu](https://fjfi.pythonic.eu/) (12PYTH), ze kterého tato přednáška čerpá."
   ]
  },
  {
   "cell_type": "markdown",
   "metadata": {},
   "source": [
    "## Instalace Pythonu a prostředí Jupyter notebook"
   ]
  },
  {
   "cell_type": "markdown",
   "metadata": {},
   "source": [
    "V druhé části kurzu Numerických metod budeme používat moderní prostědí [Jupyter notebook](https://jupyter.org/) (soubory s koncovkou `.ipynb`), které jsou velmi vhodné jak na výuku tak na rychlé otestování a prototipování kódu.\n",
    "\n",
    "Máte volbu mezi dvěmi možnostmi, jak sledovat přednášku a mít možnost spouštět kód:\n",
    "1. Pracovat v *online* interaktivním prostředí - *Binder*, ***JupiterHub FJFI***, *Google Colab*\n",
    "2. Pracovat *lokálně* na svém počítači"
   ]
  },
  {
   "cell_type": "markdown",
   "metadata": {},
   "source": [
    "### Postup instalace\n",
    "```\n",
    "* ukázání na hodině\n",
    "```\n",
    "\n",
    "**Online interaktivní prostředí** (doporučuji)\n",
    "\n",
    "Pro spuštení interaktivní verze této stránky klikněte ve vrchním menu na <i class=\"fas fa-rocket\" aria-hidden=\"true\"></i> a zvolte:\n",
    "* *Binder* - ve kterém lze <i>Jupyter notebook</i> (JP) upravovat a následně uložit na disk\n",
    "* *JupyterHub* - místní prostědí běžící u nás na FJFI, umožňuje **uložit** ve vlastním účtu\n",
    "* *Google Colab* - na vlastní nebezpečí\n",
    "\n",
    "```{warning}\n",
    "Spuštění prostředí *Binder* může trvat několik desítek sekund. Jupyter notebook je v tomto prostředí uložen pod dočasným URL. Při zavření okna se postup ztratí! Je nutné tedy upravený soubor před zavřením okna stáhnout. \n",
    "```"
   ]
  },
  {
   "cell_type": "markdown",
   "metadata": {},
   "source": [
    "**Lokální prostření**\n",
    "\n",
    "Pro programování na svém počítači je třeba:\n",
    "1. Nainstalovat [Python](https://www.python.org/downloads/) (často již nainstalován s OS)\n",
    "2. Nainstalovat [Jupyter notebook](https://jupyter.org/install)\n",
    "4. Stáhnout repozitář z GitHubu (ve vrchním menu tlačítko <i class=\"fab fa-github\" aria-hidden=\"true\"></i>)\n",
    "5. Pak příkazem `> jupyter notebook` se spustí prostědí v prohlížeči.\n",
    "\n",
    "Jako alternativu doporučuji použít IDE (Integrated Development Environment) [Visual Studio Code](https://code.visualstudio.com/), ve kterém je možné přidat rozšíření pro [Python](https://marketplace.visualstudio.com/items?itemName=ms-python.python) a [Jupyter notebook](https://marketplace.visualstudio.com/items?itemName=ms-toolsai.jupyter).\n",
    "Také je možné přímo stáhnout GitHub repozitáře přes [odpovídající rozšíření](https://marketplace.visualstudio.com/items?itemName=GitHub.vscode-pull-request-github).\n",
    "\n",
    "\n",
    "\n",
    "```{seealso}\n",
    "Další možnosti instalace nástrojů jsou popsány [zde](https://fjfi.pythonic.eu/posts/nastroje.html#Doporu%C4%8Den%C3%A1-sada-n%C3%A1stroj%C5%AF).\n",
    "\n",
    "Pro pokročilé možnosti *virtuálních prostředí* postupujte podle postupu [zde](https://fjfi.pythonic.eu/posts/prvni-krucky.html#Virtu%C3%A1ln%C3%AD-prost%C5%99ed%C3%AD) nebo [zde](https://valenpe7.github.io/numerical_methods/README.html#run-the-notebooks-offline).\n",
    "```"
   ]
  },
  {
   "cell_type": "markdown",
   "metadata": {},
   "source": [
    "## Jupyter notebook\n",
    "```\n",
    "* definice, použití, výhody a nevýhody\n",
    "```\n",
    "\n",
    "Jupyter notebook je interaktivní dokument obsahující buňky se spustitelným kódem, textem, obrázky, vzorci a apod. Je to velmi vhodný nástroj pro výuku a proto všechen materiál k tomuto cvičení je ve formě těchto notebooků.\n",
    "\n",
    "V této kapitolce se krátce seznámíme, jak se s Jupyter notebooky pracuje. Podrobný popis všech vychytávek si můžete přečíst [zde](https://realpython.com/jupyter-notebook-introduction/)."
   ]
  },
  {
   "cell_type": "markdown",
   "metadata": {},
   "source": [
    "### Hello world!"
   ]
  },
  {
   "cell_type": "markdown",
   "metadata": {},
   "source": [
    "Napište `print(\"Hello world!\")` a stiskněte `Shift` `+` `Enter` (nebo `Ctrl` `+` `Enter`)"
   ]
  },
  {
   "cell_type": "code",
   "execution_count": 9,
   "metadata": {},
   "outputs": [],
   "source": [
    "## DOPLŇTE ##\n"
   ]
  },
  {
   "cell_type": "markdown",
   "metadata": {},
   "source": [
    "Pomocí klávesy `b` vložíte další řádek do JP.\n",
    "* Stiskněte `b`."
   ]
  },
  {
   "cell_type": "markdown",
   "metadata": {},
   "source": [
    "Odstranění řádku: vyberte řádek v JP a stiskněte `d` `+` `d`\n",
    "\n",
    "Klávesou `a` vložíte nový řádek nad právě vybraný.\n",
    "\n",
    "Přidání buňky s textem:\n",
    "1. Stiskněte `a`. \n",
    "2. Vyberte tento nový řádek a stiskněte `m`. Nyní lze do řádku místo kódu zapisovat text.\n",
    "\n",
    "Pokud chcete řádek převést na kód, stiskněte `y`.\n",
    "\n",
    "```{tip}\n",
    "Pro nápovědu stiskněte `h`.\n",
    "```"
   ]
  },
  {
   "cell_type": "markdown",
   "metadata": {},
   "source": [
    "## Jazyk Python\n",
    "* interpreter\n",
    "* weakly typed, nehlasí nějaké chyby, až pří běhu\n",
    "\n",
    "Cílem této kapitoly je "
   ]
  },
  {
   "cell_type": "markdown",
   "metadata": {},
   "source": [
    "### Komentáře"
   ]
  },
  {
   "cell_type": "markdown",
   "metadata": {},
   "source": [
    "Jednořádkový komentář se zadává za znak `#`, více řádků lze zakomentovat pomocí `\"\"\"` a `\"\"\"`:"
   ]
  },
  {
   "cell_type": "code",
   "execution_count": 11,
   "metadata": {},
   "outputs": [
    {
     "name": "stdout",
     "output_type": "stream",
     "text": [
      "Hello world!\n"
     ]
    }
   ],
   "source": [
    "# toto je komentar\n",
    "\"\"\"\n",
    "Komentar\n",
    "na vice\n",
    "radku...\n",
    "\"\"\"\n",
    "print(\"Hello world!\") "
   ]
  },
  {
   "cell_type": "markdown",
   "metadata": {},
   "source": [
    "### Základní aritmetické operace"
   ]
  },
  {
   "cell_type": "markdown",
   "metadata": {},
   "source": [
    "Inicializace proměnných `a`, `b`, základní aritmetické operace a výpis výsledku pomocí funkce `print()`:"
   ]
  },
  {
   "cell_type": "code",
   "execution_count": 13,
   "metadata": {},
   "outputs": [
    {
     "name": "stdout",
     "output_type": "stream",
     "text": [
      "Součet  48.0\n",
      "Rozdíl  38.0\n",
      "Součin  215.0\n",
      "Podíl  8.6\n",
      "Podíl beze zbytku  8.6\n",
      "Mocnina  147008443.0\n",
      "Zbytek po dělení  3.0\n"
     ]
    }
   ],
   "source": [
    "a = 43\n",
    "b = 5.0\n",
    "\n",
    "soucet = a + b\n",
    "rozdil = a - b\n",
    "soucin = a * b\n",
    "podil = a / b\n",
    "podil_beze_zbytku = a // b\n",
    "\n",
    "mocnina = a**b\n",
    "zbytek_po_deleni = a % b\n",
    "\n",
    "# vypis\n",
    "print('Součet ', soucet)\n",
    "print('Rozdíl ', rozdil)\n",
    "print('Součin ', soucin)\n",
    "print('Podíl ', podil)\n",
    "print('Podíl beze zbytku ', podil)\n",
    "print('Mocnina ', mocnina)\n",
    "print('Zbytek po dělení ', zbytek_po_deleni)"
   ]
  },
  {
   "cell_type": "markdown",
   "metadata": {},
   "source": [
    "### Podmínky\n",
    "* sintaxe podmínek, odsazení"
   ]
  },
  {
   "cell_type": "markdown",
   "metadata": {},
   "source": [
    "### Opakování - cykly\n",
    "* syntaxe, break, continue - ukázat na vhodných příkladech"
   ]
  },
  {
   "cell_type": "markdown",
   "metadata": {},
   "source": [
    "### Funkce\n",
    "* syntaxe, příklad - rekurzivně faktoriál/Fibonnaci"
   ]
  },
  {
   "cell_type": "markdown",
   "metadata": {},
   "source": [
    "### Základní datové struktury\n",
    "* array\n",
    "* list\n",
    "* dict\n",
    "* indexování - různé možnosti\n",
    "* type()"
   ]
  },
  {
   "cell_type": "markdown",
   "metadata": {},
   "source": [
    "### Další základní funkce\n",
    "Python obsahuje několik základních funkcí, které se běžně při psaní kódu používají.\n",
    "Celý jejich seznam můžete nalézt [zde](https://docs.python.org/3.12/library/functions.html).\n",
    "Tady je výtah těch nejběžnějších, které se nám budou hodit:\n",
    "* `print()` - výpis na standartní výstup\n",
    "* `len()` - vrací délku řetězce\n",
    "* `range()` - vrací sekvenci/pole po sobě jdoucích čísel\n",
    "* `input()` - čtení standartního vstupu\n",
    "* `str()` - převod proměnné (čísla) na řetězec (string)\n",
    "* `int()` - převod řetezce na celé číslo\n",
    "* `float()` - převod řetezce na desetinné číslo\n",
    "* `type()` - vrací typ proměnné\n",
    "* `open()` - otevření souboru\n",
    "* `close()` - zavření souboru"
   ]
  },
  {
   "cell_type": "code",
   "execution_count": 5,
   "metadata": {},
   "outputs": [],
   "source": [
    "### DOPLŇTE ###\n",
    "#a = float(input(\"Zadej číslo: \"))\n",
    "#print(a*2)"
   ]
  },
  {
   "cell_type": "markdown",
   "metadata": {},
   "source": [
    "### Import knihoven\n",
    "Pro využití určité knihovny v kódu je třeba dannou knihovnu importovat.\n",
    "Například knihovnu pro různé matematické funkce přidáme pomocí `import math` (v C++ ekvivalentní `#include <math.h>`)."
   ]
  },
  {
   "cell_type": "code",
   "execution_count": 15,
   "metadata": {},
   "outputs": [
    {
     "name": "stdout",
     "output_type": "stream",
     "text": [
      "0.7071067811865476\n"
     ]
    }
   ],
   "source": [
    "import math    # chceme načíst vestavěný modul math\n",
    "\n",
    "print(math.sin(math.pi / 4))    # použijeme funkci sin a konstantu pi"
   ]
  },
  {
   "cell_type": "markdown",
   "metadata": {},
   "source": [
    "Využívání knihovny je možné usnadnit specifikováním, které funkce (proměnné) chceme importovat:"
   ]
  },
  {
   "cell_type": "code",
   "execution_count": 16,
   "metadata": {},
   "outputs": [
    {
     "name": "stdout",
     "output_type": "stream",
     "text": [
      "0.7071067811865476\n"
     ]
    }
   ],
   "source": [
    "from math import sin, pi    # import pouze některých položek\n",
    "\n",
    "print(sin(pi / 4))"
   ]
  },
  {
   "cell_type": "markdown",
   "metadata": {},
   "source": [
    "Nebo můžeme místo jména knihovny zadefinovat alias: "
   ]
  },
  {
   "cell_type": "code",
   "execution_count": 17,
   "metadata": {},
   "outputs": [
    {
     "name": "stdout",
     "output_type": "stream",
     "text": [
      "0.7071067811865476\n"
     ]
    }
   ],
   "source": [
    "import math as m\n",
    "\n",
    "\n",
    "print(m.sin(m.pi / 4))"
   ]
  },
  {
   "cell_type": "markdown",
   "metadata": {},
   "source": [
    "## Knihovna numpy\n",
    "* popis knihovny, využití\n",
    "* jednotlivé operace, rozdíl oproti normálnímu poli\n",
    "* typy, přetypování, matice, atd.\n",
    "* ukázka na úlohách z předchozích přednášek.."
   ]
  },
  {
   "cell_type": "code",
   "execution_count": 2,
   "metadata": {},
   "outputs": [],
   "source": [
    "import numpy as np"
   ]
  },
  {
   "cell_type": "code",
   "execution_count": 4,
   "metadata": {},
   "outputs": [
    {
     "data": {
      "text/plain": [
       "array([[1., 0., 0., 0., 0., 0., 0., 0., 0., 0., 0., 0., 0.],\n",
       "       [0., 1., 0., 0., 0., 0., 0., 0., 0., 0., 0., 0., 0.],\n",
       "       [0., 0., 1., 0., 0., 0., 0., 0., 0., 0., 0., 0., 0.],\n",
       "       [0., 0., 0., 1., 0., 0., 0., 0., 0., 0., 0., 0., 0.],\n",
       "       [0., 0., 0., 0., 1., 0., 0., 0., 0., 0., 0., 0., 0.],\n",
       "       [0., 0., 0., 0., 0., 1., 0., 0., 0., 0., 0., 0., 0.],\n",
       "       [0., 0., 0., 0., 0., 0., 1., 0., 0., 0., 0., 0., 0.],\n",
       "       [0., 0., 0., 0., 0., 0., 0., 1., 0., 0., 0., 0., 0.],\n",
       "       [0., 0., 0., 0., 0., 0., 0., 0., 1., 0., 0., 0., 0.],\n",
       "       [0., 0., 0., 0., 0., 0., 0., 0., 0., 1., 0., 0., 0.],\n",
       "       [0., 0., 0., 0., 0., 0., 0., 0., 0., 0., 1., 0., 0.],\n",
       "       [0., 0., 0., 0., 0., 0., 0., 0., 0., 0., 0., 1., 0.],\n",
       "       [0., 0., 0., 0., 0., 0., 0., 0., 0., 0., 0., 0., 1.]])"
      ]
     },
     "execution_count": 4,
     "metadata": {},
     "output_type": "execute_result"
    }
   ],
   "source": [
    "np.eye(13)"
   ]
  },
  {
   "cell_type": "markdown",
   "metadata": {},
   "source": [
    "## Vizualizace dat - matplotlib.pyplot\n",
    "* popis knihovny, k čemu je\n",
    "* představení různých možností vizualizace"
   ]
  },
  {
   "cell_type": "code",
   "execution_count": 5,
   "metadata": {},
   "outputs": [],
   "source": [
    "import matplotlib.pyplot as plt"
   ]
  },
  {
   "cell_type": "markdown",
   "metadata": {},
   "source": [
    "## Knihovna Scipy\n",
    "* popis knihovny, na co se hodí\n",
    "* nejužitěčnější funkce pro algebru, optimalizaci, NN, atd\n",
    "* ukázka na příkladech z předchozích hodin - srovnání"
   ]
  },
  {
   "cell_type": "markdown",
   "metadata": {},
   "source": [
    "## Další zdroje\n",
    "* kde se naučit více, procvičit\n",
    "* Bonus úloha ?"
   ]
  }
 ],
 "metadata": {
  "kernelspec": {
   "display_name": "Python 3",
   "language": "python",
   "name": "python3"
  },
  "language_info": {
   "codemirror_mode": {
    "name": "ipython",
    "version": 3
   },
   "file_extension": ".py",
   "mimetype": "text/x-python",
   "name": "python",
   "nbconvert_exporter": "python",
   "pygments_lexer": "ipython3",
   "version": "3.10.7"
  }
 },
 "nbformat": 4,
 "nbformat_minor": 2
}
