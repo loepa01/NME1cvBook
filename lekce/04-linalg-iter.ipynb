{
 "cells": [
  {
   "cell_type": "markdown",
   "metadata": {},
   "source": [
    "# Iterační metody lineární algebry\n",
    "\n",
    "V této kapitole si ukážeme několik iterativních metod pro řešení úloh z lineární algebry, konkrétně opět řešení soustavy lineárních rovnic a hledání vlastních čísel."
   ]
  },
  {
   "cell_type": "code",
   "execution_count": 483,
   "metadata": {},
   "outputs": [],
   "source": [
    "import numpy as np\n",
    "import scipy.linalg as la\n",
    "import matplotlib.pyplot as plt"
   ]
  },
  {
   "cell_type": "markdown",
   "metadata": {},
   "source": [
    "## Iterační metody pro řešení soustavy lineárních rovnic\n",
    "\n",
    "V této části budeme pokračovat s řešením úlohy:\n",
    "\n",
    "$$\n",
    "\\mathbb{A} \\vec{x} = \\vec{b}.\n",
    "$$\n",
    "\n",
    "Iterační metody, nebo jinak *relaxační metody*, hledají řešení jiným způsobem než metody přímé. Fungují na principu postupného zlepšování výsledku podle iteračního vzorce. V jakých případech se vyplatí použít iteračích metod?\n",
    "\n",
    "Typickým příkladem je soustava, kde počítat inverzi je výpočetně náročné a řešení lze získat rychleji. Například pro soustavy s řídkou, ale velkou maticí, *Gaussova eliminace* trvá řádově $O(N^3)$. Oproti tomu, jak uvidíme, jeden krok iteračních metod je pouze $O(N^2)$! Pokud tedy bude stačit méně iterací než $N$, je velmi výhodné takovou metodu použít.\n",
    "\n",
    "Iterační metody můžou být výhodné dále v situaci, kdy máme přibližnou představu, jak řešení vypadá, a stačí se k přesnému řešení pouze přiblížit.\n",
    "\n",
    "Naopak nevýhodou těchto metod je omezení, na které matice je lze použít. Přesto jsou tyto metody velmi užitečné, jelikož existuje řada úloh, kde tyto omezení nevadí. V kontextu iteračních metod nás zajímají následující typy matic:\n",
    "\n",
    "* **Diagonálně dominantní matice** - Matice $\\mathbb{A}$ je *diagonálně dominantní*, pokud:\n",
    "\n",
    "$$\n",
    "|a_{ii}| > \\sum_{j \\neq i}^{n}|a_{ij}|, \\quad \\forall i = 1, 2, \\dots, n.\n",
    "$$\n",
    "\n",
    "* **Pozitivně definitní matice** - Čtvercová matice je *pozitivně definitní*, pokud:\n",
    "\n",
    "$$\n",
    "(\\vec{x}, \\mathbb{A} \\vec{x}) > 0, \\quad \\forall \\vec{x} \\neq \\vec{0}.\n",
    "$$\n",
    "\n",
    "Symetrická matice je pozitivně definitní právě tehdy, když má všechna *vlastní čísla* kladná.\n",
    "\n",
    "Diagonálně dominantní matice vznikají například při konstrukci schémat (numerických metod) na řešení parciálních diferenciálních rovnic (viz [poslední kapitola](pdr)).\n",
    "\n",
    "**Shrnutí**\n",
    "* Výhody:\n",
    "    - postupné zpřesnění odhadu\n",
    "    - rychlejší pro velké (a řídké) matice, při rychlé konvergenci iterační metody\n",
    "    - nedochází k tak silnému kumulovaní chyb, jako u přímých metod!\n",
    "* Nevýhody:\n",
    "    - lze použít jen na úzkou třídu matic, ne obecně jako Gaussova eliminační metoda"
   ]
  },
  {
   "cell_type": "markdown",
   "metadata": {},
   "source": [
    "**Iterační proces obecně**\n",
    "\n",
    "Na začátku máme určitý odhad $\\vec{x}_0$ řešení soustavy lineárních rovnic $\\mathbb{A} \\vec{x} = \\vec{b}$. Ten buď známe díky nějaké externí informaci, nebo prostě zvolíme náhodný vektor.\n",
    "U těchto metod se chceme vyhnout přímému výpočtu inverze $\\mathbb{A}^{-1}$, násobení *čtvercových* matic a jiným operacím, které jsou pomalé (složitosti $O(N^3)$). Jeden krok přiblížení k přesnému řešení je obecného tvaru:\n",
    "\n",
    "$$\n",
    "\\vec{x}^{(k+1)} = \\mathbb{B}_k \\vec{x}^{(k)} + \\vec{c}_k.\n",
    "$$\n",
    "\n",
    "Matice $\\mathbb{B}_k$ musí splňovat:\n",
    "\n",
    "$$\n",
    "\\vec{x} = \\mathbb{B}_k \\vec{x} + \\vec{c}_k,\n",
    "$$\n",
    "\n",
    "kde $\\vec{x}$ je řešení soustavy. Tedy $\\vec{x}$ musí být **pevným bodem** této rekurentní funkce.\n",
    "\n",
    "Pro konvergenci je tedy nutné a stačí, aby:\n",
    "\n",
    "$$\n",
    "\\lim_{k\\to\\infty} \\mathbb{B}_k \\mathbb{B}_{k-1} \\dots \\mathbb{B}_0 = 0.\n",
    "$$\n",
    "\n",
    "Dělení metod:\n",
    "* **stacionární** - matice $\\mathbb{B}_k = \\mathbb{B}$ je *konstantní*, stejná v každé iteraci\n",
    "* **nestacionární** - matice $\\mathbb{B}_k$ nejsou *konstantní*, volí se pro každou iteraci zvlášť\n",
    "\n",
    "Dále si ukážeme pouze metody *stacionární*, které jsou výrazně jednodušší v praxi implementovat na počítači.\n",
    "\n",
    "Co musí splňovat matice $\\mathbb{B}$, aby metoda konvergovala?\n",
    "* Pro všechna vlastní čísla matice $\\mathbb{B}$ musí platit: $|\\lambda_i| < 1$.\n",
    "* Pokud v některé maticové normě platí $\\Vert\\mathbb{B}\\Vert < 1$, pak iterace konvergují.\n",
    "\n",
    "**Odhad chyby**\n",
    "\n",
    "Abychom věděli, kdy metodu zastavit, potřebujeme znát odhad chyby, tedy jak blízko jsme přesné hodnotě. Budeme chtít iterovat, dokud nebude platit:\n",
    "\n",
    "$$\n",
    "\\Vert \\vec{x}^{(k)} - \\vec{x} \\Vert \\leq \\varepsilon,\n",
    "$$\n",
    "\n",
    "což lze odhadnout pomocí:\n",
    "\n",
    "$$\n",
    "\\Vert \\vec{x}^{(k)} - \\vec{x} \\Vert = \\Vert \\vec{x}^{(k)} - \\mathbb{A}^{-1} \\vec{b} \\Vert = \\Vert \\mathbb{A}^{-1} ( \\mathbb{A} \\vec{x}^{(k)} - \\vec{b}) \\Vert \\leq \\Vert \\mathbb{A}^{-1} \\Vert \\Vert\\mathbb{A} \\vec{x}^{(k)} - \\vec{b}\\Vert.\n",
    "$$"
   ]
  },
  {
   "cell_type": "markdown",
   "metadata": {},
   "source": [
    "### Prostá iterace\n",
    "\n",
    "Jednoduchý způsob, jak získat iterační vztah je převedení soustavy $\\mathbb{A} \\vec{x} = \\vec{b}$ na tvar:\n",
    "\n",
    "$$\n",
    "\\vec{x} = (\\mathbb{I} - \\mathbb{A}) \\vec{x} + \\vec{b},\n",
    "$$\n",
    "\n",
    "kde $\\mathbb{I}$ je jednotková (identitní) matice. Tím máme splňenou *podmínku pevného bodu*. **Prostá iterace** je tedy dána vztahem:\n",
    "\n",
    "$$\n",
    "\\vec{x}^{(k+1)} = (\\mathbb{I} - \\mathbb{A}) \\vec{x}^{(k)} + \\vec{b},\n",
    "$$\n",
    "\n",
    "kde $\\mathbb{B} = \\mathbb{I} - \\mathbb{A}$. V praxi se tato metoda nepoužívá, jelikož konverguje velmi pomalu a lze ji použít pro velmi úzkou třídu matic ($\\Vert \\mathbb{I} - \\mathbb{A} \\Vert < 1$)."
   ]
  },
  {
   "cell_type": "markdown",
   "metadata": {},
   "source": [
    "### Jacobiho metoda\n",
    "\n",
    "V následujících třech iteračních metodách je postup velmi podobný, založený na následujícím rozdělení matice:\n",
    "\n",
    "$$\n",
    "\\mathbb{A} = \\mathbb{L} + \\mathbb{D} + \\mathbb{R},\n",
    "$$\n",
    "\n",
    "kde $\\mathbb{L}$ je *dolní trojúhelníková*, $\\mathbb{D}$ diagonální a $\\mathbb{R}$ je *horní trojúhelníková* matice.\n",
    "\n",
    "<div style=\"margin-top: 25px; margin-bottom: 25px; padding-top: 0px; padding-bottom: 0px; padding-left: 0px; padding-right: 0px; border-radius: 4px; border-color: #F4330C; border-right-width: 1px; border-top-width: 1px; border-bottom-width: 1px; border-left-width: 3px; border-style: solid\">\n",
    "<div style=\"background: #F7C8C0; color: #000000; padding-left: 20px; padding-top: 10px; padding-bottom: 10px; border-radius: 1px 3px 0px 0px; font-weight: 600\">Pozor</div>\n",
    "<div style=\"padding-left: 20px; padding-right: 20px; padding-top: 0px; padding-bottom: 0px; border-radius: 0px 0px 3px 3px\">\n",
    "<p>\n",
    "\n",
    "Matice $\\mathbb{L}$ a $\\mathbb{R}$ jsou odlišné od matic LU rozkladu! Zde tyto matice mají nulovou diagonálu a vznikají rozkladem matice $\\mathbb{A}$ na součet matic, ne součin. Tedy sdílejí s maticí $\\mathbb{A}$ stejné prvky.\n",
    "</p>\n",
    "</div>\n",
    "</div>"
   ]
  },
  {
   "cell_type": "markdown",
   "metadata": {},
   "source": [
    "<div style=\"margin-top: 25px; margin-bottom: 25px; padding-top: 0px; padding-bottom: 0px; padding-left: 0px; padding-right: 0px; border-radius: 4px; border-color: #E0B32C; border-right-width: 1px; border-top-width: 1px; border-bottom-width: 1px; border-left-width: 3px; border-style: solid\">\n",
    "<div style=\"background: #FFF3CD; color: #000000; padding-left: 20px; padding-top: 10px; padding-bottom: 10px; border-radius: 1px 3px 0px 0px; font-weight: 600\">Úkol</div>\n",
    "<div style=\"padding-left: 20px; padding-right: 20px; padding-top: 0px; padding-bottom: 0px; border-radius: 0px 0px 3px 3px\">\n",
    "<p>\n",
    "\n",
    "Doplňte tělo funkce `ldr(A)`, která rozděluje matici `A` na matice $\\mathbb{L}$, $\\mathbb{D}$ a $\\mathbb{R}$.\n",
    "</p>\n",
    "</div>\n",
    "</div>"
   ]
  },
  {
   "cell_type": "code",
   "execution_count": null,
   "metadata": {},
   "outputs": [
    {
     "name": "stdout",
     "output_type": "stream",
     "text": [
      "[[0.42995575 0.51992112 0.65672658 0.94510969]\n",
      " [0.69868096 0.83906811 0.97430114 0.41008361]\n",
      " [0.98980133 0.86927252 0.43881204 0.1000334 ]\n",
      " [0.66134786 0.53014438 0.75842952 0.1245576 ]]\n",
      "[[0.         0.         0.         0.        ]\n",
      " [0.69868096 0.         0.         0.        ]\n",
      " [0.98980133 0.86927252 0.         0.        ]\n",
      " [0.66134786 0.53014438 0.75842952 0.        ]]\n",
      "[[0.42995575 0.         0.         0.        ]\n",
      " [0.         0.83906811 0.         0.        ]\n",
      " [0.         0.         0.43881204 0.        ]\n",
      " [0.         0.         0.         0.1245576 ]]\n",
      "[[0.         0.51992112 0.65672658 0.94510969]\n",
      " [0.         0.         0.97430114 0.41008361]\n",
      " [0.         0.         0.         0.1000334 ]\n",
      " [0.         0.         0.         0.        ]]\n"
     ]
    }
   ],
   "source": [
    "def ldr(A):\n",
    "    ## DOPLŇTE ##\n",
    "\n",
    "A = np.random.rand(4,4)\n",
    "print(A)\n",
    "L, D, R = ldr(A)\n",
    "print(L)\n",
    "print(D)\n",
    "print(R)"
   ]
  },
  {
   "cell_type": "markdown",
   "metadata": {},
   "source": [
    "Pro získání kroku Jacobiho metody nahradíme matici $\\mathbb{A}$ jejím rozkladem:\n",
    "\n",
    "$$\n",
    "\\begin{align}\n",
    "\\mathbb{A} \\vec{x} = (\\mathbb{L} + \\mathbb{D} + \\mathbb{R}) \\vec{x} = \\vec{b}, \\\\\n",
    "\\mathbb{D} \\vec{x} = \\vec{b} - (\\mathbb{L} + \\mathbb{R}) \\vec{x}, \\\\\n",
    "\\vec{x} = \\mathbb{D}^{-1} \\vec{b} - \\mathbb{D}^{-1}(\\mathbb{L} + \\mathbb{R}) \\vec{x}.\n",
    "\\end{align}\n",
    "$$\n",
    "\n",
    "Jedna iterace je tedy dána vztahem:\n",
    "\n",
    "$$\n",
    "\\vec{x}^{(k+1)} = -\\mathbb{D}^{-1}(\\mathbb{L} + \\mathbb{R}) \\vec{x}^{(k)} + \\mathbb{D}^{-1} \\vec{b},\n",
    "$$\n",
    "\n",
    "kde $\\mathbb{B} = -\\mathbb{D}^{-1}(\\mathbb{L} + \\mathbb{R})$.\n",
    "\n",
    "Po složkách:\n",
    "\n",
    "![Jacobi po složkách](../images/jacobi.png)\n",
    "\n",
    "Lze ukazát, že Jacobiho metoda konverguje pro *diagonálně domimantní matice*.\n"
   ]
  },
  {
   "cell_type": "markdown",
   "metadata": {},
   "source": [
    "<div style=\"margin-top: 25px; margin-bottom: 25px; padding-top: 0px; padding-bottom: 0px; padding-left: 0px; padding-right: 0px; border-radius: 4px; border-color: #E0B32C; border-right-width: 1px; border-top-width: 1px; border-bottom-width: 1px; border-left-width: 3px; border-style: solid\">\n",
    "<div style=\"background: #FFF3CD; color: #000000; padding-left: 20px; padding-top: 10px; padding-bottom: 10px; border-radius: 1px 3px 0px 0px; font-weight: 600\">Úkol</div>\n",
    "<div style=\"padding-left: 20px; padding-right: 20px; padding-top: 0px; padding-bottom: 0px; border-radius: 0px 0px 3px 3px\">\n",
    "<p>\n",
    "\n",
    "Implementujte iterační Jacobiho metodu a ověřte pomocí knihovní funkce [`scipy.linalg.solve()`](https://docs.scipy.org/doc/scipy/reference/generated/scipy.linalg.solve.html). Parametr `n` je zvolený počet kroků metody.\n",
    "\n",
    "\n",
    "<div style=\"margin-top: 25px; margin-bottom: 25px; padding-top: 0px; padding-bottom: 0px; padding-left: 0px; padding-right: 0px; border-radius: 4px; border-color: #00843F; border-right-width: 1px; border-top-width: 1px; border-bottom-width: 1px; border-left-width: 3px; border-style: solid\">\n",
    "<div style=\"background: #D6ECE1; color: #000000; padding-left: 20px; padding-top: 10px; padding-bottom: 10px; border-radius: 1px 3px 0px 0px; font-weight: 600\">Tip</div>\n",
    "<div style=\"padding-left: 20px; padding-right: 20px; padding-top: 0px; padding-bottom: 0px; border-radius: 0px 0px 3px 3px\">\n",
    "<p>\n",
    "\n",
    "Pro násobění matic nebo matic a vektoru použijte funkci `np.dot()` nebo operátoru `@`.\n",
    "</p>\n",
    "</div>\n",
    "</div>\n",
    "</p>\n",
    "</div>\n",
    "</div>"
   ]
  },
  {
   "cell_type": "code",
   "execution_count": null,
   "metadata": {},
   "outputs": [
    {
     "name": "stdout",
     "output_type": "stream",
     "text": [
      "[0.01495909 0.12346898 0.10865718 0.13908484] [0.01495838 0.12346865 0.10865656 0.13908399]\n",
      "1.3120271746104454e-06\n"
     ]
    }
   ],
   "source": [
    "def jacobi(A, x0, b, n):\n",
    "    ## DOPLŇTE ##\n",
    "\n",
    "m = 4\n",
    "A = np.random.rand(m,m) + m*np.eye(m) # diagonalne dominantni matice\n",
    "b = np.random.rand(m)\n",
    "x0 = np.random.rand(m)\n",
    "x = jacobi(A,x0,b,n=10)\n",
    "print(x, la.solve(A,b))\n",
    "print(la.norm(x - la.solve(A,b)), )"
   ]
  },
  {
   "cell_type": "markdown",
   "metadata": {},
   "source": [
    "<div style=\"margin-top: 25px; margin-bottom: 25px; padding-top: 0px; padding-bottom: 0px; padding-left: 0px; padding-right: 0px; border-radius: 4px; border-color: #276BE9; border-right-width: 1px; border-top-width: 1px; border-bottom-width: 1px; border-left-width: 3px; border-style: solid\">\n",
    "<div style=\"background: #DCE7FC; color: #000000; padding-left: 20px; padding-top: 10px; padding-bottom: 10px; border-radius: 1px 3px 0px 0px; font-weight: 600\">Poznámka</div>\n",
    "<div style=\"padding-left: 20px; padding-right: 20px; padding-top: 0px; padding-bottom: 0px; border-radius: 0px 0px 3px 3px\">\n",
    "<p>\n",
    "\n",
    "V každé iteraci sice dochází k násobení čtvercových matic, ale jelikož jsou speciálního tvaru (diagonální a trojúhelníková), lze násobení provést výrazně rychleji!\n",
    "</p>\n",
    "</div>\n",
    "</div>"
   ]
  },
  {
   "cell_type": "markdown",
   "metadata": {},
   "source": [
    "### Gauss-Seidelova metoda\n",
    "\n",
    "Gauss-Seidelova metoda je velmi podobná Jacobiho metodě. Opět nahradíme matici $\\mathbb{A}$ jejím rozkladem, akorát prohodíme pořadí matic:\n",
    "\n",
    "$$\n",
    "\\begin{align}\n",
    "\\mathbb{A} \\vec{x} = (\\mathbb{L} + \\mathbb{D} + \\mathbb{R}) \\vec{x} = \\vec{b}, \\\\\n",
    "(\\mathbb{L} + \\mathbb{D}) \\vec{x} = \\vec{b} - \\mathbb{R} \\vec{x}, \\\\\n",
    "\\vec{x} = (\\mathbb{L} + \\mathbb{D})^{-1} \\vec{b} - (\\mathbb{L} + \\mathbb{D})^{-1} \\mathbb{R} \\vec{x}.\n",
    "\\end{align}\n",
    "$$\n",
    "\n",
    "Jedna iterace je tedy dána vztahem:\n",
    "\n",
    "$$\n",
    "\\vec{x}^{(k+1)} = -(\\mathbb{L} + \\mathbb{D})^{-1} \\mathbb{R} \\vec{x}^{(k)} + (\\mathbb{L} + \\mathbb{D})^{-1} \\vec{b},\n",
    "$$\n",
    "\n",
    "kde $\\mathbb{B} = -(\\mathbb{L} + \\mathbb{D})^{-1} \\mathbb{R}$.\n",
    "\n",
    "Po složkách:\n",
    "\n",
    "![Gauss-Seidel po složkách](../images/gauss_seidel.png)\n",
    "\n",
    "Výhoda této úpravy je v tom, že v každé iteraci, pro výpočet $j$-té složky řešení využíváme znalosti již napočítaných (aktualizovaných) složek vektoru $\\vec{x}$. To vede k rychlejší konvergenci. Tato metoda je navíc konvergentní pro *symetrické pozitivně definitní matice*."
   ]
  },
  {
   "cell_type": "markdown",
   "metadata": {},
   "source": [
    "<div style=\"margin-top: 25px; margin-bottom: 25px; padding-top: 0px; padding-bottom: 0px; padding-left: 0px; padding-right: 0px; border-radius: 4px; border-color: #E0B32C; border-right-width: 1px; border-top-width: 1px; border-bottom-width: 1px; border-left-width: 3px; border-style: solid\">\n",
    "<div style=\"background: #FFF3CD; color: #000000; padding-left: 20px; padding-top: 10px; padding-bottom: 10px; border-radius: 1px 3px 0px 0px; font-weight: 600\">Úkol</div>\n",
    "<div style=\"padding-left: 20px; padding-right: 20px; padding-top: 0px; padding-bottom: 0px; border-radius: 0px 0px 3px 3px\">\n",
    "<p>\n",
    "\n",
    "Implementujte iterační Gauss-Seidelovu metodu a ověřte pomocí knihovní funkce [`scipy.linalg.solve()`](https://docs.scipy.org/doc/scipy/reference/generated/scipy.linalg.solve.html). Potřebujeme se vyhnout přímému výpočtu $(\\mathbb{L} + \\mathbb{D})^{-1}$. Jaký postup z minulé kapitoly můžeme použít? Parametr `n` je zvolený počet kroků metody.\n",
    "</p>\n",
    "</div>\n",
    "</div>"
   ]
  },
  {
   "cell_type": "code",
   "execution_count": null,
   "metadata": {},
   "outputs": [
    {
     "name": "stdout",
     "output_type": "stream",
     "text": [
      "[0.1168297  0.06504984 0.11969983 0.05548822] [0.1168297  0.06504984 0.11969983 0.05548822]\n"
     ]
    }
   ],
   "source": [
    "def dopredna_substituce(A, b):\n",
    "    x = np.zeros(A.shape[0])\n",
    "    for i in range(0,A.shape[0]):\n",
    "        x[i] = b[i] / A[i,i]\n",
    "        for j in range(0,i):\n",
    "            x[i] -= A[i,j]*x[j] / A[i,i]\n",
    "    return x\n",
    "\n",
    "def gauss_seidel(A, x0, b, n):\n",
    "    ## DOPLŇTE ##\n",
    "    return x\n",
    "\n",
    "m = 4\n",
    "A = np.random.rand(m,m) + m*np.eye(m) # diagonalne dominantni matice\n",
    "b = np.random.rand(m)\n",
    "x0 = np.random.rand(m)\n",
    "x = gauss_seidel(A,x0,b,n=10)\n",
    "print(x, la.solve(A,b))"
   ]
  },
  {
   "cell_type": "markdown",
   "metadata": {},
   "source": [
    "### Superrelaxační metoda\n",
    "\n",
    "Gauss-Seidelova metoda konverguje již pro širší třídu matic, ale konvergence může stále být v některých případech pomalá. Konvergence je možné dále urychlit. *Superrelaxační metoda* je dána následovně:\n",
    "\n",
    "$$\n",
    "\\vec{x}^{(k+1)} = \\vec{x}^{(k)} + \\omega \\Delta \\vec{x}^{(k)} = (1 - \\omega) \\vec{x}^{(k)} + \\omega \\vec{x}^{(k+1)}_{GS},\n",
    "$$\n",
    "\n",
    "kde $\\Delta \\vec{x}^{(k)} = \\vec{x}^{(k+1)} - \\vec{x}^{(k)}$ je rozdíl mezi dvěma kroky Gauss-Seidelovy metody ($\\vec{x}^{(k+1)}_{GS}$ je výsledek  Gauss-Seidlovy metody v iteraci $k$).\n",
    "\n",
    "Relaxační faktor $\\omega$ lze volit z intervalu $(0, 2)$ (aby metoda konvergovala), obvykle se však v praxi volí $\\omega \\in [1,2)$. Tento faktor slouží k urychlení konvergence metody tím, že zvětší velikost kroku Gauss-Seidlovy metody. Lze ukázat, že optimální hodnota relaxačního faktoru má tvar:\n",
    "\n",
    "$$\n",
    "\\omega_{opt} = \\frac{2}{1 + \\sqrt{1 - \\rho(\\mathbb{B})^2}},\n",
    "$$\n",
    "\n",
    "kde $\\rho(\\mathbb{B}) = \\text{max}(|\\lambda_1|,|\\lambda_2|,\\dots,|\\lambda_n|)$ je *spektrární poloměr* a $\\mathbb{B} = -(\\mathbb{L} + \\mathbb{D})^{-1} \\mathbb{R}$ je iterační matice Gauss-Seidelovy metody. Pro spektrární poloměr je potřeba znát pro danou úlohu alespoň přibližný analytický vzorec nebo ho odhadnout numericky."
   ]
  },
  {
   "cell_type": "markdown",
   "metadata": {},
   "source": [
    "<div style=\"margin-top: 25px; margin-bottom: 25px; padding-top: 0px; padding-bottom: 0px; padding-left: 0px; padding-right: 0px; border-radius: 4px; border-color: #E0B32C; border-right-width: 1px; border-top-width: 1px; border-bottom-width: 1px; border-left-width: 3px; border-style: solid\">\n",
    "<div style=\"background: #FFF3CD; color: #000000; padding-left: 20px; padding-top: 10px; padding-bottom: 10px; border-radius: 1px 3px 0px 0px; font-weight: 600\">Úkol</div>\n",
    "<div style=\"padding-left: 20px; padding-right: 20px; padding-top: 0px; padding-bottom: 0px; border-radius: 0px 0px 3px 3px\">\n",
    "<p>\n",
    "\n",
    "Implementujte superrelaxační metodu s optimálním parametrem. Pro získání největšího vlastního čísla použijte `np.max(np.abs(np.linalg.eig(B)[0]))`. Inverzi matice $B$ spočítejte pomocí `scipy.linalg.inv(B)`. Parametr `n` je zvolený počet kroků metody.\n",
    "</p>\n",
    "</div>\n",
    "</div>"
   ]
  },
  {
   "cell_type": "code",
   "execution_count": 487,
   "metadata": {},
   "outputs": [
    {
     "name": "stdout",
     "output_type": "stream",
     "text": [
      "2.1168824824383954\n"
     ]
    }
   ],
   "source": [
    "A = np.random.rand(4,4)\n",
    "print(np.max(np.abs(np.linalg.eig(A)[0])))"
   ]
  },
  {
   "cell_type": "code",
   "execution_count": null,
   "metadata": {},
   "outputs": [
    {
     "name": "stdout",
     "output_type": "stream",
     "text": [
      "2.7934953915597212e-05\n",
      "1.730040573089344e-05\n"
     ]
    }
   ],
   "source": [
    "def super_relax(A, x0, b, n):\n",
    "    ## DOPLŇTE ##\n",
    "    return x\n",
    "\n",
    "m = 10\n",
    "A = np.random.rand(m,m) - m*np.eye(m) # diagonalne dominantni matice\n",
    "\n",
    "b = np.random.rand(m)\n",
    "x0 = np.random.rand(m) + m\n",
    "x1 = gauss_seidel(A,x0,b,n=10)\n",
    "x2 = super_relax(A,x0,b,n=10)\n",
    "x = la.solve(A,b)\n",
    "print(la.norm(x1 - x))\n",
    "print(la.norm(x2 - x))\n",
    "#print(x)"
   ]
  },
  {
   "cell_type": "markdown",
   "metadata": {},
   "source": [
    "### Srovnání konvergence iteračních metod\n"
   ]
  },
  {
   "cell_type": "code",
   "execution_count": 489,
   "metadata": {},
   "outputs": [
    {
     "data": {
      "image/png": "[encoded data removed]",
      "text/plain": [
       "<Figure size 640x480 with 1 Axes>"
      ]
     },
     "metadata": {},
     "output_type": "display_data"
    }
   ],
   "source": [
    "m = 40\n",
    "q = -0.6 # pro -0.6\n",
    "A = np.random.rand(m,m) + q*m*np.eye(m) # diagonalne dominantni matice\n",
    "\n",
    "#A = np.random.rand(m, m) + m*np.eye(m)\n",
    "#A = np.dot(A, A.transpose()) # nahodna symetricka pozitivne definitni matice\n",
    "\n",
    "b = np.random.rand(m)\n",
    "x0 = np.random.rand(m)\n",
    "x = la.solve(A,b)\n",
    "\n",
    "err_jacobi = [la.norm(x0 - x)]\n",
    "err_gauss_seidel = [la.norm(x0 - x)]\n",
    "err_super_relax = [la.norm(x0 - x)]\n",
    "\n",
    "x_jacobi = x0\n",
    "x_gauss_seidel = x0\n",
    "x_super_relax = x0\n",
    "\n",
    "N = 150\n",
    "nn = np.arange(N)\n",
    "\n",
    "for i in nn:\n",
    "    x_jacobi = jacobi(A, x_jacobi, b, 1)\n",
    "    x_gauss_seidel = gauss_seidel(A, x_gauss_seidel, b, 1)\n",
    "    x_super_relax = super_relax(A, x_super_relax, b, 1)\n",
    "    \n",
    "    err_jacobi.append(la.norm(x_jacobi - x))\n",
    "    err_gauss_seidel.append(la.norm(x_gauss_seidel - x))\n",
    "    err_super_relax.append(la.norm(x_super_relax - x))\n",
    "    \n",
    "nn = np.append(nn, [N])\n",
    "plt.plot(nn, err_jacobi, label='Jacobi')\n",
    "plt.plot(nn, err_gauss_seidel, label='Gauss-Seidel')\n",
    "plt.plot(nn, err_super_relax, label='Superrelax')\n",
    "plt.yscale('log')\n",
    "plt.legend();"
   ]
  },
  {
   "cell_type": "markdown",
   "metadata": {},
   "source": [
    "## Hledání vlastních čísel matice\n"
   ]
  },
  {
   "cell_type": "markdown",
   "metadata": {},
   "source": [
    "(cast_vl_cis)=\n",
    "### Částečný problém vlastních čísel\n",
    "\n",
    "Cílem této metody je nalézt pouze největší vlastní číslo v absolutní hodnotě (*spektrární poloměr*).\n",
    "Metodu lze aplikovat na [diagonalizovatelné matice](https://cs.wikipedia.org/wiki/Diagonalizovateln%C3%A1_matice):\n",
    "\n",
    "$$\n",
    "\\mathbb{A} = \\mathbb{R} \\mathbb{D} \\mathbb{R}^{-1},\n",
    "$$\n",
    "\n",
    "kde $\\mathbb{R}$ je regulární matice a $\\mathbb{D}$ je diagonální matice, jejíž diagonální prvky odpovídají vlastním číslům. Sloupce matice $\\mathbb{R}$ odpovídají vlastním vektorům.\n",
    "\n",
    "Iterační metoda pro nalezení největšího vlastního čísla začíná z počátečního odhadu $\\vec{v}_0$, který postupně zpřesňuje pomocí vztahu:\n",
    "\n",
    "$$\n",
    "\\vec{v}_{k+1} = \\frac{\\mathbb{A} \\vec{v}_k}{\\Vert \\mathbb{A} \\vec{v}_k \\Vert}.\n",
    "$$\n",
    "\n",
    "Tato metoda konverguje za následujících podmínek:\n",
    "\n",
    "1. Matice $\\mathbb{A}$ má jedno vlastní číslo výrazně větší v absolutní hodnotě než zbylá vlastní čísla.\n",
    "2. Startující vektor $\\vec{v}_0$ má nenulový příspěvek do směru vlastního vektoru odpovídajícímu největšímu vlastnímu číslu. Tedy $\\vec{v}_{0} \\cdot \\vec{v} \\neq 0$, kde $\\mathbb{A}\\vec{v} = \\lambda \\vec{v}$ a $\\lambda = \\max_i{|\\lambda_i|}$.\n",
    "\n"
   ]
  },
  {
   "cell_type": "markdown",
   "metadata": {},
   "source": [
    "## Ukázky z praxe\n",
    "\n",
    "S řešením soustav lineáních rovnic se lze setkat téměř v každém technickém odvětví. Typicky dostáváme úlohu tohoto tvaru důsledkem několika vzájemných lineárních závislostí většího počtu veličin a čílem je nalézt průnik, tedy kdy jsou všechny rovnice splněny.\n",
    "\n",
    "$$\n",
    "\\begin{align*}\n",
    "    3x + 2y - z &= 1 \\\\\n",
    "    2x - 2y + 4z &= -2 \\\\\n",
    "    -x + 0.5y - z &= 0\n",
    "\\end{align*} \n",
    "$$\n",
    "\n",
    "![linalg systém](../images/linalgsystem3.png)\n",
    "\n",
    "V kvantové mechanice je naprosto zásadní znalost matic operátorů (v dáné bázi) a nalezení vlastních čísel, které například odpovídají energetickým hladinám kvantového systému.\n",
    "\n",
    "V numerice se mnoho úloh redukuje na soustavu lineárních rovnic, jelikož jí dokážeme snadno řešit na počítači. Pro nás je nejrelevantnějším příkladem řešení úloh popsaných pomocí různých *diferenciálních rovnic* (viz [kapitola 11](pdr))."
   ]
  },
  {
   "cell_type": "markdown",
   "metadata": {},
   "source": [
    "## Zápočtová úloha"
   ]
  },
  {
   "cell_type": "markdown",
   "metadata": {},
   "source": [
    "<div style=\"margin-top: 25px; margin-bottom: 25px; padding-top: 0px; padding-bottom: 0px; padding-left: 0px; padding-right: 0px; border-radius: 4px; border-color: #E0B32C; border-right-width: 1px; border-top-width: 1px; border-bottom-width: 1px; border-left-width: 3px; border-style: solid\">\n",
    "<div style=\"background: #FFF3CD; color: #000000; padding-left: 20px; padding-top: 10px; padding-bottom: 10px; border-radius: 1px 3px 0px 0px; font-weight: 600\">Úkol - zápočet 3</div>\n",
    "<div style=\"padding-left: 20px; padding-right: 20px; padding-top: 0px; padding-bottom: 0px; border-radius: 0px 0px 3px 3px\">\n",
    "<p>\n",
    "\n",
    "[ZDE](ukol3)\n",
    "</p>\n",
    "</div>\n",
    "</div>"
   ]
  }
 ],
 "metadata": {
  "kernelspec": {
   "display_name": "Python 3",
   "language": "python",
   "name": "python3"
  },
  "language_info": {
   "codemirror_mode": {
    "name": "ipython",
    "version": 3
   },
   "file_extension": ".py",
   "mimetype": "text/x-python",
   "name": "python",
   "nbconvert_exporter": "python",
   "pygments_lexer": "ipython3",
   "version": "3.10.7"
  }
 },
 "nbformat": 4,
 "nbformat_minor": 2
}
