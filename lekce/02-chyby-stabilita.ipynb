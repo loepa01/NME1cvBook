{
 "cells": [
  {
   "cell_type": "markdown",
   "metadata": {},
   "source": [
    "# Numerické chyby a stabilita\n",
    "\n",
    "V tomto cvičení si ukážeme základy práce s čísly na počítači. Uvidíme, jak lze celá a desetinná čísla reprezentovat v počítači. Dále analyzujeme vznik chyb při počítání s čísly a prozkoumáme (ne)stabilitu numerických metod.\n",
    "\n",
    "Tyto základy jsou stěžení při návrhu numerických metod a počítačových algoritmů. Je potřeba mít na paměti, jak se v počítači nakládá s čísly a že to vždy vede k numerickým chybám. Jak uvidíme v této kapitole, v některých případech může matematicky správný postup výpočtu dát numericky (v počítači) zcela chybný výsledek!"
   ]
  },
  {
   "cell_type": "code",
   "execution_count": 1,
   "metadata": {},
   "outputs": [],
   "source": [
    "import numpy as np\n",
    "import matplotlib.pyplot as plt"
   ]
  },
  {
   "cell_type": "markdown",
   "metadata": {},
   "source": [
    "## Numerická matematika\n",
    "\n",
    "Je věda, která se zabývá řešením matematicky formulovaných úloh pomocí logických operací a aritmetických operací s čísly o konečné délce.\n",
    "\n",
    "Některé úlohy jsou již formulované tak, že je možné je přímo implementovat v počítači. To jsou typicky úlohy z *lineární algebry* vyžadující k řešení konečný počet kroků. Naopak spojité úlohy z *matematické analýzy* nejsou numericky formulované, tedy je nelze přímočaře na počítači vyřešit. V takovém případě je třeba úlohu převést na úlohu numerickou, která původní úlohu aproximuje s určitým **řádem přesnosti**.\n",
    "\n",
    "Základním požadavkem je vyřešení úloh s dostatečnou přesností. U metod nás často zajímá **konvergence**, neboli počet kroků potřebných k dosažený danné přesnosti. U konvergence neuvažujeme zaokrouhlovací chyby, tedy konvergující metoda vyřeší úlohu pro libovolně malý krok $h \\rightarrow 0$ s libovolně vysokou přesností.\n",
    "\n",
    "Výběr metody závisí vždy na charakteru úlohy. Některé metody můžou být v jistých situacích výhodnější než jiné. Velkou roli také hrají výpočetní a pamětové nároky vybraného algoritmu."
   ]
  },
  {
   "cell_type": "markdown",
   "metadata": {},
   "source": [
    "## Reprezentace čísel v počítači\n",
    "\n",
    "Reprezentace čísel v počítači má zasadní vliv na chyby při výpočtech. Tato podkapitola shrnuje standardizovanou reprezentaci celých a desetinných čísel.\n",
    "\n",
    "### Celá čísla\n",
    "\n",
    "Celá čísla jsou v počítači reprezentovány přesně. Stejně tak aritmetické operace jsou přesné, ovšem za podmínky, že hodnoty operandů a výsledku jsou ve stanoveném rozsahu. Pokud přesáhne hodnota určitou hranici, dojde k takzvanému **přetečení** nebo **podtečení**. U celých čísel je rozsah hodnot výrazně menší a je důležité s ním vždy počítat!\n",
    "\n",
    "Chyby při arimetických výpočtech v počítačích mohou mít své důsledky [[1](https://www3.nd.edu/~markst/castaward/text10n.html), [2](https://www3.nd.edu/~markst/castaward/text9n.html)].\n",
    "\n",
    "![Reprezentace celých čísel](../images/int_reprez.png)"
   ]
  },
  {
   "cell_type": "markdown",
   "metadata": {},
   "source": [
    "S celočíselnými typy se setkáme v knihovně Numpy, kde každá matice nebo vektor má definovaný typ každého elementu. Defaultně se celá čísla ukládají jako `np.int32`:"
   ]
  },
  {
   "cell_type": "code",
   "execution_count": 2,
   "metadata": {},
   "outputs": [
    {
     "name": "stdout",
     "output_type": "stream",
     "text": [
      "<class 'numpy.ndarray'>\n",
      "int32\n"
     ]
    }
   ],
   "source": [
    "arr = np.array([1, 2, 3, 4])\n",
    "print(type(arr))\n",
    "print(arr.dtype)"
   ]
  },
  {
   "cell_type": "markdown",
   "metadata": {},
   "source": [
    "Kromě standardních typů `np.int32` a `np.int64` knihovna obsahuje i více-bitové reprezentace (až 256 bitů). Typicky pro numerické účely stačí 64-bitová reprezentace."
   ]
  },
  {
   "cell_type": "markdown",
   "metadata": {},
   "source": [
    "Příklady přetečení:"
   ]
  },
  {
   "cell_type": "code",
   "execution_count": 3,
   "metadata": {},
   "outputs": [
    {
     "name": "stdout",
     "output_type": "stream",
     "text": [
      "1\n",
      "2\n",
      "6\n",
      "24\n",
      "120\n",
      "720\n",
      "5040\n",
      "40320\n",
      "362880\n",
      "3628800\n",
      "39916800\n",
      "479001600\n",
      "1932053504\n",
      "1278945280\n",
      "2004310016\n",
      "2004189184\n",
      "-288522240\n",
      "-898433024\n",
      "109641728\n",
      "-2102132736\n",
      "-1195114496\n",
      "-522715136\n",
      "862453760\n",
      "-775946240\n",
      "2076180480\n",
      "-1853882368\n",
      "1484783616\n",
      "-1375731712\n",
      "-1241513984\n",
      "1409286144\n",
      "738197504\n",
      "-2147483648\n",
      "-2147483648\n",
      "0\n",
      "0\n",
      "0\n",
      "0\n",
      "0\n",
      "0\n",
      "0\n",
      "0\n",
      "0\n",
      "0\n",
      "0\n",
      "0\n",
      "0\n",
      "0\n",
      "0\n",
      "0\n",
      "0\n"
     ]
    }
   ],
   "source": [
    "# FACTORIAL\n",
    "f = 50\n",
    "\n",
    "a:np.int32 = 1\n",
    "#a = np.array([5], dtype=np.int32)\n",
    "for i in range(1,f+1):\n",
    "    a = np.dot(a,i)\n",
    "    print(a)"
   ]
  },
  {
   "cell_type": "markdown",
   "metadata": {},
   "source": [
    "Pokud pracujeme s daty mimo knihovnu Numpy, jazyk python při běžných operacích kontroluje přetečení a při jeho detekci expanduje reprezentaci čísla:"
   ]
  },
  {
   "cell_type": "code",
   "execution_count": 4,
   "metadata": {},
   "outputs": [
    {
     "name": "stdout",
     "output_type": "stream",
     "text": [
      "1\n",
      "2\n",
      "6\n",
      "24\n",
      "120\n",
      "720\n",
      "5040\n",
      "40320\n",
      "362880\n",
      "3628800\n",
      "39916800\n",
      "479001600\n",
      "1932053504\n",
      "1278945280\n",
      "2004310016\n",
      "2004189184\n",
      "-288522240\n",
      "-898433024\n",
      "109641728\n",
      "-2102132736\n",
      "-1195114496\n",
      "-522715136\n",
      "862453760\n",
      "-775946240\n",
      "2076180480\n",
      "-1853882368\n",
      "1484783616\n",
      "-1375731712\n",
      "-1241513984\n",
      "1409286144\n",
      "738197504\n",
      "-2147483648\n",
      "-2147483648\n",
      "0\n",
      "0\n",
      "0\n",
      "0\n",
      "0\n",
      "0\n",
      "0\n",
      "0\n",
      "0\n",
      "0\n",
      "0\n",
      "0\n",
      "0\n",
      "0\n",
      "0\n",
      "0\n",
      "0\n"
     ]
    }
   ],
   "source": [
    "# FACTORIAL - Python flexible integers\n",
    "f = 50\n",
    "\n",
    "a:np.int32 = 1\n",
    "#a = np.array([5], dtype=np.int32)\n",
    "for i in range(1,f+1):\n",
    "    a = np.dot(a,i)\n",
    "    print(a)"
   ]
  },
  {
   "cell_type": "markdown",
   "metadata": {},
   "source": [
    "<div style=\"margin-top: 25px; margin-bottom: 25px; padding-top: 0px; padding-bottom: 0px; padding-left: 0px; padding-right: 0px; border-radius: 4px; border-color: #F4330C; border-right-width: 1px; border-top-width: 1px; border-bottom-width: 1px; border-left-width: 3px; border-style: solid\">\n",
    "<div style=\"background: #F7C8C0; color: #000000; padding-left: 20px; padding-top: 10px; padding-bottom: 10px; border-radius: 1px 3px 0px 0px; font-weight: 600\">Pozor</div>\n",
    "<div style=\"padding-left: 20px; padding-right: 20px; padding-top: 0px; padding-bottom: 0px; border-radius: 0px 0px 3px 3px\">\n",
    "<p>\n",
    "\n",
    "Pro numerických výpočty jsou flexibilní typy nevhodné. Výpočet 32 a 64-bitové reprezentace probíhá v procesoru velmi efektivně během jednoho taktu. Zatímco výpočty čísel s více-bitovými reprezentacemi nejsou procesorem hardwarově podporovány a proto jednoduché aritmetické operace trvají několik, klidně desítek taktů! To by příliš zpomalovalo numerickou metodu. Proto budeme vždy pracovat s knihovnou Numpy, která používá jen pevné reprezentace čísel.\n",
    "</p>\n",
    "</div>\n",
    "</div>"
   ]
  },
  {
   "cell_type": "markdown",
   "metadata": {},
   "source": [
    "### Desetinná čísla\n",
    "\n",
    "Pro řešení úloh v reálné doméně potřebujeme reprezentovat desetinná čísla. Nejpoužívanější reprezentací je tzv. *floating-point* uložení desetinných čísel. Floating-point standard definuje základ $\\beta$, exponent $E$ and přesnost $p$. Obecně tato reprezentace vypadá následovně:\n",
    "\n",
    "$$ f = \\pm \\, d_1.d_2d_3 \\dots d_p \\times \\beta^E, $$\n",
    "\n",
    "kde $d_1.d_2d_3 \\dots d_p$ se nazývá *mantisa*.\n",
    "\n",
    "**Vlastnosti floating-point systému**\n",
    "- Nejmenší kladné číslo (může dojít k [podtečení](https://en.wikipedia.org/wiki/Arithmetic_underflow))\n",
    "- Největší číslo (může dojít k [přetečení](https://en.wikipedia.org/wiki/Integer_overflow))\n",
    "- [Strojová přesnost](https://en.wikipedia.org/wiki/Machine_epsilon), $\\varepsilon$, je definována jako rozdíl mezi hodnotou 1 a následujícím číslem, které lze uložit v floating-point reprezentaci (lze chápat jako horní odhad *relativní chyby* způsobené zaokrouhlováním při aritmetických operacích)\n",
    "- Definice speciálních hodnot values: *nuly* (`-0`, `+0`), *nekonečen* (`-Inf`, `+Inf`), [not a number](https://en.wikipedia.org/wiki/NaN) (`NaN`)\n",
    "\n",
    "![Floating-point reprezentace](../images/float_reprez.png)\n",
    "\n",
    "V knihovně Numpy máme opět k dispozici odpovídající typy `np.float32` a `np.float64` (= *double* je defaultní).\n",
    "\n",
    "<div style=\"margin-top: 25px; margin-bottom: 25px; padding-top: 0px; padding-bottom: 0px; padding-left: 0px; padding-right: 0px; border-radius: 4px; border-color: #276BE9; border-right-width: 1px; border-top-width: 1px; border-bottom-width: 1px; border-left-width: 3px; border-style: solid\">\n",
    "<div style=\"background: #DCE7FC; color: #000000; padding-left: 20px; padding-top: 10px; padding-bottom: 10px; border-radius: 1px 3px 0px 0px; font-weight: 600\">Poznámka</div>\n",
    "<div style=\"padding-left: 20px; padding-right: 20px; padding-top: 0px; padding-bottom: 0px; border-radius: 0px 0px 3px 3px\">\n",
    "<p>\n",
    "\n",
    "I dnes se v některých případech se hodí využít typy nižší přesnosti (`np.int32` a `np.float32`), jelikož aritmetické operace jsou s nimi rychlejší, obzvlášt na grafických kartách. Float32 se často používá jako reprezentace v neuronových sítí pro zrychlení trénovacího procesu.\n",
    "</p>\n",
    "</div>\n",
    "</div>"
   ]
  },
  {
   "cell_type": "markdown",
   "metadata": {},
   "source": [
    "Numpy defaultní floating-point typ:"
   ]
  },
  {
   "cell_type": "code",
   "execution_count": 5,
   "metadata": {},
   "outputs": [
    {
     "name": "stdout",
     "output_type": "stream",
     "text": [
      "float64\n"
     ]
    }
   ],
   "source": [
    "arr = np.array([1.5, 2.8, 7.9])\n",
    "print(arr.dtype)"
   ]
  },
  {
   "cell_type": "markdown",
   "metadata": {},
   "source": [
    "Knihovna Numpy poskytuje podrobné informace ke každému typu:"
   ]
  },
  {
   "cell_type": "code",
   "execution_count": 8,
   "metadata": {},
   "outputs": [
    {
     "name": "stdout",
     "output_type": "stream",
     "text": [
      "Machine parameters for float32\n",
      "---------------------------------------------------------------\n",
      "precision =   6   resolution = 1.0000000e-06\n",
      "machep =    -23   eps =        1.1920929e-07\n",
      "negep =     -24   epsneg =     5.9604645e-08\n",
      "minexp =   -126   tiny =       1.1754944e-38\n",
      "maxexp =    128   max =        3.4028235e+38\n",
      "nexp =        8   min =        -max\n",
      "smallest_normal = 1.1754944e-38   smallest_subnormal = 1.4012985e-45\n",
      "---------------------------------------------------------------\n",
      "\n"
     ]
    }
   ],
   "source": [
    "print(np.finfo(np.float32))"
   ]
  },
  {
   "cell_type": "code",
   "execution_count": 9,
   "metadata": {},
   "outputs": [
    {
     "name": "stdout",
     "output_type": "stream",
     "text": [
      "Machine parameters for float64\n",
      "---------------------------------------------------------------\n",
      "precision =  15   resolution = 1.0000000000000001e-15\n",
      "machep =    -52   eps =        2.2204460492503131e-16\n",
      "negep =     -53   epsneg =     1.1102230246251565e-16\n",
      "minexp =  -1022   tiny =       2.2250738585072014e-308\n",
      "maxexp =   1024   max =        1.7976931348623157e+308\n",
      "nexp =       11   min =        -max\n",
      "smallest_normal = 2.2250738585072014e-308   smallest_subnormal = 4.9406564584124654e-324\n",
      "---------------------------------------------------------------\n",
      "\n"
     ]
    }
   ],
   "source": [
    "print(np.finfo(np.float64))"
   ]
  },
  {
   "cell_type": "markdown",
   "metadata": {},
   "source": [
    "## Chyby ve výpočtech\n",
    "\n",
    "Týká se pouze výpočtů s desetinými čísly.\n",
    "Z definice floating-point reprezentace desetinných čísel je jasné, že není možné ukládat libovolné reálné číslo s absolutní přesností. Proto se ve výpočtech vždy objeví chyby. Zároveň provádění aritmetických operací vnese do výsledku další chybu vlivem zaokrouhlování, které je při konečné mantise potřeba.\n",
    "\n",
    "### Základní definice\n",
    "\n",
    "**Absolutní a relativní chyba**\n",
    "\n",
    "* Přesná hodnota: $x$\n",
    "* Přibližná hodnota hodnota: $\\tilde{x}$\n",
    "\n",
    "* Absolutní chyba: $A(x) = |\\tilde{x} - x| \\leq a(x)$, kde $a(x)$ je odhad absolutní chyby\n",
    "* Relativní chyba: $R(x) = \\frac{|\\tilde{x} - x|}{|x|} \\leq r(x)$, kde $r(x) \\approx \\frac{a(x)}{\\tilde{x}}$ je odhad relativní chyby\n",
    "\n",
    "* Intervalový odhad: $\\tilde{x} - a(x) \\leq x \\leq \\tilde{x} + a(x) \\rightarrow x \\approx \\tilde{x} \\pm a(x) \\rightarrow  x \\approx \\tilde{x} (1 \\pm r(x))$\n",
    "\n",
    "**Počet platných číslic**\n",
    "\n",
    "Relativní chyba $R$ odpovídá znalosti $p$ platných číslic, kde $p$ je největší celé číslo splňující: $R \\leq 5 \\times 10^{-p}$. Přesnosti výpočtů jsou tedy obvykle dané právě relativní chybou."
   ]
  },
  {
   "cell_type": "markdown",
   "metadata": {},
   "source": [
    "### Zdroje chyb\n",
    "\n",
    "Chyby v numerických výpočtech vznikají několika způsoby. V této kapitole se na jednotlivé zdroje chyb podíváme podrobně a ilustrujeme si je na příkladech. Také nás bude zajímat, jak se chyby ve výpočtech mohou *šířit* a *hromadit*.\n",
    "\n",
    "Ve zkratce máme:\n",
    "* **Chyby zaokrouhlovací** - způsobené konečnou reprezentací čísel v počítači\n",
    "* **Chyby metody** - vznikají aproximací, kterých se dopouštíme při převádění matematické úlohy na numerickou\n",
    "* **Chyby vstupních dat** - ztracení přesnosti při uložení desetinných čísel do počítače ve vybrané reprezentaci\n",
    "\n",
    "#### Chyby zaokrouhlovací\n",
    "\n",
    "Zaokrouhlovací chyby vznikají při ukládání desetinných čísel v počítači a při aritmetických operacích s těmito čísli. Kvůli konečné reprezentaci dochází k mnoha případům a *numerickým jevům*, které můžou vést k nečekanému zhoršení ale i zlepšení výsledku! Některé zajímavé případy si teď ukážeme."
   ]
  },
  {
   "cell_type": "markdown",
   "metadata": {},
   "source": [
    "V pythonu se defautně vypisují čísla zkráceně. Vypsat přesnou hodnotu můžeme následovně:"
   ]
  },
  {
   "cell_type": "code",
   "execution_count": 13,
   "metadata": {},
   "outputs": [
    {
     "name": "stdout",
     "output_type": "stream",
     "text": [
      "0.1 0.3\n",
      "0.2999999999999999888977697537484345957636833190917968750\n"
     ]
    }
   ],
   "source": [
    "print(0.1, 0.3)\n",
    "print(format(0.3, \".55f\"))"
   ]
  },
  {
   "cell_type": "markdown",
   "metadata": {},
   "source": [
    "<div style=\"margin-top: 25px; margin-bottom: 25px; padding-top: 0px; padding-bottom: 0px; padding-left: 0px; padding-right: 0px; border-radius: 4px; border-color: #00843F; border-right-width: 1px; border-top-width: 1px; border-bottom-width: 1px; border-left-width: 3px; border-style: solid\">\n",
    "<div style=\"background: #D6ECE1; color: #000000; padding-left: 20px; padding-top: 10px; padding-bottom: 10px; border-radius: 1px 3px 0px 0px; font-weight: 600\">Tip</div>\n",
    "<div style=\"padding-left: 20px; padding-right: 20px; padding-top: 0px; padding-bottom: 0px; border-radius: 0px 0px 3px 3px\">\n",
    "<p>\n",
    "\n",
    "Jelikož jsou čísla v počítači uložena v binární soustavě, většina desetinných čísel nemá přesnou reprezentaci. Číselný systém s desítkovou bází by toto nevýhodu sice neměl, ale výpočty v binární soustavě jsou výrazně rychlejší na počítači a jdou snadněji hardwarově implementovat.\n",
    "</p>\n",
    "</div>\n",
    "</div>"
   ]
  },
  {
   "cell_type": "markdown",
   "metadata": {},
   "source": [
    "**Chyba reprezentace**\n",
    "\n",
    "<div style=\"margin-top: 25px; margin-bottom: 25px; padding-top: 0px; padding-bottom: 0px; padding-left: 0px; padding-right: 0px; border-radius: 4px; border-color: #E0B32C; border-right-width: 1px; border-top-width: 1px; border-bottom-width: 1px; border-left-width: 3px; border-style: solid\">\n",
    "<div style=\"background: #FFF3CD; color: #000000; padding-left: 20px; padding-top: 10px; padding-bottom: 10px; border-radius: 1px 3px 0px 0px; font-weight: 600\">Úkol</div>\n",
    "<div style=\"padding-left: 20px; padding-right: 20px; padding-top: 0px; padding-bottom: 0px; border-radius: 0px 0px 3px 3px\">\n",
    "<p>\n",
    "\n",
    "Srovnejte následující dvě čísla: $0.1 + 0.2$ a $0.3$ pomocí operátoru `==`. Co vám vyšlo? Vypište obě čísla zvlášť.\n",
    "</p>\n",
    "</div>\n",
    "</div>"
   ]
  },
  {
   "cell_type": "code",
   "execution_count": 11,
   "metadata": {},
   "outputs": [
    {
     "name": "stdout",
     "output_type": "stream",
     "text": [
      "False 0.30000000000000004 0.3\n"
     ]
    }
   ],
   "source": [
    "## DOPLŇTE ##\n",
    "print(0.1 + 0.2 == 0.3, 0.1+0.2, 0.3)"
   ]
  },
  {
   "cell_type": "markdown",
   "metadata": {},
   "source": [
    "Vidíme, že součet dvou čísel již zanesl do výsledku malou chybu. Více se k tomuto můžete dozvědět [zde](https://docs.python.org/3/faq/design.html#why-are-floating-point-calculations-so-inaccurate).\n",
    "\n",
    "<div style=\"margin-top: 25px; margin-bottom: 25px; padding-top: 0px; padding-bottom: 0px; padding-left: 0px; padding-right: 0px; border-radius: 4px; border-color: #F4330C; border-right-width: 1px; border-top-width: 1px; border-bottom-width: 1px; border-left-width: 3px; border-style: solid\">\n",
    "<div style=\"background: #F7C8C0; color: #000000; padding-left: 20px; padding-top: 10px; padding-bottom: 10px; border-radius: 1px 3px 0px 0px; font-weight: 600\">Pozor</div>\n",
    "<div style=\"padding-left: 20px; padding-right: 20px; padding-top: 0px; padding-bottom: 0px; border-radius: 0px 0px 3px 3px\">\n",
    "<p>\n",
    "\n",
    "Z předchozí ukázky je zřejmé, že není vhodné používat operátor `==` na srovnávání desetinných čísel! Vždy použijte `<` nebo `<=`, jinak může váš algoritmus dávat špatné výsledky.\n",
    "</p>\n",
    "</div>\n",
    "</div>"
   ]
  },
  {
   "cell_type": "markdown",
   "metadata": {},
   "source": [
    "**Odečítání podobných čísel**\n",
    "\n",
    "Odečítání velmi blízkých čísel není vhodné, jelikož při tom vzniká velká relativní chyba. Dvě blízké čísla budou mít zvelké části stejnou mantisu. Po jejich odečtení dostaneme výsledek na malý počet platných číslic:\n",
    "\n",
    "$$\n",
    "a(x \\pm y) = a(x) + a(y) \\rightarrow r(x \\pm y) \\leq \\max{(a(x), a(y))} \\frac{a(x) + a(y)}{|x \\pm y|}\n",
    "$$\n",
    "\n",
    "Pokud $x \\approx y$, bude rozdíl $|x \\pm y| \\approx 0$ a tím pádem relativní chyba bude vysoká. Rozdílem blízkých čísel zesiluje původní chybu."
   ]
  },
  {
   "cell_type": "markdown",
   "metadata": {},
   "source": [
    "<div style=\"margin-top: 25px; margin-bottom: 25px; padding-top: 0px; padding-bottom: 0px; padding-left: 0px; padding-right: 0px; border-radius: 4px; border-color: #E0B32C; border-right-width: 1px; border-top-width: 1px; border-bottom-width: 1px; border-left-width: 3px; border-style: solid\">\n",
    "<div style=\"background: #FFF3CD; color: #000000; padding-left: 20px; padding-top: 10px; padding-bottom: 10px; border-radius: 1px 3px 0px 0px; font-weight: 600\">Úkol</div>\n",
    "<div style=\"padding-left: 20px; padding-right: 20px; padding-top: 0px; padding-bottom: 0px; border-radius: 0px 0px 3px 3px\">\n",
    "<p>\n",
    "\n",
    "Uvažujte následující funkci: \n",
    "$$\n",
    "f(x) = \\frac{1 - \\cos{x}}{x^2},\n",
    "$$\n",
    "pro kterou platí následující chování v okolí $0$:\n",
    "$$ \n",
    "\\lim_{x \\to 0} f(x) = \\frac{1}{2}. \n",
    "$$\n",
    "\n",
    "Odhadněte limitu přiblížným výpočtem hodnoty funkce $f(x)$ v bodě $1.2 \\times 10^{-8}$. Je výsledek správný? Pro jaké hodnoty $x$ dostáváte přesnější hodnotu? Jak se můžeme vyhnout rozdílu blízkych hodnot při výpoču funkce $f(x)$? \n",
    "</p>\n",
    "</div>\n",
    "</div>"
   ]
  },
  {
   "cell_type": "code",
   "execution_count": 107,
   "metadata": {},
   "outputs": [
    {
     "name": "stdout",
     "output_type": "stream",
     "text": [
      "0.9999999999999999 1.1102230246251565e-16 1.44e-16\n",
      "0.7709882115452477\n"
     ]
    }
   ],
   "source": [
    "## DOPLŇTE ##\n",
    "def f(x):\n",
    "    print(np.cos(x), 1 - np.cos(x), x**2)\n",
    "    return (1 - np.cos(x)) / x**2\n",
    "\n",
    "print(f(1.2e-8))"
   ]
  },
  {
   "cell_type": "markdown",
   "metadata": {},
   "source": [
    "**Asociativita**\n",
    "\n",
    "V počítači nemusí platit asiciativita sčítání $(a+b)+c = a+(b+c)$. Ilustrujeme to na následující úloze:\n",
    "\n",
    "<div style=\"margin-top: 25px; margin-bottom: 25px; padding-top: 0px; padding-bottom: 0px; padding-left: 0px; padding-right: 0px; border-radius: 4px; border-color: #E0B32C; border-right-width: 1px; border-top-width: 1px; border-bottom-width: 1px; border-left-width: 3px; border-style: solid\">\n",
    "<div style=\"background: #FFF3CD; color: #000000; padding-left: 20px; padding-top: 10px; padding-bottom: 10px; border-radius: 1px 3px 0px 0px; font-weight: 600\">Úkol</div>\n",
    "<div style=\"padding-left: 20px; padding-right: 20px; padding-top: 0px; padding-bottom: 0px; border-radius: 0px 0px 3px 3px\">\n",
    "<p>\n",
    "\n",
    "Spočítejte součet členů následující posloupnosti pro $n=400$ v dopředném a zpětném směru:\n",
    "$$\n",
    "0.9^0, \\ 0.9^1, \\ \\dots, \\ 0.9^n.\n",
    "$$\n",
    "Srovnejte výsledky a pokuste se je vysvětlit.\n",
    "</p>\n",
    "</div>\n",
    "</div>"
   ]
  },
  {
   "cell_type": "code",
   "execution_count": 58,
   "metadata": {},
   "outputs": [
    {
     "name": "stdout",
     "output_type": "stream",
     "text": [
      "9.999999999999993\n",
      "10.000000000000004\n"
     ]
    }
   ],
   "source": [
    "## DOPLŇTE ##\n",
    "base = 0.9\n",
    "n = 400\n",
    "\n",
    "S = 0\n",
    "for i in range(0,n+1):\n",
    "    S += base**i\n",
    "print(S)\n",
    "\n",
    "S = 0\n",
    "for i in range(n,-1,-1):\n",
    "    S += base**i\n",
    "print(S)"
   ]
  },
  {
   "cell_type": "markdown",
   "metadata": {},
   "source": [
    "<div style=\"margin-top: 25px; margin-bottom: 25px; padding-top: 0px; padding-bottom: 0px; padding-left: 0px; padding-right: 0px; border-radius: 4px; border-color: #276BE9; border-right-width: 1px; border-top-width: 1px; border-bottom-width: 1px; border-left-width: 3px; border-style: solid\">\n",
    "<div style=\"background: #DCE7FC; color: #000000; padding-left: 20px; padding-top: 10px; padding-bottom: 10px; border-radius: 1px 3px 0px 0px; font-weight: 600\">Poznámka</div>\n",
    "<div style=\"padding-left: 20px; padding-right: 20px; padding-top: 0px; padding-bottom: 0px; border-radius: 0px 0px 3px 3px\">\n",
    "<p>\n",
    "\n",
    "Při sčítání řady různě velkých čísel je tedy výhodnější nejdříve sčítat malé čísla a až pak větší. Pro efektivní a zárověň přesnější sčítání čísel lze využít například [Kahanův sčítací algoritmus](https://en.wikipedia.org/wiki/Kahan_summation_algorithm).\n",
    "</p>\n",
    "</div>\n",
    "</div>"
   ]
  },
  {
   "cell_type": "markdown",
   "metadata": {},
   "source": [
    "**Hromadění chyb 1**\n",
    "\n",
    "Na následujícím příkladu uvidíme, že malá chyba se může ve výpočtu postupně nahromadit.\n",
    "\n",
    "<div style=\"margin-top: 25px; margin-bottom: 25px; padding-top: 0px; padding-bottom: 0px; padding-left: 0px; padding-right: 0px; border-radius: 4px; border-color: #E0B32C; border-right-width: 1px; border-top-width: 1px; border-bottom-width: 1px; border-left-width: 3px; border-style: solid\">\n",
    "<div style=\"background: #FFF3CD; color: #000000; padding-left: 20px; padding-top: 10px; padding-bottom: 10px; border-radius: 1px 3px 0px 0px; font-weight: 600\">Úkol</div>\n",
    "<div style=\"padding-left: 20px; padding-right: 20px; padding-top: 0px; padding-bottom: 0px; border-radius: 0px 0px 3px 3px\">\n",
    "<p>\n",
    "\n",
    "Spočítejte $x = 0.1 + 0.2 - 0.3$ v dvojité přesnosti (`np.float64`). Poté 100-krát zopakujte výpočet $x = x + x$. Jak byste vysvětlili výsledek?\n",
    "</p>\n",
    "</div>\n",
    "</div>"
   ]
  },
  {
   "cell_type": "code",
   "execution_count": 20,
   "metadata": {},
   "outputs": [
    {
     "name": "stdout",
     "output_type": "stream",
     "text": [
      "5.551115123125783e-17\n",
      "70368744177664.0\n"
     ]
    }
   ],
   "source": [
    "## DOPLŇTE ##\n",
    "x:np.float64 = 0.1 + 0.2 - 0.3\n",
    "print(x)\n",
    "for i in range(100):\n",
    "    x = x + x\n",
    "print(x)"
   ]
  },
  {
   "cell_type": "markdown",
   "metadata": {},
   "source": [
    "**Hromadění chyb 2**\n",
    "\n",
    "Protipříklad hromadění chyb. Může se zdát, že k velkým chybám dochází až při mnoha výpočtech za sebou. Následující ukázka prokazuje opak.\n",
    "\n",
    "<div style=\"margin-top: 25px; margin-bottom: 25px; padding-top: 0px; padding-bottom: 0px; padding-left: 0px; padding-right: 0px; border-radius: 4px; border-color: #E0B32C; border-right-width: 1px; border-top-width: 1px; border-bottom-width: 1px; border-left-width: 3px; border-style: solid\">\n",
    "<div style=\"background: #FFF3CD; color: #000000; padding-left: 20px; padding-top: 10px; padding-bottom: 10px; border-radius: 1px 3px 0px 0px; font-weight: 600\">Úkol</div>\n",
    "<div style=\"padding-left: 20px; padding-right: 20px; padding-top: 0px; padding-bottom: 0px; border-radius: 0px 0px 3px 3px\">\n",
    "<p>\n",
    "\n",
    "Spočítejte hodnotu $e = \\exp(1) = 2.71828...$ pomocí vzorce $e = \\lim_{n \\to \\infty}{\\left(1 + \\frac{1}{n}\\right)^{n}}$. Vyhodnoďtě a vypistě přibližnou hodnotu $e$ pro $n = 10^k$, kde $k = 1..7$. Také spočítejte relativní chybu. Co pozorujete?\n",
    "\n",
    "<div style=\"margin-top: 25px; margin-bottom: 25px; padding-top: 0px; padding-bottom: 0px; padding-left: 0px; padding-right: 0px; border-radius: 4px; border-color: #00843F; border-right-width: 1px; border-top-width: 1px; border-bottom-width: 1px; border-left-width: 3px; border-style: solid\">\n",
    "<div style=\"background: #D6ECE1; color: #000000; padding-left: 20px; padding-top: 10px; padding-bottom: 10px; border-radius: 1px 3px 0px 0px; font-weight: 600\">Tip</div>\n",
    "<div style=\"padding-left: 20px; padding-right: 20px; padding-top: 0px; padding-bottom: 0px; border-radius: 0px 0px 3px 3px\">\n",
    "<p>\n",
    "\n",
    "Je potřeba Python donutit počítat ve fixním typu `np.float32`. Provádějte výpočet za pomocí numpy pole `np.array(n, dtype=np.float32)`.\n",
    "\n",
    "Může se vám hodit funkce `np.logspace(,,num=7,base=10)`.\n",
    "</p>\n",
    "</div>\n",
    "</div>\n",
    "</p>\n",
    "</div>\n",
    "</div>"
   ]
  },
  {
   "cell_type": "code",
   "execution_count": 48,
   "metadata": {},
   "outputs": [
    {
     "name": "stdout",
     "output_type": "stream",
     "text": [
      "[2.593743] [0.04581463]\n",
      "[2.7048113] [0.00495488]\n",
      "[2.7170508] [0.00045223]\n",
      "[2.718597] [0.00011657]\n",
      "[2.7219622] [0.00135458]\n",
      "[2.5952268] [0.04526881]\n",
      "[3.2939677] [0.21178378]\n"
     ]
    }
   ],
   "source": [
    "## DOPLŇTE ##\n",
    "e = 2.71828\n",
    "K = 7\n",
    "for n in np.logspace(1, 7, num=7, base=10):\n",
    "    arr = np.array([n], dtype=np.float32)\n",
    "    x = (1 + 1/arr)**arr\n",
    "    print(x, np.abs(e - x)/e)"
   ]
  },
  {
   "cell_type": "markdown",
   "metadata": {},
   "source": [
    "**Vzájemné vyrušení chyb**\n",
    "\n",
    "Někdy může dojít k několika chybám během výpočtu, které se v konečném výsledku vyruší. Toho lze využít pro zpřesnění určitých výpočtů.\n",
    "\n",
    "<div style=\"margin-top: 25px; margin-bottom: 25px; padding-top: 0px; padding-bottom: 0px; padding-left: 0px; padding-right: 0px; border-radius: 4px; border-color: #E0B32C; border-right-width: 1px; border-top-width: 1px; border-bottom-width: 1px; border-left-width: 3px; border-style: solid\">\n",
    "<div style=\"background: #FFF3CD; color: #000000; padding-left: 20px; padding-top: 10px; padding-bottom: 10px; border-radius: 1px 3px 0px 0px; font-weight: 600\">Úkol</div>\n",
    "<div style=\"padding-left: 20px; padding-right: 20px; padding-top: 0px; padding-bottom: 0px; border-radius: 0px 0px 3px 3px\">\n",
    "<p>\n",
    "\n",
    "Máme za úkol implementovat výpočet následující funkce pro libovolné $x$:\n",
    "$$\n",
    "f(x) = \\frac{e^{x} - 1}{x}.\n",
    "$$\n",
    "\n",
    "Implementujte následující dva rozdílné algoritmy a spočítejte hodnotu funkce $f(x)$ pro $x = 10^{-5}..10^{-16}$:\n",
    "\n",
    "1. If ($x = 0$) then $f = 1$; else $f = \\frac{e^{x} - 1}{x}$.\n",
    "2. $y = e^{x}$, If ($y = 1$) then f = 1; else $f = \\frac{y - 1}{\\log{y}}$.\n",
    "\n",
    "Který z algoritmů je přesnější? Vypistě hodnotu čitatele a jmenovatele v počítaném podílu. Dokážete vysvětlit větší přesnost jednoho z algoritmů?\n",
    "</p>\n",
    "</div>\n",
    "</div>"
   ]
  },
  {
   "cell_type": "code",
   "execution_count": 116,
   "metadata": {},
   "outputs": [
    {
     "data": {
      "text/plain": [
       "array([1.e-05, 1.e-06, 1.e-07, 1.e-08, 1.e-09, 1.e-10, 1.e-11, 1.e-12,\n",
       "       1.e-13, 1.e-14, 1.e-15, 1.e-16])"
      ]
     },
     "execution_count": 116,
     "metadata": {},
     "output_type": "execute_result"
    }
   ],
   "source": [
    "np.logspace(-5, -16, num=12, base=10)"
   ]
  },
  {
   "cell_type": "code",
   "execution_count": 119,
   "metadata": {},
   "outputs": [
    {
     "name": "stdout",
     "output_type": "stream",
     "text": [
      "1.000005000006965 1.0000050000166667\n",
      "1.000000616442873 1.000000616423623\n",
      "1.0000000764311845 1.000000075995558\n",
      "1.0000000062384284 1.000000009369087\n",
      "0.9999999753484707 1.0000000011550647\n",
      "0.9999997446031695 1.0000000001424016\n",
      "0.9999998870652326 1.000000000017556\n",
      "0.9999996054137743 1.0000000000021643\n",
      "0.9998187316137019 1.000000000000267\n",
      "0.9989646455689632 1.0000000000000329\n",
      "1.012863778612346 1.000000000000004\n",
      "1.1102230246251565 1.0000000000000004\n",
      "1.1102230246251565e-15 1e-15 1.110223024625156e-15\n"
     ]
    }
   ],
   "source": [
    "## DOPLŇTE ##\n",
    "\n",
    "# 1., 2.\n",
    "for i in np.logspace(-5, -15, num=12, base=10):\n",
    "    print((np.exp(i) - 1)/i, (np.exp(i) - 1)/np.log(np.exp(i)))\n",
    "    \n",
    "print((np.exp(i) - 1), i, np.log(np.exp(i)))"
   ]
  },
  {
   "cell_type": "markdown",
   "metadata": {},
   "source": [
    "##### Závěr\n",
    "\n",
    "- Jak jsme viděli, některé operace ve floating-point aritmetice nejsou přesné. Obecně **neplatí** *komutativita*, *asiciativita* a *distributivita*. Je dobré mít zejména na paměti následující:\n",
    "\n",
    "$$\n",
    "\\begin{align}\n",
    "& x \\cdot x^{-1} \\neq 1, \\\\\n",
    "& (1 + x) - 1 \\neq x, \\\\\n",
    "& (x + y) + z \\neq x + (y + z) \n",
    "\\end{align}\n",
    "$$\n",
    "\n",
    "- Přesto existují operace, které jsou přesné:\n",
    "\n",
    "$$\n",
    "\\begin{align}\n",
    "& 1 \\cdot x = x, \\\\\n",
    "& x \\cdot y = y \\cdot x, \\\\\n",
    "& x + x = 2 \\cdot x\n",
    "\\end{align}\n",
    "$$\n",
    "\n",
    "- Chyby se v postupných výpočtech šíří. V některých případech se můžou odečítat, někdy naopak zesilovat nebo hromadit!\n",
    "\n",
    "**Čemu se zejména vyhnout, abychom minimalizovali zaokrouhlovací chyby?**\n",
    "\n",
    "- odčítání blízkých čísel\n",
    "- odečítaní i sčítání čísel velmi odlišných řádů"
   ]
  },
  {
   "cell_type": "markdown",
   "metadata": {},
   "source": [
    "#### Chyby metody\n",
    "\n",
    "V případě kdy řešíme úlohu, která v matematické formulaci vyžaduje k vyřešení nekonečný počet kroků, nedokážeme napsat přesný algoritmus. Při převedení na numerickou úlohu se budeme muset dopustit jisté aproximace, aby bylo možné řešení spočítat v **konečném počtu kroků**.\n",
    "\n",
    "Typycky výsledná numerická metoda je jistého **řádu**, určující závislost chyby metody na počtu kroků.\n",
    "\n",
    "**Big-O notace**\n",
    "\n",
    "Tato notace ukazuje řádovou závislost chyby na jistém rozměru úlohy (velikost kroku numerické metody).\n",
    "\n",
    "Definice:\n",
    "$$\n",
    "f(x) =  O(g(x)) \\quad \\text{as} \\quad x \\rightarrow a\n",
    "$$ \n",
    "\n",
    "přávě tehdy když\n",
    "\n",
    "$$\n",
    "|f(x)| \\leq M |g(x)| \\quad \\text{as}\\quad  |x - a| < \\delta \\quad \\text{where} \\quad M, a > 0.\n",
    "$$ \n",
    "\n",
    "Tedy [big-O](https://en.wikipedia.org/wiki/Big_O_notation) notace vyjadřuje, že chyba v určité limitě ($x$ jdoucí k $a$, většinou $a = 0$ nebo $a = \\infty$) nepřekročí hodnotu funkce $g$, až na konstantu $M$."
   ]
  },
  {
   "cell_type": "markdown",
   "metadata": {},
   "source": [
    "Uvažujme následující úlohu z matematické analýzy - Taylorův rozvoj funkce: \n",
    "\n",
    "* $f(x+h)=\\sum_{n=0}^{\\infty}\\dfrac{f^{(n)}(x)}{n!}h^{n} = \\sum_{n=0}^{\\alpha-1}\\dfrac{f^{(n)}(x)}{n!}h^{n} + O(h^{\\alpha})$\n",
    "* Řád metody $\\alpha$: chyba veličiny úměrná $h^{\\alpha}$\n",
    "\n",
    "<div style=\"margin-top: 25px; margin-bottom: 25px; padding-top: 0px; padding-bottom: 0px; padding-left: 0px; padding-right: 0px; border-radius: 4px; border-color: #E0B32C; border-right-width: 1px; border-top-width: 1px; border-bottom-width: 1px; border-left-width: 3px; border-style: solid\">\n",
    "<div style=\"background: #FFF3CD; color: #000000; padding-left: 20px; padding-top: 10px; padding-bottom: 10px; border-radius: 1px 3px 0px 0px; font-weight: 600\">Úkol</div>\n",
    "<div style=\"padding-left: 20px; padding-right: 20px; padding-top: 0px; padding-bottom: 0px; border-radius: 0px 0px 3px 3px\">\n",
    "<p>\n",
    "\n",
    "Zkonstruujte Taylorův rozvoj následující funkce v bodě $a=x-h=0$ ([Maclaurinova řada](https://cs.wikipedia.org/wiki/Taylorova_%C5%99ada#Maclaurinova_%C5%99ada)):\n",
    "$$\n",
    "f(x) = e^x = \\sum_{n}{\\frac{x^n}{n!}}\n",
    "$$\n",
    "s využitím prvních 3 členů řady. \n",
    "1. Vykreslete do jednoho grafu funkci $e^x$ a aproximaci funkce $f(x)$ na intervalu $[-1, 1]$.\n",
    "2. Spočítejte absolutní a relativní chyby v tomto intervalu a vykreslete do druhého grafu. Najděte maximum chyby.\n",
    "\n",
    "<div style=\"margin-top: 25px; margin-bottom: 25px; padding-top: 0px; padding-bottom: 0px; padding-left: 0px; padding-right: 0px; border-radius: 4px; border-color: #00843F; border-right-width: 1px; border-top-width: 1px; border-bottom-width: 1px; border-left-width: 3px; border-style: solid\">\n",
    "<div style=\"background: #D6ECE1; color: #000000; padding-left: 20px; padding-top: 10px; padding-bottom: 10px; border-radius: 1px 3px 0px 0px; font-weight: 600\">Tip</div>\n",
    "<div style=\"padding-left: 20px; padding-right: 20px; padding-top: 0px; padding-bottom: 0px; border-radius: 0px 0px 3px 3px\">\n",
    "<p>\n",
    "\n",
    "Pro vyhodnocení faktoriálu můžete použít funkci `np.math.factorial`.\n",
    "</p>\n",
    "</div>\n",
    "</div>\n",
    "</p>\n",
    "</div>\n",
    "</div>"
   ]
  },
  {
   "cell_type": "code",
   "execution_count": 209,
   "metadata": {},
   "outputs": [
    {
     "data": {
      "image/png": "[encoded data removed]",
      "text/plain": [
       "<Figure size 1200x500 with 2 Axes>"
      ]
     },
     "metadata": {},
     "output_type": "display_data"
    }
   ],
   "source": [
    "## DOPLŇTE ##\n",
    "\n",
    "def f(x, N):\n",
    "    fx = 0\n",
    "    for n in np.arange(0, N):\n",
    "        fx += x**n / np.math.factorial(n)\n",
    "    return fx\n",
    "\n",
    "plt.figure(figsize=(12,5))\n",
    "plt.subplot(121)\n",
    "xx = np.linspace(-1, 1, 10)\n",
    "ff = f(xx, N=3)\n",
    "fe = np.exp(xx)\n",
    "plt.plot(xx, ff, label=r'$e^x$')\n",
    "plt.plot(xx, fe, 'r--', label='f(x)')\n",
    "plt.legend()\n",
    "\n",
    "abs_err = (fe - ff)\n",
    "rel_err = abs_err / fe\n",
    "plt.subplot(122)\n",
    "plt.plot(xx, abs_err, label='abs_err')\n",
    "plt.plot(xx, rel_err, 'r--', label='rel_err')\n",
    "plt.legend();"
   ]
  },
  {
   "cell_type": "markdown",
   "metadata": {},
   "source": [
    "**Vztah chyb**\n",
    "\n",
    "Je dobré mít na paměti, že i když teoreticky může s menším krokem jít chyba metody k nule, vždy se budou ve výpočtu vyskytovat chyby zaokrouhlovací!\n",
    "Vzájemný vztah těchto dvou chyb ilustruje následující obrázek:\n",
    "\n",
    "![Vztah chyb](../images/vztah_chyb.png)"
   ]
  },
  {
   "cell_type": "markdown",
   "metadata": {},
   "source": [
    "#### Chyby vstupních dat\n",
    "\n",
    "Vstupní data jsou hodnoty, které vkládáme do počítače. Při jejich uložení již dojde ke zaokrouhlovací chybě, která již může způsobit chybný výsledek.\n",
    "\n",
    "<div style=\"margin-top: 25px; margin-bottom: 25px; padding-top: 0px; padding-bottom: 0px; padding-left: 0px; padding-right: 0px; border-radius: 4px; border-color: #E0B32C; border-right-width: 1px; border-top-width: 1px; border-bottom-width: 1px; border-left-width: 3px; border-style: solid\">\n",
    "<div style=\"background: #FFF3CD; color: #000000; padding-left: 20px; padding-top: 10px; padding-bottom: 10px; border-radius: 1px 3px 0px 0px; font-weight: 600\">Úkol</div>\n",
    "<div style=\"padding-left: 20px; padding-right: 20px; padding-top: 0px; padding-bottom: 0px; border-radius: 0px 0px 3px 3px\">\n",
    "<p>\n",
    "\n",
    "Implementujte metodu, která najde všechna řešení kvadratické rovnice:\n",
    "$$\n",
    "a x^2 + bx + c = 0.\n",
    "$$\n",
    "\n",
    "Najděte kořeny pro $a = 1/3, b = \\sqrt{4*7*1/3}, c = 7$. Funguje vaše metoda správně? Kolik nalezla kořenů?\n",
    "</p>\n",
    "</div>\n",
    "</div>"
   ]
  },
  {
   "cell_type": "code",
   "execution_count": 184,
   "metadata": {},
   "outputs": [
    {
     "name": "stdout",
     "output_type": "stream",
     "text": [
      "1.7763568394002505e-15\n",
      "(-9.165151263471135, -9.165151263471135)\n"
     ]
    }
   ],
   "source": [
    "## DOPLŇTE ##\n",
    "\n",
    "def kvad_koreny(a,b,c):\n",
    "    D = b**2 - 4*a*c\n",
    "    print(D)\n",
    "    if (D > 0):\n",
    "        return (-b + np.sqrt(D))/a, (-b + np.sqrt(D))/a\n",
    "    elif (D < 0):\n",
    "        return None\n",
    "    else:\n",
    "        return -b/a\n",
    "\n",
    "#b**2 = 4*a*c\n",
    "print(kvad_koreny(1/3, np.sqrt(4*7*1/3), 7))"
   ]
  },
  {
   "cell_type": "markdown",
   "metadata": {},
   "source": [
    "## Stabilita\n",
    "\n",
    "Numerická metoda může za uřčitých podmínek zesilovat zaokrouhlovací chyby, které se vyskytnou z počátku výpočtu. Takovým metodám se říká nestabilní. U takových metod nepomůže snížit krok.\n"
   ]
  },
  {
   "cell_type": "markdown",
   "metadata": {},
   "source": [
    "\n",
    "<div style=\"margin-top: 25px; margin-bottom: 25px; padding-top: 0px; padding-bottom: 0px; padding-left: 0px; padding-right: 0px; border-radius: 4px; border-color: #E0B32C; border-right-width: 1px; border-top-width: 1px; border-bottom-width: 1px; border-left-width: 3px; border-style: solid\">\n",
    "<div style=\"background: #FFF3CD; color: #000000; padding-left: 20px; padding-top: 10px; padding-bottom: 10px; border-radius: 1px 3px 0px 0px; font-weight: 600\">Úkol</div>\n",
    "<div style=\"padding-left: 20px; padding-right: 20px; padding-top: 0px; padding-bottom: 0px; border-radius: 0px 0px 3px 3px\">\n",
    "<p>\n",
    "\n",
    "S využitím jednoduché přesnosti (`np.float16`) spočítejte prvních 20 mocnic zlatého řezu:\n",
    "\n",
    "$$\n",
    "\\phi = \\frac{\\sqrt{5} - 1}{2}.\n",
    "$$\n",
    "    \n",
    "Použijte následující rekurentní vzorec $(\\phi^{0} = 1, \\phi^{1} = \\phi)$:\n",
    "    \n",
    "$$\n",
    "\\phi^{n+1} = \\phi^{n-1} - \\phi^{n}.\n",
    "$$\n",
    "\n",
    "Porovnejte s hodnotami vypočtenými přímým umocněním. Vykreslete do grafu jak hodnoty, tak relativní chybu.\n",
    "</p>\n",
    "</div>\n",
    "</div>"
   ]
  },
  {
   "cell_type": "code",
   "execution_count": 208,
   "metadata": {},
   "outputs": [
    {
     "name": "stdout",
     "output_type": "stream",
     "text": [
      "0.6180339887498949\n"
     ]
    },
    {
     "data": {
      "image/png": "[encoded data removed]",
      "text/plain": [
       "<Figure size 1200x500 with 2 Axes>"
      ]
     },
     "metadata": {},
     "output_type": "display_data"
    }
   ],
   "source": [
    "## DOPLŇTE ##\n",
    "phi = (np.sqrt(5) - 1) / 2\n",
    "print(phi)\n",
    "\n",
    "N = 20\n",
    "phis = np.zeros(N, dtype=np.float16)\n",
    "phis2 = np.zeros(N, dtype=np.float16)\n",
    "phis[0] = 1\n",
    "phis[1] = phi\n",
    "phis2[0] = 1\n",
    "phis2[1] = phi\n",
    "for i in range(2, N):\n",
    "    phis[i] = phis[i-2] - phis[i-1]\n",
    "    phis2[i] = phi**i\n",
    "\n",
    "plt.figure(figsize=(12,5))\n",
    "plt.subplot(121)\n",
    "plt.plot(phis, '.-', label='odčítání')\n",
    "plt.plot(phis2, label='násobení')\n",
    "plt.legend()\n",
    "\n",
    "plt.subplot(122)\n",
    "plt.plot(np.abs(phis2-phis)/phis2, '.-')\n",
    "plt.yscale('log')\n",
    "plt.title('relativni chyba');"
   ]
  },
  {
   "cell_type": "markdown",
   "metadata": {},
   "source": [
    "<div style=\"margin-top: 25px; margin-bottom: 25px; padding-top: 0px; padding-bottom: 0px; padding-left: 0px; padding-right: 0px; border-radius: 4px; border-color: #E0B32C; border-right-width: 1px; border-top-width: 1px; border-bottom-width: 1px; border-left-width: 3px; border-style: solid\">\n",
    "<div style=\"background: #FFF3CD; color: #000000; padding-left: 20px; padding-top: 10px; padding-bottom: 10px; border-radius: 1px 3px 0px 0px; font-weight: 600\">Úkol - zápočet 1</div>\n",
    "<div style=\"padding-left: 20px; padding-right: 20px; padding-top: 0px; padding-bottom: 0px; border-radius: 0px 0px 3px 3px\">\n",
    "<p>\n",
    "\n",
    "[ZDE](ukol1)\n",
    "</p>\n",
    "</div>\n",
    "</div>"
   ]
  }
 ],
 "metadata": {
  "kernelspec": {
   "display_name": "Python 3",
   "language": "python",
   "name": "python3"
  },
  "language_info": {
   "codemirror_mode": {
    "name": "ipython",
    "version": 3
   },
   "file_extension": ".py",
   "mimetype": "text/x-python",
   "name": "python",
   "nbconvert_exporter": "python",
   "pygments_lexer": "ipython3",
   "version": "3.10.7"
  }
 },
 "nbformat": 4,
 "nbformat_minor": 2
}
