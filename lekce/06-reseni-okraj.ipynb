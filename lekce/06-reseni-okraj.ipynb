{
 "cells": [
  {
   "cell_type": "markdown",
   "metadata": {},
   "source": [
    "# Řešení diferenciálních rovnic s okrajovou podmínkou\n",
    "\n",
    "\n",
    "V předchozím cvičení jsme se zabývali metodami na řešení *počáteční úlohy* tvaru:\n",
    "\n",
    "$$\n",
    "\\frac{d \\vec{y}}{dx} = f(x, \\vec{y}), \\quad \\vec{y}(0) = \\vec{y}_0.\n",
    "$$\n",
    "\n",
    "Tato úloha představuje soustavu obyčejných diferenciálních rovnic 1. řádu s počáteční podmínkou $\\vec{y}(0) = \\vec{y}_0$. Tedy známe řešení $\\vec{y}$ v nějakém konkrétním bodě.\n",
    "\n",
    "V dnešním cvičení si představíme numerické metody řešící *okrajové úlohy*. Oproti počáteční úloze budeme znát část řešení ve více bodech. Pro $N=2$ můžeme například mít $y_0(0) = 0$ a $y_1(1) = 0$ nebo $y_0(0) = 0$ a $y_0(1) = 0$. Druhý případ je běžnější, proto se dále budeme zabývat pouze jím.\n",
    "\n",
    "Omezíme se na řešení soustavy **dvou** ODR, která odpovídá diferenciální rovnici druhého řádu:\n",
    "\n",
    "$$ \n",
    "y^{\\prime \\prime} = f(x, y(x), y^{\\prime}(x)), \\quad x \\in [a, b], \\quad y(a) = \\alpha_1, \\quad y(b) = \\alpha_2,\n",
    "$$\n",
    "\n",
    "kde máme dvě okrajové podmínky pro funkci $y$ v bodech $a$ a $b$. Okrajová úloha již nelze řešit stejným způsobem, jako počáteční. Neznáme totiž celé jednoznačné řešení (hodnotu funkce $y$ i její derivace $y^{\\prime}$) v jednom konkrétním bodě, ze kterého bychom mohli řešení vyvíjet - integrovat pravou stranu soustavy ODR.\n",
    "\n",
    "Zde si představíme dvě metody na řešení okrajových úloh:\n",
    "* Metoda střelby\n",
    "* Metoda sítí (konečných diferencí)"
   ]
  },
  {
   "cell_type": "code",
   "execution_count": null,
   "metadata": {},
   "outputs": [],
   "source": [
    "import numpy as np\n",
    "import matplotlib.pyplot as plt\n",
    "from scipy import linalg, integrate, optimize"
   ]
  },
  {
   "cell_type": "markdown",
   "metadata": {},
   "source": [
    "## Metoda střelby\n",
    "\n",
    "Tato metoda je inspirovaná úlohou střelby na cíl v homogenním gravitačním poli Země.\n",
    "\n",
    "![Střelba z kanónu](../images/shootingmethod.png)\n",
    "\n",
    "Řekněme, že máme kanón na pozici $x = a$ a cíl na pozici $x = b$. Zřejmě nás zajímá, pod jakým úhlem vystřelit a jakou silou (kolik použít střelného prachu), aby koule zasáhla cíl. Víme, že hmotný objekt se v gravitačním poli Země řídí pohybovou rovnicí (zde neuvažujeme odpor vzduchu):\n",
    "\n",
    "$$\n",
    "m \\ddot{\\vec{r}} = - m\\vec{g}.\n",
    "$$\n",
    "\n",
    "Na začátku známe pouze polohu kanónu a cíle, což odpovídá:\n",
    "\n",
    "$$\n",
    "\\vec{r}(0) = [x_0, y_0] = [a, 0], \\quad \\vec{r}(T) = [x_T, y_T] = [b, 0],\n",
    "$$\n",
    "\n",
    "kde $T$ značí čas dopadu koule zpátky na zem. Tato úloha je *okrajovou úlohou*, jelikož známe použe část řešení (polohy ale ne rychlosti) na začátku a na konci. Bez znalosti počátečních rychlostí (velikosti rychlosti a náměru děla) nedokážeme řešení vyvíjet integrováním pravé strany.\n",
    "Metodu střelby si dále ukázeme na obecné diferenciální rovnici 2. řádu a k úloze střelby z kanónu se vrátíme v zápočtovém úkolu 5. \n",
    "\n",
    "Uvažujme opět následující okrajovou úlohu:\n",
    "\n",
    "$$ \n",
    "y^{\\prime \\prime} = f(x, y(x), y^{\\prime}(x)), \\quad x \\in [a, b], \\quad y(a) = \\alpha_1, \\quad y(b) = \\alpha_2,\n",
    "$$\n",
    "\n",
    "Řešení pomocí metody střelby spočívá v následujících krocích:\n",
    "1. náhodně zvolíme počáteční hodnotu derivace $y^{\\prime}(a) = \\beta$\n",
    "2. vyřešíme počáteční úlohu:\n",
    "\n",
    "$$\n",
    "\\begin{align}\n",
    "& y^{\\prime}(x) = z(x), \\quad &y(a) = \\alpha_1 \\\\\n",
    "& z^{\\prime}(x) = f(x, y(x), z(x)), \\quad &z(a) = y^{\\prime}(a) = \\beta\n",
    "\\end{align}\n",
    "$$\n",
    "\n",
    "3. tím získáme $y(b; \\beta)$\n",
    "4. řešíme nelineální rovnici $F(\\beta) = y(b; \\beta) - \\alpha_2 = 0$ tím, že opakujeme kroky 1-3\n",
    "\n",
    "Na krok 4 je možné aplikovat libovolnou z metod představených v [předchozím cvičení](nelin-rce). Jednoduchou volbou je *bisekce*, tedy máme na začátku dva odhady $\\beta_1$ a $\\beta_2$ takové, že $F(\\beta_1) F(\\beta_2) < 0$ (jednou přestřelíme cíl, podruhé podstřelíme). My v následujícím kódu využijeme *Newton-Rapsonovu metodu*."
   ]
  },
  {
   "cell_type": "code",
   "execution_count": null,
   "metadata": {},
   "outputs": [],
   "source": [
    "# vstupni matice pro reseni pocatecniho problemu - resime dve rovnice prvniho radu\n",
    "def F(t,s):\n",
    "    return np.dot(np.array([[0,1],[0,-9.81/s[1]]]),s)    \n",
    "\n",
    "# prvni pocatecni podminka y(t=0)=0\n",
    "y0 = 0\n",
    "\n",
    "# odhad pocatecni rychlosti rakety\n",
    "v0 = 10\n",
    "\n",
    "# cas\n",
    "t_rozsah = np.linspace(0, 5, 100)\n",
    "# reseni pocatecniho problemu pomoci integrovane funkce solve_ivp() pro pocatecni podminky y0 a v0\n",
    "# funkce vrati hodnoty promenne t a prislusna reseni: y = y[0], y'= y[1]\n",
    "reseni = solve_ivp(F, [0, 5], [y0, v0], method='RK45', t_eval = t_rozsah)\n",
    "\n",
    "fig, ax = plt.subplots(figsize=(10,5))\n",
    "ax.plot(reseni.t, reseni.y[0],label='reseni')\n",
    "ax.scatter(5, 50, marker='x',color='C1',label='cil')\n",
    "ax.set_xlabel('t [s]')\n",
    "ax.set_ylabel('y [m]')\n",
    "ax.set_xlim(0,6)\n",
    "ax.set_ylim(0,100)\n",
    "ax.legend()"
   ]
  },
  {
   "cell_type": "code",
   "execution_count": null,
   "metadata": {},
   "outputs": [],
   "source": []
  },
  {
   "cell_type": "code",
   "execution_count": null,
   "metadata": {},
   "outputs": [],
   "source": []
  },
  {
   "cell_type": "markdown",
   "metadata": {},
   "source": [
    "## Metody sítí (konečných diferencí)\n"
   ]
  },
  {
   "cell_type": "code",
   "execution_count": null,
   "metadata": {},
   "outputs": [],
   "source": []
  }
 ],
 "metadata": {
  "language_info": {
   "name": "python"
  }
 },
 "nbformat": 4,
 "nbformat_minor": 2
}
